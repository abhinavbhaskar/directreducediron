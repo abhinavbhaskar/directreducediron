{
 "cells": [
  {
   "cell_type": "markdown",
   "metadata": {},
   "source": [
    "# Direct reduction of iron ore with hydrogen : Modelling \n"
   ]
  },
  {
   "cell_type": "markdown",
   "metadata": {},
   "source": [
    "## Assumptions for the modelling "
   ]
  },
  {
   "cell_type": "markdown",
   "metadata": {},
   "source": [
    "1. All calculations are done for the production of 1 ton of liquid steel from the system.\n",
    "2. 5$\\%$impurities are present in the raw materials.The assumption is consistent with the plant data available in the literature.Primary components of the impurities are silica and alumina.\n",
    "3. The iron ore pellets are heated from ambient temperature to 800 C,through an electrical heater of efficiency, $\\eta_{thermal}=0.85$.\n",
    "4. Output from the shaft furnace would be metallic Fe and FeO.Remaining FeO will be reduced to pure iron in the electric arc furnace. Although, in practice some amount of FeO does not get reduced and becomes a part of the EAF slag.\n",
    "5. Hydrogen at high temperature is considered to be the source of energy for the reactions inside the shaft furnace.\n",
    "6.  The flow rate of hydrogen is considered to be higher than the stoichiometric requirements.\n",
    "7.  Hydrogen produced from electrolysers are heated in an electrical heater with an efficiency of $\\eta_{thermal}=0.7$.\n",
    "\n",
    "8. DRI stream exiting the shaft furnace is considered to be at a temperature of  800\\textdegree C).\n",
    "9. The exhaust gas stream is assumed to be composed of hydrogen and water.The waste stream enthalpy varies with exhaust gas temperature and $\\lambda_{h{2}}$.\n",
    "10.  Energy required to separate hydrogen and water from the waste stream is not considered in the present calculations.\n",
    "11. 100\\% DRI is fed into the furnace without any scrap. \n",
    "12.  Hot DRI is fed into the DRI at 700 C as it saves considerable amount of electrical energy in the EAF.\n",
    "13.  Natural gas is not used for heating the material as its the general practice to use natural gas with \n",
    "     scrap for initial heating.\n",
    "14.  As DRI is reduced only with Hydrogen, it is assumed that it does not contain any Fe3C\n",
    "15.  Carbon is added into the EAF to reduce the remaining FeO in the mix and also to generate CO for froth formation,which is essential for the operation of the EAF and to extend the life of the graphite electrodes and the refractory.\n",
    "16.  CaO and MgO are added in the EAF as slag formers to maintain the basicity of the EAF.The weight of CaO and MgO used are according to data published in the literature .\n",
    "\n",
    "17. Efficiency parameters used in the model for electrical and chemical energy are according to the reference .\n",
    "18.  Latent heat of fusion is added in the enthalpy calculations for Fe and FeO.\n"
   ]
  },
  {
   "cell_type": "markdown",
   "metadata": {},
   "source": [
    "<img src=\"HDRI_electrolysis_08_10.png\">"
   ]
  },
  {
   "cell_type": "markdown",
   "metadata": {},
   "source": [
    "# Mass and energy balance for a direct reduction shaft furnace \n",
    "\n",
    "Iron ore pellets containing upto 5% impurities eneter the direct shaft furnace after being heated to the reaction temperature of $800 C $ by electrical heaters.\n"
   ]
  },
  {
   "cell_type": "markdown",
   "metadata": {},
   "source": [
    "${M_{Fe_{2}O_{3}}=\\frac{1}{({Fe_{2}O_{3}}_{pure}*FeO_{ratio})}}$ <br />\n",
    "Where, <br />\n",
    "$M_{Fe_{2}O_{3}}$= Mass flow rate of iron ore for production of 1 ton of liquid steel in kg/tls<br />\n",
    "${Fe_{2}O_{3}}_{pure}$=Percentage of pure iron ore in the iron ore stream (assumed to be 0.95)<br />\n",
    "$FeO_{ratio}$=Ratio of molecular weight of iron contained in iron oxide (0.7) <br />\n"
   ]
  },
  {
   "cell_type": "code",
   "execution_count": 1,
   "metadata": {},
   "outputs": [
    {
     "name": "stdout",
     "output_type": "stream",
     "text": [
      "FeO percentage : [0.06000000000000005, 0.06999999999999995, 0.07999999999999996, 0.08999999999999997, 0.09999999999999996, 0.10999999999999999]\n",
      "Weight of iron ore fed to the shaft furnace to produce one ton of liquid steel in the DRI_EAF process : 1.5037593984962407\n"
     ]
    }
   ],
   "source": [
    "import pandas as pd \n",
    "import matplotlib.pyplot as plt\n",
    "import numpy as np\n",
    "alpha=[0.94,0.93,0.92,0.91,0.90,0.89] # Metallization rates considered for the DRI reduction shaft furnace\n",
    "fe2O3_pure=0.95 # Percentage of hematite in the raw material. 5% Impurities are considered in the iron ore which gets transferred into the EAF as it is \n",
    "Fe_O_ratio=112/160 # percentage of iron in one mole of iron ore \n",
    "hem_weight=1/(fe2O3_pure*Fe_O_ratio)# Weight of total iron ore fed to the DRI and EAF to get 1 ton of liquid steel\n",
    "Feo_per=[]\n",
    "for i in range(len(alpha)):\n",
    "    Feo_per.append(hem_weight*fe2O3_pure*(1-alpha[i])*Fe_O_ratio) # Depends on the slag content , metallization rate \n",
    "print(\"FeO percentage :\",Feo_per)\n",
    "Feo_weight=[]\n",
    "for i in range(len(Feo_per)):\n",
    "    Feo_weight.append(Feo_per[i]*hem_weight)\n",
    "    \n",
    "\n",
    "SIO2_per=3 # Percentage of silica in the Slag \n",
    "Al2O3_per=2 #Percentage of alumina in the Slag\n",
    "#CAO_percentage=4.5 #Percentage of lime added in the EAF slag is higher for DRI as the gangue content is higher making the system acidic\n",
    "#MGO_percentage=0.53 #Percentage of Magnesium oxide in the EAF slag\n",
    "SIO2_weight=(hem_weight*SIO2_per)/100 # SiO2 weight in ton \n",
    "AL2O3_weight=(hem_weight*Al2O3_per)/100 # weight in ton\n",
    "print(\"Weight of iron ore fed to the shaft furnace to produce one ton of liquid steel in the DRI_EAF process :\",hem_weight)\n"
   ]
  },
  {
   "cell_type": "code",
   "execution_count": 2,
   "metadata": {},
   "outputs": [],
   "source": [
    "m_fe2o3=hem_weight # mass flow rate of iron ore into the shaft \n",
    "m_sio2=SIO2_weight # mass flow rate of Silica into the shaft \n",
    "m_al2o3=AL2O3_weight # mass flow rate of Alumina into the shaft \n",
    "m_feo=Feo_weight # mass flow rate of Wustite from the DRI shaft furnace to the EAF\n"
   ]
  },
  {
   "cell_type": "markdown",
   "metadata": {},
   "source": [
    "Mass flow rate of iron ore into the shaft : $M_{Fe_{2}O_{3}}$  <br />\n",
    "Mass flow rate of Silica into the shaft : $M_{Sio_{2}}$   <br /> \n",
    "Mass flow rate of Alumina into the shaft : $M_{Al_{2}O_{3}}$ : <br />\n",
    "Mass flow rate of Wustite from the DRI shaft furnace to the EAF : $M_{FeO}$ <br />\n",
    "Stoichiometric Mass flow rate of hydrogen inside the DRI shaft furnace : $M_{H_{2}}$ <br />\n",
    "Actual Mass flow rate of hydrogen inside the DRI shaft furnace : $M_{H_{2 actual}}$ <br />\n"
   ]
  },
  {
   "cell_type": "markdown",
   "metadata": {},
   "source": [
    "## Molecular weight of raw materials fed to the shaft furnace"
   ]
  },
  {
   "cell_type": "code",
   "execution_count": 3,
   "metadata": {},
   "outputs": [],
   "source": [
    "mol_weight_fe=55.845 #in grams\n",
    "mol_weight_fe2o3=159.688 #in grams \n",
    "mol_weight_Sio2=60.0843 #in grams\n",
    "mol_weight_al2o3=101.9613 #in grams\n",
    "mol_weight_feo=71.844 #in grams\n",
    "mol_weight_H2=2.01588 #in grams\n",
    "mol_weight_H2O=18.0153 #in grams"
   ]
  },
  {
   "cell_type": "markdown",
   "metadata": {},
   "source": [
    "## Energy required to heat the raw materials to 800 C"
   ]
  },
  {
   "cell_type": "markdown",
   "metadata": {},
   "source": [
    "The raw materials (ore and impurities) are both heated from ambient temperature to 800 C, which is the reaction temperature.The heat is provided through electrical heaters at an electrical efficiency of 0.85. The input temperature of the pellets is considered to be 298 K and the exit temperature to be 1073 K. "
   ]
  },
  {
   "cell_type": "code",
   "execution_count": 4,
   "metadata": {},
   "outputs": [
    {
     "name": "stdout",
     "output_type": "stream",
     "text": [
      "Enthalpy of Iron ore in KJ/kg : 697.1709070984995\n",
      " Enthalpy of iron ore in kJ : 1048377.3039075182\n",
      "Enthalpy of sio2 in KJ : 38299.203208586274\n",
      "Energy to heat aluminium oxide: 26265.60633766063\n"
     ]
    }
   ],
   "source": [
    "T1_hem=298 # K Ambient temperature / Temperature of the incoming iron pellets\n",
    "T2_hem=1073 # K Temperature of the iron ore for reduction process\n",
    "T1_sio2=298#Ambient temperature / Temperature of the incoming iron pellets\n",
    "T2_sio2=1073 # Temperature of the iron ore for reduction process\n",
    "T1_al2o3=298 #Ambient temperature / Temperature of the incoming iron pellets\n",
    "T2_al2o3=1073 #Temperature of the iron ore for reduction process\n",
    "\n",
    "# Enthalpy calculations for the different raw materials fed to the shaft furnace.\n",
    "\n",
    "def fe2o3_enthalpy_1(T):# T1 and T2 should be in the range of 298-950 K \n",
    "    t=T/1000\n",
    "    A=93.43834\n",
    "    B=108.3577\n",
    "    C=-50.86447\n",
    "    D=25.58683\n",
    "    E=-1.611330\n",
    "    F=-863.2094   \n",
    "    G=161.0719\n",
    "    H=-825.5032 \n",
    "    H_t=A*t +(B*t*t)/2 +(C*t*t*t)/3 + (D*t*t*t*t)/4-(E/t)+F-H\n",
    "    return H_t\n",
    "def fe2o3_enthalpy_2(T):# T1 and T2 should be in the range of 1050-2500 K \n",
    "    t=T/1000\n",
    "    A=150.6240\n",
    "    B=0\n",
    "    C=0\n",
    "    D=0\n",
    "    E=0\n",
    "    F=-875.6066\n",
    "    G=252.8814\n",
    "    H=-825.5032\n",
    "    H_t=A*t +(B*t*t)/2 +(C*t*t*t)/3 + (D*t*t*t*t)/4-(E/t)+F-H\n",
    "    return H_t\n",
    "def fe2o3_enthalpy_3(T):# T1 and T2 should be in the range of 1050-2500 K \n",
    "    t=T/1000\n",
    "    A=110.9362\n",
    "    B=32.04714\n",
    "    C=-9.192333\n",
    "    D=0.901506\n",
    "    E=5.433677\n",
    "    F=-843.1471\n",
    "    G=228.3548\n",
    "    H=-825.5032\n",
    "    H_t=A*t +(B*t*t)/2 +(C*t*t*t)/3 + (D*t*t*t*t)/4-(E/t)+F-H\n",
    "    return H_t\n",
    "if T2_hem in range(298,951):\n",
    "    Fe2o3_En_per_mol=fe2o3_enthalpy_1(T2_hem)-fe2o3_enthalpy_1(T1_hem)\n",
    "elif T2_hem in range(951,1051):\n",
    "     Fe2o3_En_per_mol=fe2o3_enthalpy_2(T2_hem)-fe2o3_enthalpy_1(T1_hem)\n",
    "elif T2_hem in range(1051,2501):\n",
    "     Fe2o3_En_per_mol=fe2o3_enthalpy_3(T2_hem)-fe2o3_enthalpy_1(T1_hem)\n",
    "mol_per_ton_Fe2o3=1000000/mol_weight_fe2o3 # 1 ton= 10^6 grams \n",
    "Fe2o3_En_per_ton=Fe2o3_En_per_mol*mol_per_ton_Fe2o3\n",
    "H_Fe2o3=((Fe2o3_En_per_ton))*m_fe2o3 # Energy consumption in KJ\n",
    "print(\"Enthalpy of Iron ore in KJ/kg :\",Fe2o3_En_per_ton/1000)\n",
    "print(\" Enthalpy of iron ore in kJ :\",H_Fe2o3) \n",
    "\n",
    "\"\"\" Energy required to heat the impurities from 298 K to 800 K\"\"\"\n",
    "def sio2_enthalpy(T):\n",
    "    t=T/1000\n",
    "    A=58.75\n",
    "    B=10.279\n",
    "    C=-0.131384\n",
    "    D=0.025210\n",
    "    E=0.025601\n",
    "    F=-929.3292\n",
    "    G=105.8092\n",
    "    H=-910.8568   \n",
    "    H_t=A*t +(B*t*t)/2 +(C*t*t*t)/3 + (D*t*t*t*t)/4-(E/t)+F-H\n",
    "    return H_t\n",
    "mol_weight_Sio2=60.0843 #in grams\n",
    "#H_f=(910.86 /60.0843)*1000 # Melting enthalpy of SiO2 is 1710 C\n",
    "H_T1_sio2=sio2_enthalpy(T1_sio2) # Enthalpy of iron ore at the input of the DRI shaft furnace\n",
    "H_T2_sio2=sio2_enthalpy(T2_sio2) # Enthalpy of molten iron at the reaction temperature\n",
    "En_per_mol_sio2=H_T2_sio2-H_T1_sio2\n",
    "    #print(\"Energy per mol\",En_per_mol)\n",
    "mol_per_ton_sio2=1000000/mol_weight_Sio2# 1 ton= 10^6 grams \n",
    "## Energy per ton of SiO2 multiplied by the weight of sio2 in the solid stream\n",
    "En_sio2=(En_per_mol_sio2*mol_per_ton_sio2)*m_sio2 \n",
    "# H_f needs to be added only when there is a conversion from solid to liquid \n",
    "En_total_sio2=En_sio2 \n",
    "print(\"Enthalpy of sio2 in KJ :\",En_sio2)\n",
    "\n",
    "\n",
    "\"\"\"Reference : https://webbook.nist.gov/cgi/cbook.cgi?ID=C1344281&Mask=2\"\"\"\n",
    "def Al2O3_enthalpy(T):\n",
    "    t=T/1000\n",
    "    A=106.0880\n",
    "    B=36.33740\n",
    "    C=-13.86730\n",
    "    D=2.141221\n",
    "    E=-3.133231\n",
    "    F=-1705.970\n",
    "    G=153.9350\n",
    "    H=-1662.300  \n",
    "    H_t=A*t +(B*t*t)/2 +(C*t*t*t)/3 + (D*t*t*t*t)/4-(E/t)+F-H\n",
    "    return H_t\n",
    "mol_weight_al2o3=101.9613 #in grams\n",
    "#H_f=(1675.69 /mol_weight_al2o3)*1000 # Melting point of alumina is 2073 C\n",
    "H_T1_al2o3=Al2O3_enthalpy(T1_al2o3) # Enthalpy of DRI at the input \n",
    "H_T2_al2o3=Al2O3_enthalpy(T2_al2o3) # Enthalpy of molten steel at the output\n",
    "En_per_mol_al2o3=H_T2_al2o3-H_T1_al2o3\n",
    "#print(\"Energy per mole al2o3\",En_per_mol_al2o3)\n",
    "\n",
    "mol_per_ton_al2o3=1000000/mol_weight_al2o3 # 1 ton= 10^6 grams \n",
    "En_al2o3=En_per_mol_al2o3*mol_per_ton_al2o3*m_al2o3 # Energy per ton of Al2O3 multiplied by the weight of Al2O3\n",
    "En_total_al2o3=En_al2o3\n",
    "print(\"Energy to heat aluminium oxide:\",En_al2o3) #In Kj/ton\n",
    "\n",
    "\n"
   ]
  },
  {
   "cell_type": "markdown",
   "metadata": {},
   "source": [
    "### Electrical energy required for heating the raw materials"
   ]
  },
  {
   "cell_type": "markdown",
   "metadata": {},
   "source": [
    "${EL_{energy}=\\frac{M_{Fe_{2}O_{3}}*((h_{Fe_{2}O_{3}})_{T_{reactor}}-(h_{Fe_{2}O_{3}})_{T_{ambient}} )}{\\eta_{el}}}$ <br />\n",
    "Where,<br />\n",
    " $EL_{energy}$= Electrical energy required for heating the pellets in kJ <br />\n",
    " $(h_{Fe_{2}O_{3}})_{T_{reactor}}$= Specific enthalpy of iron ore at reactor temperature in kJ/kg <br />\n",
    " $(h_{Fe_{2}O_{3}})_{T_{ambient}}$= Specific enthalpy of iron ore at ambient temperature in kJ/kg <br />\n",
    " $\\eta_{el}$= Efficiency of the electrical heater <br />\n",
    " "
   ]
  },
  {
   "cell_type": "code",
   "execution_count": 5,
   "metadata": {},
   "outputs": [
    {
     "name": "stdout",
     "output_type": "stream",
     "text": [
      "Electrical energy required for heating the iron ore to reduction temperature (in KJ): 1309343.6628867825\n",
      "Electrical energy required for heating the iron ore to reduction temperature (in KWH): 363.70657302410626\n"
     ]
    }
   ],
   "source": [
    "eta_el_heat=0.85 # Electrical heating efficiency \n",
    "H_ore_heat=(H_Fe2o3+En_sio2+En_al2o3)/eta_el_heat # In KJ\n",
    "print(\"Electrical energy required for heating the iron ore to reduction temperature (in KJ):\",H_ore_heat) # in KJ\n",
    "print(\"Electrical energy required for heating the iron ore to reduction temperature (in KWH):\",H_ore_heat/3600) # in KWh"
   ]
  },
  {
   "cell_type": "markdown",
   "metadata": {},
   "source": [
    "## Stochiometric calculations for the amount of Hydrogen required for reduction of iron\n",
    "\n",
    "Iron ore is reducd by hydrogen at a temperature of 800-900 C in an endothermic reaction using 99.5 kJ/mol.<br />\n",
    "$Fe_{2}O_{3}+ 3H_{2}---> 2Fe + 3H_{2}O$"
   ]
  },
  {
   "cell_type": "code",
   "execution_count": 6,
   "metadata": {},
   "outputs": [
    {
     "name": "stdout",
     "output_type": "stream",
     "text": [
      "Hydrogen required to produce 1 ton of iron in kg/ton of iron: 54.146655922643035\n"
     ]
    }
   ],
   "source": [
    "H2_per_mol=3/2 # to produce 1 mole of iron 2/3 rd mole of hydrogen are required\n",
    "H2_weight=(H2_per_mol)*mol_weight_H2 # Weight of H2 for producing one mole of Fe in gms\n",
    "mol_per_ton_fe=(1000000)/mol_weight_fe # Number of moles in 1 ton of Fe\n",
    "H2_per_ton=(H2_weight*mol_per_ton_fe)/1000 # Weight of hydrogen in kg to reduce 1 ton of Fe2O3\n",
    "\n",
    "print(\"Hydrogen required to produce 1 ton of iron in kg/ton of iron:\", H2_per_ton)\n"
   ]
  },
  {
   "cell_type": "code",
   "execution_count": 7,
   "metadata": {},
   "outputs": [],
   "source": [
    "m_h2= H2_per_ton #Mass flow rate of hydrogen for production of one ton of steel."
   ]
  },
  {
   "cell_type": "markdown",
   "metadata": {},
   "source": [
    " ### Hydrogen required for reduction of iron oxide for  1 ton of Fe production (Actual)\n",
    " Actual amount of hydrogen entering the shaft furnace is higher than the stoichiometric value.The ration between the actual value and the stoichiometric value is defined as lambda_h2 in these calculations. The graph below shows the variation of mass flow rate of hydrogen with lamda_h2. "
   ]
  },
  {
   "cell_type": "code",
   "execution_count": 8,
   "metadata": {},
   "outputs": [
    {
     "name": "stdout",
     "output_type": "stream",
     "text": [
      "Amount of actual hydrogen required for reduction of iron oxide to produce 1 ton of iron in kg : [54.146655922643035, 81.21998388396455, 108.29331184528607, 135.3666398066076, 162.4399677679291, 189.51329572925061, 216.58662369057214, 243.65995165189366, 270.7332796132152] [1.0, 1.5, 2.0, 2.5, 3.0, 3.5, 4.0, 4.5, 5.0]\n"
     ]
    }
   ],
   "source": [
    "lambda_h2=[]\n",
    "H2_actual_ts=[]\n",
    "# Iteratively add values to the list of lambda_h2 to see the effect of increasing lambda_h2\n",
    "for i in range(2,11):\n",
    "    lambda_h2.append(i/2) \n",
    "# Amount of actual hydrogen required for reduction of iron oxide to produce 1 ton of iron\n",
    "for i in range(len(lambda_h2)):\n",
    "    H2_actual_ts.append(m_h2*lambda_h2[i]) \n",
    "print(\"Amount of actual hydrogen required for reduction of iron oxide to produce 1 ton of iron in kg :\",H2_actual_ts,lambda_h2)"
   ]
  },
  {
   "cell_type": "code",
   "execution_count": 9,
   "metadata": {},
   "outputs": [
    {
     "data": {
      "image/png": "[encoded data removed]",
      "text/plain": [
       "<Figure size 432x288 with 1 Axes>"
      ]
     },
     "metadata": {},
     "output_type": "display_data"
    }
   ],
   "source": [
    "plt.plot(lambda_h2,H2_actual_ts)\n",
    "plt.xlabel('Lambda value ')\n",
    "plt.ylabel('Flow rate of H2 kg/tls')\n",
    "plt.savefig('Flow rate of hydrogen variation with lambda.svg')\n",
    "plt.savefig('Flow rate of hydrogen variation with lambda.pdf')\n",
    "plt.show()\n"
   ]
  },
  {
   "cell_type": "markdown",
   "metadata": {},
   "source": [
    "## Mass flow rate of waste gases from the shaft furnace "
   ]
  },
  {
   "cell_type": "markdown",
   "metadata": {},
   "source": [
    "It is assumed that the waste gas stream is a mixture of unreacted hydrogen and water/steam produced from the reduction reaction. Amount of water produced would depend on the metallization rate. For ease of calculations, it is assumed that metallization is complete.Amount of unused hydrogen in the waste stream depends on the amount of hydrogen entering the shaft furnace or lambda_h2.\n",
    "\n",
    "Hydrogen is separated from the waste gas stream is mixed with the incoming hydrogen from the electrolyser.The mixed stream is heated to a temperature of 800-900 C and is fed to the shaft furnace.Water separated from the waste stream is fed back to the electrolyser.Hydrogen can be fed back to the shaft furnace from the storage to provide flexibility to the grid.It is not considered in the calculations as only steady state calculations are done in this analysis. "
   ]
  },
  {
   "cell_type": "markdown",
   "metadata": {},
   "source": [
    "<img src=\"Electricheater_h2.png\">"
   ]
  },
  {
   "cell_type": "code",
   "execution_count": 10,
   "metadata": {},
   "outputs": [
    {
     "name": "stdout",
     "output_type": "stream",
     "text": [
      "Amount of water in the waste stream per ton of steel production in kg/tls 483.89202256244965\n",
      "Amount of hydrogen in the waste stream per ton of steel production in kg/tls [0.0, 27.073327961321517, 54.146655922643035, 81.21998388396455, 108.29331184528607, 135.3666398066076, 162.4399677679291, 189.51329572925061, 216.58662369057214]\n"
     ]
    }
   ],
   "source": [
    "# Mass flow rate of water in the waste stream per ton of steel production\n",
    "\n",
    "water_tls=((3*mol_weight_H2O)/(2*mol_weight_fe))*1000\n",
    "print(\"Amount of water in the waste stream per ton of steel production in kg/tls\",water_tls) #kg/tls\n",
    "## Calculation of the hydrogen in the waste stream \n",
    "m_h2_waste_stream=[]\n",
    "m_water_tls=[]\n",
    "for j in range(len(lambda_h2)):\n",
    "    m_h2_waste_stream.append(m_h2*(lambda_h2[j]-1)) #Kg/tls\n",
    "    m_water_tls.append(water_tls)\n",
    "    # The value varies with input flow rate of hydrogen inside the shaft furnace\n",
    "print(\"Amount of hydrogen in the waste stream per ton of steel production in kg/tls\",m_h2_waste_stream)\n"
   ]
  },
  {
   "cell_type": "code",
   "execution_count": 11,
   "metadata": {},
   "outputs": [
    {
     "data": {
      "image/png": "[encoded data removed]",
      "text/plain": [
       "<Figure size 432x288 with 1 Axes>"
      ]
     },
     "metadata": {},
     "output_type": "display_data"
    }
   ],
   "source": [
    "plt.plot(lambda_h2,m_h2_waste_stream,label='Hydrogen')\n",
    "plt.plot(lambda_h2,m_water_tls,label='Water/steam')\n",
    "plt.xlabel('Lambda value / Mass flow rate of input hydrogen stream')\n",
    "plt.ylabel('Flow rate of H2/tls in the waste stream')\n",
    "plt.savefig('Flow rate of Waste stream variation with lambda.svg')\n",
    "plt.savefig('Flow rate of Waste stream variation with lambda.pdf')\n",
    "plt.legend()\n",
    "plt.show()\n"
   ]
  },
  {
   "cell_type": "markdown",
   "metadata": {},
   "source": [
    "## Energy contained in the waste stream"
   ]
  },
  {
   "cell_type": "markdown",
   "metadata": {},
   "source": [
    "Temperature of the waste gas stream could vary according to the input temperature and flow rate of the hydrogen stream.Plant data from Syngas based DRI shaft furnace show that the temperature could vary from 275 C to 400 C.Higher temperatures are witnessed when the content of CO in the Syngas is higher.The reduction reaction between heamtite and CO is exothermic.On the other hand , hyrogen reduction of hematite is endothermic.We could assume a temperature of 350 C for the calculation of energy content in the waste gas stream.Hydrogen from the waste stream is fed back to the electrical heating system , where it gets mixed with hydrogen coming from the electrolyser output.Energy required to separate the two streams has not been considered in the present calculations. "
   ]
  },
  {
   "cell_type": "code",
   "execution_count": 12,
   "metadata": {},
   "outputs": [],
   "source": [
    "T_waste=623 # K Temperature of the exhaust gas leaving the reduction shaft furnace"
   ]
  },
  {
   "cell_type": "markdown",
   "metadata": {},
   "source": [
    "### Enthalpy contained in water stream"
   ]
  },
  {
   "cell_type": "code",
   "execution_count": 13,
   "metadata": {},
   "outputs": [
    {
     "name": "stdout",
     "output_type": "stream",
     "text": [
      "Enthalpy per Kg of Water in kJ/kg : 629.405546043845\n",
      "Enthalpy in water stream per Kg of steel in kJ: 304564.3226871792\n"
     ]
    }
   ],
   "source": [
    "def H2O_enthalpy(T):# 500 -1700 K reference :https://webbook.nist.gov/cgi/cbook.cgi?ID=C7732185&Mask=1\n",
    "    t=T/1000\n",
    "    A=30.09200\n",
    "    B=6.832514\n",
    "    C=6.793435\n",
    "    D=-2.534480\n",
    "    E=0.082139\n",
    "    F=-250.8810\n",
    "    G=223.3967\n",
    "    H=-241.8264\n",
    "    H_t=A*t +(B*t*t)/2 +(C*t*t*t)/3 + (D*t*t*t*t)/4-(E/t)+F-H\n",
    "    return H_t\n",
    "H2O_en_per_mol=H2O_enthalpy(T_waste)\n",
    "mol_per_kg_H2O=1000/mol_weight_H2O # Number of moles in one kg\n",
    "H2O_en_per_kg=(mol_per_kg_H2O)*(H2O_en_per_mol)\n",
    "\n",
    "print(\"Enthalpy per Kg of Water in kJ/kg :\",H2O_en_per_kg)\n",
    "# Multiplying the specific enthalpy with mass flow rate \n",
    "h2o_enthalpy=water_tls*H2O_en_per_kg\n",
    "print(\"Enthalpy in water stream per Kg of steel in kJ:\",h2o_enthalpy)\n"
   ]
  },
  {
   "cell_type": "markdown",
   "metadata": {},
   "source": [
    "### Enthalpy in the hydrogen from the waste stream"
   ]
  },
  {
   "cell_type": "code",
   "execution_count": 14,
   "metadata": {},
   "outputs": [
    {
     "name": "stdout",
     "output_type": "stream",
     "text": [
      "Enthalpy per Kg of hydrogen in kJ/kg : 4705.692808769396\n",
      "Enthalpy per Kg of hydrogen in kJ/kg : [0.0, 127398.76469704608, 254797.52939409215, 382196.2940911382, 509595.0587881843, 636993.8234852304, 764392.5881822763, 891791.3528793225, 1019190.1175763686]\n"
     ]
    }
   ],
   "source": [
    "def H2_enthalpy_1(T):# T1 and T2 should be in the range of 298-1000 K \n",
    "    t=T/1000\n",
    "    A=33.066718\n",
    "    B=-11.363417\n",
    "    C=11.432816\n",
    "    D=-2.772874\n",
    "    E=-0.158558\n",
    "    F=-9.980797\n",
    "    G=172.707974\n",
    "    H=0\n",
    "    H_t=A*t +(B*t*t)/2 +(C*t*t*t)/3 + (D*t*t*t*t)/4-(E/t)+F-H\n",
    "    return H_t\n",
    "H2_en_per_mol=H2_enthalpy_1(T_waste)     \n",
    "#mol_per_kg_H2=(1000/mol_weight_H2) # Number of moles in one kg \n",
    "H2_en_per_kg=((1000/mol_weight_H2)*H2_en_per_mol)\n",
    "h2_en_tls=[]\n",
    "for i in range(len(m_h2_waste_stream)):\n",
    "    h2_en_tls.append(H2_en_per_kg*(m_h2_waste_stream[i]))\n",
    "print(\"Enthalpy per Kg of hydrogen in kJ/kg :\",H2_en_per_kg)\n",
    "print(\"Enthalpy per Kg of hydrogen in kJ/kg :\",h2_en_tls)\n"
   ]
  },
  {
   "cell_type": "code",
   "execution_count": 15,
   "metadata": {},
   "outputs": [],
   "source": [
    "waste_enth=[]\n",
    "for i in range(len(h2_en_tls)):\n",
    "    waste_enth.append((h2_en_tls[i]+h2o_enthalpy)/3600)"
   ]
  },
  {
   "cell_type": "markdown",
   "metadata": {},
   "source": [
    "### Plot for the Hydrogen energy variation"
   ]
  },
  {
   "cell_type": "code",
   "execution_count": 16,
   "metadata": {},
   "outputs": [
    {
     "data": {
      "image/png": "[encoded data removed]",
      "text/plain": [
       "<Figure size 432x288 with 1 Axes>"
      ]
     },
     "metadata": {},
     "output_type": "display_data"
    }
   ],
   "source": [
    "plt.plot(lambda_h2,waste_enth)\n",
    "plt.xlabel('Lambda value')\n",
    "plt.ylabel('Energy content in the waste stream in MJ')\n",
    "plt.savefig('Energy content in waste stream with lambda.svg')\n",
    "plt.savefig('Energy content in waste stream with lambda.pdf')\n",
    "plt.show()"
   ]
  },
  {
   "cell_type": "markdown",
   "metadata": {},
   "source": [
    "## Energy input to the hydrogen stream\n",
    "\n",
    "Hydrogen reduces the iron oxide pellets by converting them into Fe3O4---FeO----Fe.The optimal reaction temperature is 800 C (according to the experimental studies carried out to study the reaction kinetics).It is assumed that the heat for the reaction is transferred from the high temperature hydrogen.Different input temperatures are considered to see the impact of inlet temperature on the overall energy consumption of the furnace. Alkaline and PEM electrolysers produce hydrogen at a temperature of 70-80 C.Reduction of iron oxide is carried out a temperature of 800-900 C.In this section we calculate the amount of heat required to heat the hydrogen exiting the electrolyser to the reaction temperature.The value depends on the flow rate of hydrogen from the elctrolyser and from the waste gas stream.Temperature of the hydrogen from the waste stream needs to be increased from 623 K to 1073-1273 K, whereas , temperature of the hydrogen from the elctrolyser needs to be increased from 343 K to 1073-1273 K.  <br />\n",
    "$\n",
    "M_{h_{2_{actual}}} =M_{h_{2_{electrolyser}}} + M_{h_{2_{waste stream}}}  $ <br />\n",
    "\n",
    "$T_{h_{2_{electrolyser}}}=343 K$  <br />\n",
    "\n",
    "$T_{h_{2_{waste stream}}}=623 K$ <br />\n",
    "\n",
    "$M_{h_{2_{electolyser}}}=M_{h_{2_{actual}}}- M_{h_{2_{waste stream}}} $\n",
    "\n",
    "$T_{h_{2_{input}}}=1073 K -1273 K $\n"
   ]
  },
  {
   "cell_type": "markdown",
   "metadata": {},
   "source": [
    "### Mass flow rate of hydrogen from the electrolyser"
   ]
  },
  {
   "cell_type": "code",
   "execution_count": 17,
   "metadata": {},
   "outputs": [],
   "source": [
    "m_h2_electrolyser=[]\n",
    "for i in range(len(H2_actual_ts)):\n",
    "    m_h2_electrolyser.append(H2_actual_ts[i]-m_h2_waste_stream[i])\n",
    "T_electrolyser=343 # output hydrogen at a temperature of 70 C\n"
   ]
  },
  {
   "cell_type": "markdown",
   "metadata": {},
   "source": [
    "### Energy required to heat the hydrogen stream to 1073-1273 K"
   ]
  },
  {
   "cell_type": "code",
   "execution_count": 18,
   "metadata": {},
   "outputs": [],
   "source": [
    "T_h2_input=[1073,1098,1123,1148,1173,1198,1223,1248,1273]"
   ]
  },
  {
   "cell_type": "code",
   "execution_count": 19,
   "metadata": {},
   "outputs": [
    {
     "name": "stdout",
     "output_type": "stream",
     "text": [
      "Enthalpy per Kg of input  hydrogen at 1073 K in kJ/kg : [11357.178654536647, 11735.68092099354, 12115.410167028142, 12496.396476478576, 12878.665081966752, 13262.236903617199, 13647.129021702476, 14033.355092480218, 14420.925715031339]\n"
     ]
    }
   ],
   "source": [
    "def H2_enthalpy_1(T):# T1 and T2 should be in the range of 298-1000 K \n",
    "    t=T/1000\n",
    "    A=33.066718\n",
    "    B=-11.363417\n",
    "    C=11.432816\n",
    "    D=-2.772874\n",
    "    E=-0.158558\n",
    "    F=-9.980797\n",
    "    G=172.707974\n",
    "    H=0\n",
    "    H_t=A*t +(B*t*t)/2 +(C*t*t*t)/3 + (D*t*t*t*t)/4-(E/t)+F-H\n",
    "    return H_t\n",
    "\n",
    "def H2_enthalpy_2(T):# T1 and T2 should be in the range of 1050-2500 K \n",
    "    t=T/1000\n",
    "    A=18.563083\n",
    "    B=12.257357\n",
    "    C=-2.859786\n",
    "    D=0.268238\n",
    "    E=1.977990\n",
    "    F=-1.147438\n",
    "    G=156.288133\n",
    "    H=0\n",
    "    H_t=A*t +(B*t*t)/2 +(C*t*t*t)/3 + (D*t*t*t*t)/4-(E/t)+F-H\n",
    "    return H_t\n",
    "H2_in_en_per_mol=[]\n",
    "H2_in_en_per_kg=[]\n",
    "for i in range(len(T_h2_input)):\n",
    "    if T_h2_input[i] in range(298,1001):\n",
    "        H2_in_en_per_mol.append(H2_enthalpy_1(T_h2_input[i]))\n",
    "    elif T_h2_input[i] in range(1001,2501):\n",
    "        H2_in_en_per_mol.append(H2_enthalpy_2(T_h2_input[i]))\n",
    "  \n",
    "    mol_per_kg_H2=1000/mol_weight_H2 # Number of moles in one kg \n",
    "\n",
    "for j in range(len(T_h2_input)):\n",
    "    H2_in_en_per_kg.append(mol_per_kg_H2*H2_in_en_per_mol[j])\n",
    "print(\"Enthalpy per Kg of input  hydrogen at 1073 K in kJ/kg :\",H2_in_en_per_kg)\n"
   ]
  },
  {
   "cell_type": "markdown",
   "metadata": {},
   "source": [
    "#### H2 enthalpy at 623 K and 343 K"
   ]
  },
  {
   "cell_type": "code",
   "execution_count": 20,
   "metadata": {},
   "outputs": [],
   "source": [
    "def H2_enthalpy_1(T):# T1 and T2 should be in the range of 298-1000 K \n",
    "    t=T/1000\n",
    "    A=33.066718\n",
    "    B=-11.363417\n",
    "    C=11.432816\n",
    "    D=-2.772874\n",
    "    E=-0.158558\n",
    "    F=-9.980797\n",
    "    G=172.707974\n",
    "    H=0\n",
    "    H_t=A*t +(B*t*t)/2 +(C*t*t*t)/3 + (D*t*t*t*t)/4-(E/t)+F-H\n",
    "    return H_t"
   ]
  },
  {
   "cell_type": "code",
   "execution_count": 21,
   "metadata": {},
   "outputs": [],
   "source": [
    "en_h2_waste=(H2_enthalpy_1(T_waste)*(1000/mol_weight_H2))\n",
    "en_h2_electrolyser=(H2_enthalpy_1(T_electrolyser)*(1000/mol_weight_H2))"
   ]
  },
  {
   "cell_type": "markdown",
   "metadata": {},
   "source": [
    "### Fixing the output temperature to 1273 K"
   ]
  },
  {
   "cell_type": "code",
   "execution_count": 22,
   "metadata": {},
   "outputs": [],
   "source": [
    "total_heat_per_kg=[]\n",
    "for i in range(len(H2_in_en_per_kg)):\n",
    "    total_heat_per_kg.append((H2_in_en_per_kg[8]*H2_actual_ts[i])-(en_h2_waste*m_h2_waste_stream[i])-(en_h2_electrolyser*m_h2_electrolyser[i]))\n",
    "eta_heat=0.7\n",
    "total_heat=[]\n",
    "for i in range(len(total_heat_per_kg)):\n",
    "    total_heat.append(total_heat_per_kg[i]/(3600*eta_heat))"
   ]
  },
  {
   "cell_type": "code",
   "execution_count": 23,
   "metadata": {},
   "outputs": [
    {
     "data": {
      "image/png": "[encoded data removed]",
      "text/plain": [
       "<Figure size 432x288 with 1 Axes>"
      ]
     },
     "metadata": {},
     "output_type": "display_data"
    }
   ],
   "source": [
    "plt.plot(lambda_h2,total_heat)\n",
    "plt.xlabel('Lambda value')\n",
    "plt.ylabel('Energy required to heat hydrogen stream to 900 C in KWh')\n",
    "plt.savefig('Energy required to heat hydrogen stream to 900 C in kJ.svg')\n",
    "plt.savefig('Energy required to heat hydrogen stream to 900 C in kJ.pdf')\n",
    "plt.show()"
   ]
  },
  {
   "cell_type": "markdown",
   "metadata": {},
   "source": [
    "## Reaction enthalpy calculation"
   ]
  },
  {
   "cell_type": "code",
   "execution_count": 24,
   "metadata": {},
   "outputs": [
    {
     "name": "stdout",
     "output_type": "stream",
     "text": [
      "Reaction enthalpy in J/mol:  99500\n",
      "Reaction enthalpy in kJ/mol:  99.5\n",
      "Reaction enthalpy in kJj/Kg of hematite:  623.0900255498221\n",
      "Reaction enthalpy in kJ per ton of heamtite :  623090.0255498221\n",
      "Reaction enthalpy in kJ/ton of liquid steel: 890128.6079283174\n"
     ]
    }
   ],
   "source": [
    "fe2o3_hem = 1\n",
    "h2_hem = 3\n",
    "fe_hem = 2\n",
    "h2o_hem = 3\n",
    "dHb_fe2o3 = -825500 #\t\t '[J/mol] formation enthalpy of hematite\n",
    "dHb_w = -242000 #\t '[J/mol] formation enthalpy of water (gaseous)\n",
    "dHr_hem = (dHb_w * h2o_hem) - dHb_fe2o3 #'[J/mol] reaction enthalpy\n",
    "print(\"Reaction enthalpy in J/mol: \",dHr_hem) \n",
    "dhr_hem_kj=dHr_hem/1000 # reaction enthalpy kJ/mol\n",
    "print(\"Reaction enthalpy in kJ/mol: \",dhr_hem_kj) \n",
    "dhr_hem_kj_kg=(dhr_hem_kj/mol_weight_fe2o3)*1000 # reaction ethalpy in kj/kg\n",
    "print(\"Reaction enthalpy in kJj/Kg of hematite: \",dhr_hem_kj_kg)\n",
    "dhr_hem_kj_ton=dhr_hem_kj_kg*1000\n",
    "print(\"Reaction enthalpy in kJ per ton of heamtite : \",dhr_hem_kj_ton) # kJ/ton of fe2O3 \n",
    "# Amount of heat to be supplied in kJ for production of 1 ton of molten steel\n",
    "dhr_per_ts=dhr_hem_kj_ton*m_fe2o3*fe2O3_pure\n",
    "print(\"Reaction enthalpy in kJ/ton of liquid steel:\",dhr_per_ts) \n"
   ]
  },
  {
   "cell_type": "markdown",
   "metadata": {},
   "source": [
    "## Energy contained in the solid stream exiting the DRI\n",
    "It is assumed that the solid stream is a mixture of iron, iron oxide and impurities such as silica and alumina. The solid stream exits the reactor at a temperature of 800 C. "
   ]
  },
  {
   "cell_type": "code",
   "execution_count": 25,
   "metadata": {},
   "outputs": [
    {
     "name": "stdout",
     "output_type": "stream",
     "text": [
      "54144.46828539456\n",
      "Total energy in the outgoing metallic stream in KWh 122.68152439776773\n"
     ]
    }
   ],
   "source": [
    "\"\"\"Enthalpy of the residual FeO in the slag stream : https://webbook.nist.gov/cgi/cbook.cgi?ID=C1345251&Mask=2\"\"\"\n",
    "# The constants are used for a temperature range of 298-1650 K \n",
    "\n",
    "T_dri_exit=1073 # Exit temperature of the FeO stream contained in the solid stream exiting the reactor\n",
    "\n",
    "mol_per_ton_feo=1000000/mol_weight_feo# 1 ton= 10^6 grams\n",
    "\n",
    "def feo_enthalpy(T):\n",
    "    t=T/1000\n",
    "    A=45.75120\n",
    "    B=18.78553\n",
    "    C=-5.952201\n",
    "    D=0.852779\n",
    "    E=-0.081265\n",
    "    F=-286.7429\n",
    "    G=110.3120\n",
    "    H=-272.0441\n",
    "    H_t=A*t +(B*t*t)/2 +(C*t*t*t)/3 + (D*t*t*t*t)/4-(E/t)+F-H\n",
    "    return H_t\n",
    "En_per_mol_feo=(feo_enthalpy(T_dri_exit)) \n",
    "\n",
    "En_per_ton_feo=(En_per_mol_feo*mol_per_ton_feo) \n",
    "\n",
    "En_feo=(En_per_ton_feo*Feo_weight[0])\n",
    "print(En_feo)\n",
    "        #print(\"Temperature\",T_dri_exit[j])\n",
    "        #print(\"alpha\",alpha[i])\n",
    "#print(\"Energy per mole feo :\",En_per_mol_feo)\n",
    "#print(\"Energy per ton feo :\",En_per_ton_feo)\n",
    "#print(\"Energy contained in the feo stream exiting the reactor\",En_feo) #In Kj/tls\n",
    "\n",
    "### Energy contained in the iron ore stream\n",
    "\n",
    "def fe_enthalpy(T):\n",
    "    t=T/1000\n",
    "    A=23.97449\n",
    "    B=8.367750\n",
    "    C=0.000277\n",
    "    D=-0.000088\n",
    "    E=-0.000005\n",
    "    F=0.268027\n",
    "    G=62.06336\n",
    "    H=7.788015    \n",
    "    H_t=A*t +(B*t*t)/2 +(C*t*t*t)/3 + (D*t*t*t*t)/4-(E/t)+F-H\n",
    "    return H_t\n",
    "#H_f=247000 # Melting enthalpy of steel per ton in Kj/ton https://materialsdata.nist.gov/bitstream/handle/11115/166/Thermophysical%20Properties.pdf?sequence=3\n",
    "En_per_mol_fe=(fe_enthalpy(T_dri_exit))# Enthalpy of direct reduced iron at the output of the reactor\n",
    "mol_per_ton_fe=1000000/mol_weight_fe # 1 ton= 10^6 grams\n",
    "En_fe=(En_per_mol_fe*mol_per_ton_fe*m_fe2o3*fe2O3_pure*alpha[0]*Fe_O_ratio)\n",
    "total_metal_en=(En_fe +En_feo)/3600\n",
    "print(\"Total energy in the outgoing metallic stream in KWh\",total_metal_en)"
   ]
  },
  {
   "cell_type": "markdown",
   "metadata": {},
   "source": [
    "## Energy balance of the shaft furnace \n",
    "Energy input = hydrogen stream + raw material entering <br />\n",
    "Energy outgoing= Off gas + reaction enthalpy + radiative losses + Outgoing metallic stream <br />\n"
   ]
  },
  {
   "cell_type": "code",
   "execution_count": 26,
   "metadata": {},
   "outputs": [
    {
     "name": "stdout",
     "output_type": "stream",
     "text": [
      "25.430261073746237\n"
     ]
    }
   ],
   "source": [
    "radiative_losses=(((lambda_h2[0]*H2_in_en_per_kg[0]*H2_per_ton) + (H_Fe2o3+En_sio2+En_al2o3))/3600)-((waste_enth[0]+(dhr_per_ts)/3600+total_metal_en))\n",
    "print(radiative_losses)\n"
   ]
  },
  {
   "cell_type": "code",
   "execution_count": 27,
   "metadata": {},
   "outputs": [
    {
     "data": {
      "text/plain": [
       "[]"
      ]
     },
     "execution_count": 27,
     "metadata": {},
     "output_type": "execute_result"
    },
    {
     "data": {
      "image/png": "[encoded data removed]",
      "text/plain": [
       "<Figure size 432x288 with 1 Axes>"
      ]
     },
     "metadata": {},
     "output_type": "display_data"
    }
   ],
   "source": [
    "en_loss=[]\n",
    "for i in range(len(lambda_h2)):\n",
    "    en_loss.append((((lambda_h2[i]*H2_in_en_per_kg[0]*H2_per_ton) + (H_Fe2o3+En_sio2+En_al2o3)+(en_h2_waste*m_h2_waste_stream[i]))/3600)-((waste_enth[i]+(dhr_per_ts)/3600+total_metal_en)))\n",
    "plt.plot(lambda_h2,en_loss,label='radiative losses')\n",
    "plt.xlabel('Lambda value')\n",
    "plt.ylabel('Radiative losses for lambda=1 and T=1073 K in KWh')\n",
    "plt.savefig('Radiative losses for lambda=1 and T=1073 K in KWh.pdf')\n",
    "plt.savefig('Radiative losses for lambda=1 and T=1073 K in KWh.svg')\n",
    "plt.plot()"
   ]
  },
  {
   "cell_type": "markdown",
   "metadata": {},
   "source": [
    "## Energy balance of the EAF"
   ]
  },
  {
   "cell_type": "markdown",
   "metadata": {},
   "source": [
    "The modelling work is baseed on the  https://www.sciencedirect.com/science/article/pii/S036054421100524X. <br/>\n",
    "**_EAF energy balance  - Equation 1_**<br/>\n",
    "\n",
    "\n",
    "$\\begin{equation} \\label{Energy balance in EAF}\\large E_{total}=E_{in}=\\large \\int_{\\small charging}^{\\small tapping} P_{\\small electric} dt + \\Delta H_{\\small oxygen injection} + \\Delta H_{\\small ng_burners} = E_{out}=\\Delta H_{\\small steel }+ \\Delta H_{\\small slag } + \\large\\int\\Delta H^._{\\small off-gas}dt +\\large\\int\\Delta Q^._{\\small cooling}dt+\\large\\int\\Delta Q^._{\\small radiaitve losses}dt \\end{equation}$<br/>\n",
    "\n",
    "The Enthalpy that is heating up the melt and slag in a small time step $\\Delta t$ is determined from the energy input from the electric arc , ($P_{electric}$), from oxidation reactions, and from the gas burners ($P_{ngburners})$. Equation 2 depicts the same in mathematical form : $<br/>\n",
    "\n",
    "**_Energy balance -Equation 2_**\n",
    "\n",
    "\n",
    "$\\Delta E_{Total}=\\large \\int_{\\small t}^{\\small t+\\Delta t}P_{elec}+ \\int_{\\small t}^{\\small t+\\Delta t}\\sum_{i}^{n}m^._{oxidized,i}h_{oxidized,i}dt +\\large \\int_{\\small t}^{\\small t+\\Delta t}P_{ng_burners}dt=\\large \\int_{\\small T(t)}^{\\small T( t+\\Delta t)} h_{steel}m_{steel}dt + \\large \\int_{\\small T(t)}^{\\small T( t+\\Delta t)}h_{slag}m_{slag}dt+\\large \\int_{\\small t}^{\\small t+\\Delta t}P_{off-gas}dt+\\large \\int_{\\small t}^{\\small t+\\Delta t}P_{cooling}dt + \\large \\int_{\\small t}^{\\small t+\\Delta t}P_{other losses}dt$ $<br/>\n",
    "\n",
    "Efficiency values for energy conversion for electric arc furnaces \n",
    "\n",
    "**_Electric arc -Equation 3_**\n",
    "\n",
    "\n",
    "$\\Delta H_{melt,el}=\\eta_{el}\\eta_{arc}\\Large \\int_{\\small t}^{\\small t+\\Delta t}P_{elec}dt$ $<br/>\n",
    "\n",
    "\n",
    "In this model , the value of $\\eta_{el}\\eta_{arc}$ has been taken to be 0.6 as the melting rate is lower for 100\\% DRI than with scrap based mixture. $<br/>\n",
    "\n",
    "Enthalpy portion that is transferred into the melt and the slag from the oxidation reactions which are exothermic.<br/> \n",
    "\n",
    "**_Chemical enthalpy -Equation 4_**<br/>\n",
    "\n",
    "\n",
    "\n",
    "$\\Delta H_{melt,chem}=\\eta_{chem}\\Large\\int_{\\small t}^{\\small t+\\Delta t}\\sum_{i}^{n}m^._{oxidized,i}h_{oxidized,i}dt$ <br/>\n",
    "\n",
    "\n",
    "$\\eta_{chem}$ is considered to be 0.5 to 0.6 in this work.<br/>\n",
    "\n",
    "Enthalpy transferred from the natural gas burners in the EAF is calculated as : <br/>\n",
    "\n",
    "**_Natural gas burners calculations -Equation 5_**<br/>\n",
    "\n",
    "\n",
    "\n",
    "$\\Delta H_{melt,burners}=\\eta_{burners}\\Large \\int_{\\small t}^{\\small t+\\Delta t}P_{ng-burners}dt$<br/>\n",
    "\n",
    "\n",
    "\n",
    "In the model, energy input from natural gas has not been considered as it is primarily used with scrap based EAF systems to provide initial heating and reducing the overall energy consumption of the EAF. <br/>\n",
    "\n",
    "\n",
    "The terms quantifying the $\\Delta H_{\\small ng_burners},\\Delta H^._{\\small off-gas},\\Delta Q^._{\\small cooling},\\Delta Q^._{\\small radiaitve losses}  $ In Equation 1 can be ignored. The **losses are considered in the efficiency factors of the electric arc and  chemical enthalpy calculations**. Natural gas burners are not used for the 100 % DRI based EAF systems.  <br/>\n",
    "\n",
    "Final expression of the energy balance can be represented by **_Equation : 6_**<br/>\n",
    "\n",
    "\n",
    "$\\Delta H_{melt}=\\eta_{el}\\eta_{arc}\\int_{ t}^{t+\\Delta t}P_{elec}dt + \\eta_{chem}\\int_{ t}^{ t+\\Delta t}\\sum_{i}^{n}m_{oxidized,i}h_{oxidized,i}dt = \\int_{T(t)}^{T( t+\\Delta t)} h_{steel}m_{steel}dt + \\int_{T(t)}^{ T( t+\\Delta t)}h_{slag}m_{slag}dt $\n",
    "\n"
   ]
  },
  {
   "cell_type": "code",
   "execution_count": 28,
   "metadata": {},
   "outputs": [
    {
     "name": "stdout",
     "output_type": "stream",
     "text": [
      "22.39641657334827\n",
      "Weight of metallic iron 1.0000000000000002\n",
      "Weight of iron oxide 0.06382978723404253\n",
      "Enthalpy_silica 93.59670495330602\n",
      "Enthalpy_alumina 53.299348939792566\n",
      "carbon_sol_enthalpy 4.96\n",
      "carbon required 7.462874420849847\n",
      "Iron oxide reduction enthalpy 26.79171917085095\n",
      "CO_enthalpy 4.887842770266395\n",
      "Chemical enthalpy 120.03217749251402\n",
      "37.45653869353222\n",
      "670723.2284632862\n",
      "254.92311901757955\n",
      "Energy per mol 76.59228954207788\n",
      "Energy per ton in kJ 1274747.1393039094\n",
      "Enthalpy change in kWh 7.930491099315102\n",
      "139.9863931641221\n",
      "Energy per mol 1372936.527526837\n",
      "Enthalpy change in Al2o3 in EAF in kWH 7.260147122046856\n",
      "58.50326035042531\n",
      "Energy per mol 1043266.5861302371\n",
      "Enthalpy change in cao in EAF in kWH 14.603395662517318\n",
      "55.770217959395495\n",
      "Energy per mol 1383725.299456027\n",
      "Enthalpy change in cao in EAF in kWh 2.2812442724639\n",
      "65.56589239354591\n",
      "Energy per mol 912614.7262617047\n",
      "Enthalpy change in FeO in EAF in kWh 4.874474807232005\n",
      "36.94975296357518\n",
      "291.87287198115473\n",
      "Electrical energy input in kWh/ton of liquid steel 366.42260914274385\n"
     ]
    }
   ],
   "source": [
    "alpha=0.94 \n",
    "# Metallization rate considered for the DRI reducer\n",
    "Total_fe_content_percentage=0.95 \n",
    "# 5% Impurities are considered in the iron \n",
    "#ore which gets transferred into the EAF as it is \n",
    "iron_ore=1/(alpha*Total_fe_content_percentage)\n",
    "# Weight of total iron ore fed to the DRI and EAF to get 1 ton of liquid steel\n",
    "Total_fe=iron_ore*Total_fe_content_percentage\n",
    "Total_fe_metal=iron_ore*Total_fe_content_percentage*alpha\n",
    "FEO_weight=Total_fe-Total_fe_metal\n",
    "SIO2_percentage=2 \n",
    "# Percentage of silica in the Slag \n",
    "Al2O3_percentage=1.7 \n",
    "#Percentage of alumina in the Slag\n",
    "CAO_percentage=4.5\n",
    "#Percentage of lime added in the EAF slag is higher for DRI\n",
    "#as the gangue content is higher making the system acidic\n",
    "MGO_percentage=0.53\n",
    "#Percentage of Magnesium oxide in the EAF slag\n",
    "SIO2_weight=(iron_ore*SIO2_percentage)/100 # SiO2 weight in ton \n",
    "print(SIO2_weight*1000)\n",
    "AL2O3_weight=(iron_ore*Al2O3_percentage)/100 # weight in ton\n",
    "CAO_weight=(iron_ore*CAO_percentage)/100 #weioght in ton\n",
    "#print(CAO_weight*1000)\n",
    "MGO_weight=(iron_ore*MGO_percentage)/100 #weight in ton \n",
    "carbon_weight=8 \n",
    "# Weight of carbon in Kg added per ton for reduction of remaining FeO and production of carbon monoxide in the EAF for froth making which is essential for the smooth functioning of then EAF\n",
    "print(\"Weight of metallic iron\",Total_fe_metal) #in ton\n",
    "print(\"Weight of iron oxide\",FEO_weight) # in ton\n",
    "\n",
    "## input and tap temperatures\n",
    "T1=873# # Temperature input to the EAF \n",
    "T2=1923 # Tap temperature of the molten steel 1650 C\n",
    "\n",
    "## Chemical eneergy calculation from oxidation of gangue particles \n",
    "#for silica Si+O2-SiO2 8.94 kWh/kg of silicon\n",
    "Si_weight=28.085 #g/mol\n",
    "Silica_weight=60.08 #g/mol\n",
    "Enthalpy_per_kg_si=8.94 #kWh/kg\n",
    "Enthalpy_per_kg_sio2=Enthalpy_per_kg_si/(Silica_weight/Si_weight) #kWh/kg\n",
    "Enthalpy_silica=(Enthalpy_per_kg_sio2)*SIO2_weight*1000 \n",
    "#kWh Enthalpy per unit is multiplied by the mass of the silica in the mix\n",
    "print(\"Enthalpy_silica\",Enthalpy_silica)\n",
    "# oxidation reaction of alumina\n",
    "#2Al+0.5O2---Al2O3\n",
    "Al_weight=26.982\n",
    "Alumina_weight=101.9613\n",
    "Enthalpy_per_kg_Al=5.29 #kWh/kg\n",
    "Enthalpy_per_kg_Al2o3=Enthalpy_per_kg_Al/(Alumina_weight/(2*Al_weight))\n",
    "Enthalpy_alumina=Enthalpy_per_kg_Al2o3*AL2O3_weight*1000\n",
    "print(\"Enthalpy_alumina\",Enthalpy_alumina)\n",
    "## Endothermic reactions\n",
    "##Solution enthalpy for carbon =0.62kWh/kgc\n",
    "carbon_sol_enthalpy=0.62*carbon_weight\n",
    "print(\"carbon_sol_enthalpy\",carbon_sol_enthalpy)\n",
    "\n",
    "## Reduction of iron oxide to iron FeO+C---Fe + CO\n",
    "reduction_enthalpy=3.59 #kWh/kg of carbon\n",
    "#lets conider that 70% of the FeO is converted into iron and rest remains in the slag\n",
    "feo_reduced=(FEO_weight*0.7)*1000\n",
    "feo_weight=71.845 #g/mol\n",
    "c_weight=12 #g/mol\n",
    "c_required=(c_weight/feo_weight)*feo_reduced\n",
    "feo_red_enthalpy=c_required*reduction_enthalpy\n",
    "print(\"carbon required\",c_required)\n",
    "print(\"Iron oxide reduction enthalpy\",feo_red_enthalpy)\n",
    "#Oxidation reaction of carbon with oxygen\n",
    "c_remaining=carbon_weight-c_required\n",
    "# Oxidation of carbon to carbon monoxide consider that remaining carbon is converted to CO\n",
    "# reaction C+0.5 O2---- CO + 9.10 kWh/kg of carbon\n",
    "CO_enthalpy=c_remaining*9.10 \n",
    "# certain portion of the CO escapes from the furnace and is also converted into CO2\n",
    "print(\"CO_enthalpy\",CO_enthalpy) \n",
    "chemical_enthalpy=Enthalpy_silica+Enthalpy_alumina-feo_red_enthalpy+CO_enthalpy-carbon_sol_enthalpy\n",
    "print(\"Chemical enthalpy\",chemical_enthalpy)\n",
    "\n",
    "\n",
    "# Reference : NIST https://webbook.nist.gov/cgi/cbook.cgi?ID=C7439896&Mask=2&Type=JANAFS&Table=on\n",
    "def fe_enthalpy(T):\n",
    "    t=T/1000\n",
    "    A=23.97449\n",
    "    B=8.367750\n",
    "    C=0.000277\n",
    "    D=-0.000088\n",
    "    E=-0.000005\n",
    "    F=0.268027\n",
    "    G=62.06336\n",
    "    H=7.788015    \n",
    "    H_t=A*t +(B*t*t)/2 +(C*t*t*t)/3 + (D*t*t*t*t)/4-(E/t)+F-H\n",
    "    return H_t\n",
    "H_f=247000 # Melting enthalpy of steel per ton in Kj/ton \n",
    "#https://materialsdata.nist.gov/bitstream/handle/11115/166/Thermophysical%20Properties.pdf?sequence=3\n",
    "H_T1=fe_enthalpy(T1) # Enthalpy of DRI at the input \n",
    "H_T2=fe_enthalpy(T2) # Enthalpy of molten steel at the output\n",
    "En_per_mol=H_T2-H_T1\n",
    "print(En_per_mol)\n",
    "mol_weight_fe=55.845 #in grams\n",
    "mol_per_ton=1000000/mol_weight_fe # 1 ton= 10^6 grams \n",
    "En_per_ton=En_per_mol*mol_per_ton\n",
    "print(En_per_ton) #In Kj/ton\n",
    "H_fe=((En_per_ton+H_f)/3600)*Total_fe_metal# Specific energy consumption KWh)\n",
    "print(H_fe) \n",
    "\n",
    "\"\"\" Energy contained in the slag\"\"\"\n",
    "def sio2_enthalpy(T):\n",
    "    t=T/1000\n",
    "    A=58.75\n",
    "    B=10.279\n",
    "    C=-0.131384\n",
    "    D=0.025210\n",
    "    E=0.025601\n",
    "    F=-929.3292\n",
    "    G=105.8092\n",
    "    H=-910.8568   \n",
    "    H_t=A*t +(B*t*t)/2 +(C*t*t*t)/3 + (D*t*t*t*t)/4-(E/t)+F-H\n",
    "    return H_t\n",
    "mol_weight_Sio2=60.0843 #in grams\n",
    "#H_f=(910.86 /60.0843)*1000 # Melting enthalpy of SiO2 is 1710 C\n",
    "H_T1=sio2_enthalpy(T1) # Enthalpy of DRI at the input \n",
    "H_T2=sio2_enthalpy(T2) # Enthalpy of molten steel at the output\n",
    "En_per_mol=H_T2-H_T1\n",
    "print(\"Energy per mol\",En_per_mol)\n",
    "mol_per_ton=1000000/mol_weight_Sio2# 1 ton= 10^6 grams \n",
    "En_per_ton=En_per_mol*mol_per_ton\n",
    "En_total=En_per_ton # H_f needs to be added only when there is a conversion from solid to liquid \n",
    "print(\"Energy per ton in kJ\",En_per_ton) #In Kj/ton\n",
    "#print((En_total)/3600)# Specific energy consumption KWh)\n",
    "H_SIO2=(En_total/3600)*(SIO2_weight)\n",
    "print(\"Enthalpy change in kWh\",H_SIO2)\n",
    "\n",
    "\n",
    "\"\"\"Reference : https://webbook.nist.gov/cgi/cbook.cgi?ID=C1344281&Mask=2\"\"\"\n",
    "def Al2O3_enthalpy(T):\n",
    "    t=T/1000\n",
    "    A=106.0880\n",
    "    B=36.33740\n",
    "    C=-13.86730\n",
    "    D=2.141221\n",
    "    E=-3.133231\n",
    "    F=-1705.970\n",
    "    G=153.9350\n",
    "    H=-1662.300  \n",
    "    H_t=A*t +(B*t*t)/2 +(C*t*t*t)/3 + (D*t*t*t*t)/4-(E/t)+F-H\n",
    "    return H_t\n",
    "mol_weight_al2o3=101.9613 #in grams\n",
    "#H_f=(1675.69 /mol_weight_al2o3)*1000 # Melting point of alumina is 2073 C\n",
    "H_T1=Al2O3_enthalpy(T1) # Enthalpy of DRI at the input \n",
    "H_T2=Al2O3_enthalpy(T2) # Enthalpy of molten steel at the output\n",
    "En_per_mol=H_T2-H_T1\n",
    "print(En_per_mol)\n",
    "\n",
    "mol_per_ton=1000000/mol_weight_al2o3# 1 ton= 10^6 grams \n",
    "En_per_ton=En_per_mol*mol_per_ton\n",
    "En_total=En_per_ton\n",
    "print(\"Energy per mol\",En_per_ton) #In Kj/ton\n",
    "#print((En_total)/3600)# Specific energy consumption KWh)\n",
    "H_AL2O3=(En_total/3600)*(AL2O3_weight)\n",
    "print(\"Enthalpy change in Al2o3 in EAF in kWH\",H_AL2O3)\n",
    "\n",
    "\"\"\"reference : https://webbook.nist.gov/cgi/cbook.cgi?ID=C1305788&Mask=2\"\"\"\n",
    "def cao_enthalpy(T):\n",
    "    t=T/1000\n",
    "    A=49.95403\n",
    "    B=4.887916\n",
    "    C=-0.353056\n",
    "    D=0.046187\n",
    "    E=-0.825097\n",
    "    F=-652.9718\n",
    "    G=92.56096\n",
    "    H=-635.0894\n",
    "    H_t=A*t +(B*t*t)/2 +(C*t*t*t)/3 + (D*t*t*t*t)/4-(E/t)+F-H\n",
    "    return H_t\n",
    "mol_weight_cao=56.077 #in grams\n",
    "#H_f=(635.09 /mol_weight_cao)*1000 # Melting point of cao is 2572 C\n",
    "\n",
    "H_T1=cao_enthalpy(T1) # Enthalpy of DRI at the input \n",
    "H_T2=cao_enthalpy(T2) # Enthalpy of molten steel at the output\n",
    "En_per_mol=H_T2-H_T1\n",
    "print(En_per_mol)\n",
    "\n",
    "mol_per_ton=1000000/mol_weight_cao# 1 ton= 10^6 grams \n",
    "En_per_ton=En_per_mol*mol_per_ton\n",
    "En_total=En_per_ton\n",
    "print(\"Energy per mol\",En_per_ton) #In Kj/ton\n",
    "#print((En_total)/3600)# Specific energy consumption KWh)\n",
    "H_cao=(En_total/3600)*(CAO_weight)\n",
    "print(\"Enthalpy change in cao in EAF in kWH\",H_cao)\n",
    "\n",
    "def mgo_enthalpy(T):\n",
    "    t=T/1000\n",
    "    A=47.25995\n",
    "    B=5.681621\n",
    "    C=-0.872665\n",
    "    D=0.104300\n",
    "    E=-1.053955\n",
    "    F=-619.1316\n",
    "    G=76.46176\n",
    "    H=-601.2408\n",
    "    H_t=A*t +(B*t*t)/2 +(C*t*t*t)/3 + (D*t*t*t*t)/4-(E/t)+F-H\n",
    "    return H_t\n",
    "mol_weight_mgo=40.3044 #in grams\n",
    "#H_f=(601.24/mol_weight_mgo)*1000 # Melting point of Mgo is 2852 C\n",
    "H_T1=mgo_enthalpy(T1) # Enthalpy of DRI at the input \n",
    "H_T2=mgo_enthalpy(T2) # Enthalpy of molten steel at the output\n",
    "En_per_mol=H_T2-H_T1\n",
    "print(En_per_mol)\n",
    "\n",
    "mol_per_ton=1000000/mol_weight_mgo# 1 ton= 10^6 grams \n",
    "En_per_ton=En_per_mol*mol_per_ton\n",
    "En_total=En_per_ton \n",
    "print(\"Energy per mol\",En_per_ton) #In Kj/ton\n",
    "#print((En_total)/3600)# Specific energy consumption KWh)\n",
    "H_mgo=(En_total/3600)*(MGO_weight)\n",
    "print(\"Enthalpy change in cao in EAF in kWh\",H_mgo)\n",
    "\n",
    "\n",
    "#Enthalpy contained in residual FeO in the slag stream : \n",
    "#https://webbook.nist.gov/cgi/cbook.cgi?ID=C1345251&Mask=2\n",
    "# The constants are used for a temperature range of 298-1650 K and the \n",
    "#fusion enthalpy is added in the mix to account for the latent heat of fusion , \n",
    "#whcih is an endothermic reaction\n",
    "def feo_enthalpy(T):\n",
    "    t=T/1000\n",
    "    A=45.75120\n",
    "    B=18.78553\n",
    "    C=-5.952201\n",
    "    D=0.852779\n",
    "    E=-0.081265\n",
    "    F=-286.7429\n",
    "    G=110.3120\n",
    "    H=-272.0441\n",
    "    H_t=A*t +(B*t*t)/2 +(C*t*t*t)/3 + (D*t*t*t*t)/4-(E/t)+F-H\n",
    "    return H_t\n",
    "mol_weight_feo=71.844 #in grams\n",
    "H_f=(272.04/mol_weight_feo)*1000 # Melting point of feo is 1650K\n",
    "H_T1=feo_enthalpy(T1) # Enthalpy of DRI at the input \n",
    "H_T2=feo_enthalpy(T2) # Enthalpy of molten steel at the output\n",
    "En_per_mol=H_T2-H_T1\n",
    "print(En_per_mol)\n",
    "\n",
    "mol_per_ton=1000000/mol_weight_feo# 1 ton= 10^6 grams \n",
    "En_per_ton=En_per_mol*mol_per_ton\n",
    "En_total=En_per_ton+H_f\n",
    "print(\"Energy per mol\",En_per_ton) #In Kj/ton\n",
    "#print((En_total)/3600)# Specific energy consumption KWh)\n",
    "H_feo=(En_total/3600)*(FEO_weight-(feo_reduced/1000))\n",
    "print(\"Enthalpy change in FeO in EAF in kWh\",H_feo)\n",
    "\n",
    "# Energy contained in the slag \n",
    "En_slag=H_SIO2+H_AL2O3+H_cao+H_mgo+H_feo\n",
    "print(En_slag)\n",
    "Energy_out=En_slag+H_fe\n",
    "print(Energy_out) # in kWh\n",
    "\n",
    "\n",
    "\"\"\" Final calculations for the electrical energy and the energy balance of the system\"\"\"\n",
    "\n",
    "eta_chem=0.6 # Efficiency of heat transfer , \n",
    "#waste gases etc considered in this calculation\n",
    "eta_el=0.6 # Efficiency of the transformer, arc \n",
    "#, heat transfer, cooling losses, waste gas stream taken into consideration\n",
    "el_energy=(Energy_out-(eta_chem*chemical_enthalpy))/eta_el\n",
    "print (\"Electrical energy input in kWh/ton of liquid steel\", el_energy)\n"
   ]
  },
  {
   "cell_type": "markdown",
   "metadata": {},
   "source": [
    "$\\frac{n(n-1)}{2} $"
   ]
  },
  {
   "cell_type": "code",
   "execution_count": null,
   "metadata": {},
   "outputs": [],
   "source": []
  },
  {
   "cell_type": "code",
   "execution_count": null,
   "metadata": {},
   "outputs": [],
   "source": []
  }
 ],
 "metadata": {
  "kernelspec": {
   "display_name": "Python 3",
   "language": "python",
   "name": "python3"
  },
  "language_info": {
   "codemirror_mode": {
    "name": "ipython",
    "version": 3
   },
   "file_extension": ".py",
   "mimetype": "text/x-python",
   "name": "python",
   "nbconvert_exporter": "python",
   "pygments_lexer": "ipython3",
   "version": "3.6.5"
  }
 },
 "nbformat": 4,
 "nbformat_minor": 2
}
