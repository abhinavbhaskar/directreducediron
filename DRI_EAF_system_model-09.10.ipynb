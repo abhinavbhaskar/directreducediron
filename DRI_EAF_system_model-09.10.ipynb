{
 "cells": [
  {
   "cell_type": "markdown",
   "metadata": {},
   "source": [
    "# Direct reduction of iron ore with hydrogen \n"
   ]
  },
  {
   "cell_type": "markdown",
   "metadata": {},
   "source": [
    "## Weights of raw material input in the shaft furnace"
   ]
  },
  {
   "cell_type": "markdown",
   "metadata": {},
   "source": [
    "1. It has been assumed 5% impurities are present in the raw materials. The assumption is consisten with the plant data available in the literature. Primary components of the impurities are silica and alumina.\n",
    "2. It is assumed that the output from the shaft furnace would be metallic Fe and FeO. It is also assumed that all the FeO will be reduced to pure iron in the electric arc furnace. Although, in practice some amount of FeO does not get reduced and becomed a part of the EAF slag.\n",
    "3. The ratio between metallic iron and iron oxide (FeO) is called the metallization rate of the furnace. Higher the metallization rate, higher will be the metallic iron content in the DRI output.At lower metallization rates more carbon needs to be added in the EAF furnace and lead to higher carbon footprint of the system.\n",
    "4. Hydrogen at high temperature is considered to be the source of energy for the reactions inside the shaft furnace.\n",
    "5. The iron ore pellets are heated from ambient temperature to 800 C, which is the reaction temperature. \n",
    "6. The flow rate of hydrogen is considered to be higher than the stocihiometric requirements.The ratio between the actual flow rate and the stoichiometric flow rate required for the reaction to occur is represented as lambda_h2 in the model.\n",
    "7. DRI stream exiting the shaft furnace is considered to be at a high temperature (upto 600 C).Enthalpy of the DRI stream increases with temperature.\n",
    "8. The exahust gas stream is assumed to be composed of hydrogen and water.The waste stream enthalpy varies with exhaust gas temperature and lambda_h2.\n",
    "9. The energy balance between incoming energy from the hydrogen stream and outgoing streams and reaction enthalpy required for one ton of liquid steel has been calculated in this model.\n",
    "10. Different values of metallization rate, input temperature of hydrogen,lambda_h2, exhaust gas temperature, and solid stream temperature have been modeled. \n",
    "11. A test case based on input values corresponding to a syn gas based DRI shaftfurnace will be considered for data validation. "
   ]
  },
  {
   "cell_type": "markdown",
   "metadata": {},
   "source": [
    "<img src=\"HDRI_electrolysis_08_10.png\">"
   ]
  },
  {
   "cell_type": "markdown",
   "metadata": {},
   "source": [
    "# Mass and energy balance for a direct reduction shaft furnace \n",
    "\n",
    "Iron ore pellets containing upto 5% impurities eneter the direct shaft furnace after being heated to the reaction temperature of $800 C $ by electrical heaters.\n"
   ]
  },
  {
   "cell_type": "code",
   "execution_count": 9,
   "metadata": {},
   "outputs": [
    {
     "name": "stdout",
     "output_type": "stream",
     "text": [
      "FeO percentage : [0.06000000000000005, 0.06999999999999995, 0.07999999999999996, 0.08999999999999997, 0.09999999999999996, 0.10999999999999999]\n",
      "Weight of iron ore fed to the shaft furnace to produce one ton of liquid steel in the DRI_EAF process : 1.5037593984962407\n"
     ]
    }
   ],
   "source": [
    "import pandas as pd \n",
    "import matplotlib.pyplot as plt\n",
    "import numpy as np\n",
    "alpha=[0.94,0.93,0.92,0.91,0.90,0.89] # Metallization rates considered for the DRI reduction shaft furnace\n",
    "fe2O3_pure=0.95 # Percentage of hematite in the raw material. 5% Impurities are considered in the iron ore which gets transferred into the EAF as it is \n",
    "Fe_O_ratio=112/160 # percentage of iron in one mole of iron ore \n",
    "hem_weight=1/(fe2O3_pure*Fe_O_ratio)# Weight of total iron ore fed to the DRI and EAF to get 1 ton of liquid steel\n",
    "Feo_per=[]\n",
    "for i in range(len(alpha)):\n",
    "    Feo_per.append(hem_weight*fe2O3_pure*(1-alpha[i])*Fe_O_ratio) # Depends on the slag content , metallization rate \n",
    "print(\"FeO percentage :\",Feo_per)\n",
    "Feo_weight=[]\n",
    "for i in range(len(Feo_per)):\n",
    "    Feo_weight.append(Feo_per[i]*hem_weight)\n",
    "    \n",
    "\n",
    "SIO2_per=3 # Percentage of silica in the Slag \n",
    "Al2O3_per=2 #Percentage of alumina in the Slag\n",
    "#CAO_percentage=4.5 #Percentage of lime added in the EAF slag is higher for DRI as the gangue content is higher making the system acidic\n",
    "#MGO_percentage=0.53 #Percentage of Magnesium oxide in the EAF slag\n",
    "SIO2_weight=(hem_weight*SIO2_per)/100 # SiO2 weight in ton \n",
    "AL2O3_weight=(hem_weight*Al2O3_per)/100 # weight in ton\n",
    "print(\"Weight of iron ore fed to the shaft furnace to produce one ton of liquid steel in the DRI_EAF process :\",hem_weight)\n"
   ]
  },
  {
   "cell_type": "code",
   "execution_count": 10,
   "metadata": {},
   "outputs": [],
   "source": [
    "m_fe2o3=hem_weight # mass flow rate of iron ore into the shaft \n",
    "m_sio2=SIO2_weight # mass flow rate of Silica into the shaft \n",
    "m_al2o3=AL2O3_weight # mass flow rate of Alumina into the shaft \n",
    "m_feo=Feo_weight # mass flow rate of Wustite from the DRI shaft furnace to the EAF\n"
   ]
  },
  {
   "cell_type": "markdown",
   "metadata": {},
   "source": [
    "Mass flow rate of iron ore into the shaft : $M_{Fe_{2}O_{3}}$  <br />\n",
    "Mass flow rate of Silica into the shaft : $M_{Sio_{2}}$   <br /> \n",
    "Mass flow rate of Alumina into the shaft : $M_{Al_{2}O_{3}}$ : <br />\n",
    "Mass flow rate of Wustite from the DRI shaft furnace to the EAF : $M_{FeO}$ <br />\n",
    "Stoichiometric Mass flow rate of hydrogen inside the DRI shaft furnace : $M_{H_{2}}$ <br />\n",
    "Actual Mass flow rate of hydrogen inside the DRI shaft furnace : $M_{H_{2 actual}}$ <br />\n"
   ]
  },
  {
   "cell_type": "markdown",
   "metadata": {},
   "source": [
    "## Molecular weight of raw materials fed to the shaft furnace"
   ]
  },
  {
   "cell_type": "code",
   "execution_count": 11,
   "metadata": {},
   "outputs": [],
   "source": [
    "mol_weight_fe=55.845 #in grams\n",
    "mol_weight_fe2o3=159.688 #in grams \n",
    "mol_weight_Sio2=60.0843 #in grams\n",
    "mol_weight_al2o3=101.9613 #in grams\n",
    "mol_weight_feo=71.844 #in grams\n",
    "mol_weight_H2=2.01588 #in grams\n",
    "mol_weight_H2O=18.0153 #in grams"
   ]
  },
  {
   "cell_type": "markdown",
   "metadata": {},
   "source": [
    "## Energy required to heat the raw materials to 800 C"
   ]
  },
  {
   "cell_type": "markdown",
   "metadata": {},
   "source": [
    "The raw materials (ore and impurities) are both heated from ambient temperature to 800 C, which is the reaction temperature.The heat is provided through electrical heaters at an electrical efficiency of 0.85. The input temperature of the pellets is considered to be 298 K and the exit temperature to be 1073 K. "
   ]
  },
  {
   "cell_type": "code",
   "execution_count": 14,
   "metadata": {},
   "outputs": [
    {
     "name": "stdout",
     "output_type": "stream",
     "text": [
      "Enthalpy of Iron ore in KJ/kg : 697.1709070984995\n",
      " Enthalpy of iron ore in kJ : 1048377.3039075182\n",
      "Enthalpy of sio2 in KJ : 38299.203208586274\n",
      "Energy per ton of aluminium oxide : 26265.60633766063\n"
     ]
    }
   ],
   "source": [
    "T1_hem=298 # K Ambient temperature / Temperature of the incoming iron pellets\n",
    "T2_hem=1073 # K Temperature of the iron ore for reduction process\n",
    "T1_sio2=298#Ambient temperature / Temperature of the incoming iron pellets\n",
    "T2_sio2=1073 # Temperature of the iron ore for reduction process\n",
    "T1_al2o3=298 #Ambient temperature / Temperature of the incoming iron pellets\n",
    "T2_al2o3=1073 #Temperature of the iron ore for reduction process\n",
    "\n",
    "# Enthalpy calculations for the different raw materials fed to the shaft furnace.\n",
    "\n",
    "def fe2o3_enthalpy_1(T):# T1 and T2 should be in the range of 298-950 K \n",
    "    t=T/1000\n",
    "    A=93.43834\n",
    "    B=108.3577\n",
    "    C=-50.86447\n",
    "    D=25.58683\n",
    "    E=-1.611330\n",
    "    F=-863.2094\n",
    "    G=161.0719\n",
    "    H=-825.5032 \n",
    "    H_t=A*t +(B*t*t)/2 +(C*t*t*t)/3 + (D*t*t*t*t)/4-(E/t)+F-H\n",
    "    return H_t\n",
    "def fe2o3_enthalpy_2(T):# T1 and T2 should be in the range of 1050-2500 K \n",
    "    t=T/1000\n",
    "    A=150.6240\n",
    "    B=0\n",
    "    C=0\n",
    "    D=0\n",
    "    E=0\n",
    "    F=-875.6066\n",
    "    G=252.8814\n",
    "    H=-825.5032\n",
    "    H_t=A*t +(B*t*t)/2 +(C*t*t*t)/3 + (D*t*t*t*t)/4-(E/t)+F-H\n",
    "    return H_t\n",
    "def fe2o3_enthalpy_3(T):# T1 and T2 should be in the range of 1050-2500 K \n",
    "    t=T/1000\n",
    "    A=110.9362\n",
    "    B=32.04714\n",
    "    C=-9.192333\n",
    "    D=0.901506\n",
    "    E=5.433677\n",
    "    F=-843.1471\n",
    "    G=228.3548\n",
    "    H=-825.5032\n",
    "    H_t=A*t +(B*t*t)/2 +(C*t*t*t)/3 + (D*t*t*t*t)/4-(E/t)+F-H\n",
    "    return H_t\n",
    "if T2_hem in range(298,951):\n",
    "    Fe2o3_En_per_mol=fe2o3_enthalpy_1(T2_hem)-fe2o3_enthalpy_1(T1_hem)\n",
    "elif T2_hem in range(951,1051):\n",
    "     Fe2o3_En_per_mol=fe2o3_enthalpy_2(T2_hem)-fe2o3_enthalpy_1(T1_hem)\n",
    "elif T2_hem in range(1051,2501):\n",
    "     Fe2o3_En_per_mol=fe2o3_enthalpy_3(T2_hem)-fe2o3_enthalpy_1(T1_hem)\n",
    "mol_per_ton_Fe2o3=1000000/mol_weight_fe2o3 # 1 ton= 10^6 grams \n",
    "Fe2o3_En_per_ton=Fe2o3_En_per_mol*mol_per_ton_Fe2o3\n",
    "H_Fe2o3=((Fe2o3_En_per_ton))*m_fe2o3 # Energy consumption in KJ\n",
    "print(\"Enthalpy of Iron ore in KJ/kg :\",Fe2o3_En_per_ton/1000)\n",
    "print(\" Enthalpy of iron ore in kJ :\",H_Fe2o3) \n",
    "\n",
    "\"\"\" Energy required to heat the impurities from 298 K to 800 K\"\"\"\n",
    "def sio2_enthalpy(T):\n",
    "    t=T/1000\n",
    "    A=58.75\n",
    "    B=10.279\n",
    "    C=-0.131384\n",
    "    D=0.025210\n",
    "    E=0.025601\n",
    "    F=-929.3292\n",
    "    G=105.8092\n",
    "    H=-910.8568   \n",
    "    H_t=A*t +(B*t*t)/2 +(C*t*t*t)/3 + (D*t*t*t*t)/4-(E/t)+F-H\n",
    "    return H_t\n",
    "mol_weight_Sio2=60.0843 #in grams\n",
    "#H_f=(910.86 /60.0843)*1000 # Melting enthalpy of SiO2 is 1710 C\n",
    "H_T1_sio2=sio2_enthalpy(T1_sio2) # Enthalpy of iron ore at the input of the DRI shaft furnace\n",
    "H_T2_sio2=sio2_enthalpy(T2_sio2) # Enthalpy of molten iron at the reaction temperature\n",
    "En_per_mol_sio2=H_T2_sio2-H_T1_sio2\n",
    "    #print(\"Energy per mol\",En_per_mol)\n",
    "mol_per_ton_sio2=1000000/mol_weight_Sio2# 1 ton= 10^6 grams \n",
    "En_sio2=(En_per_mol_sio2*mol_per_ton_sio2)*m_sio2 ## Energy per ton of SiO2 multiplied by the weight of sio2 in the solid stream\n",
    "En_total_sio2=En_sio2 # H_f needs to be added only when there is a conversion from solid to liquid \n",
    "\n",
    "print(\"Enthalpy of sio2 in KJ :\",En_sio2)\n",
    "\n",
    "\n",
    "\"\"\"Reference : https://webbook.nist.gov/cgi/cbook.cgi?ID=C1344281&Mask=2\"\"\"\n",
    "def Al2O3_enthalpy(T):\n",
    "    t=T/1000\n",
    "    A=106.0880\n",
    "    B=36.33740\n",
    "    C=-13.86730\n",
    "    D=2.141221\n",
    "    E=-3.133231\n",
    "    F=-1705.970\n",
    "    G=153.9350\n",
    "    H=-1662.300  \n",
    "    H_t=A*t +(B*t*t)/2 +(C*t*t*t)/3 + (D*t*t*t*t)/4-(E/t)+F-H\n",
    "    return H_t\n",
    "mol_weight_al2o3=101.9613 #in grams\n",
    "#H_f=(1675.69 /mol_weight_al2o3)*1000 # Melting point of alumina is 2073 C\n",
    "H_T1_al2o3=Al2O3_enthalpy(T1_al2o3) # Enthalpy of DRI at the input \n",
    "H_T2_al2o3=Al2O3_enthalpy(T2_al2o3) # Enthalpy of molten steel at the output\n",
    "En_per_mol_al2o3=H_T2_al2o3-H_T1_al2o3\n",
    "#print(\"Energy per mole al2o3\",En_per_mol_al2o3)\n",
    "\n",
    "mol_per_ton_al2o3=1000000/mol_weight_al2o3 # 1 ton= 10^6 grams \n",
    "En_al2o3=En_per_mol_al2o3*mol_per_ton_al2o3*m_al2o3 # Energy per ton of Al2O3 multiplied by the weight of Al2O3\n",
    "En_total_al2o3=En_al2o3\n",
    "print(\"Energy per ton of aluminium oxide :\",En_al2o3) #In Kj/ton\n",
    "\n",
    "\n"
   ]
  },
  {
   "cell_type": "markdown",
   "metadata": {},
   "source": [
    "### Electrical energy required for heating the raw materials"
   ]
  },
  {
   "cell_type": "code",
   "execution_count": 16,
   "metadata": {},
   "outputs": [
    {
     "name": "stdout",
     "output_type": "stream",
     "text": [
      "Electrical energy required for heating the iron ore to reduction temperature (in KJ): 1309343.6628867825\n",
      "Electrical energy required for heating the iron ore to reduction temperature (in KWH): 363.70657302410626\n"
     ]
    }
   ],
   "source": [
    "eta_el_heat=0.85 # Electrical heating efficiency \n",
    "H_ore_heat=(H_Fe2o3+En_sio2+En_al2o3)/eta_el_heat # In KJ\n",
    "print(\"Electrical energy required for heating the iron ore to reduction temperature (in KJ):\",H_ore_heat) # in KJ\n",
    "print(\"Electrical energy required for heating the iron ore to reduction temperature (in KWH):\",H_ore_heat/3600) # in KWh"
   ]
  },
  {
   "cell_type": "markdown",
   "metadata": {},
   "source": [
    "## Stochiometric calculations for the amount of Hydrogen required for reduction of iron\n",
    "\n",
    "Iron ore is reducd by hydrogen at a temperature of 800-900 C in an endothermic reaction using 99.5 kJ/mol.<br />\n",
    "$Fe_{2}O_{3}+ 3H_{2}---> 2Fe + 3H_{2}O$"
   ]
  },
  {
   "cell_type": "code",
   "execution_count": 17,
   "metadata": {},
   "outputs": [
    {
     "name": "stdout",
     "output_type": "stream",
     "text": [
      " Hydrogen required to produce 1 ton of iron in kg/ton of iron  : 54.146655922643035\n"
     ]
    }
   ],
   "source": [
    "H2_per_mol=3/2 # to produce 1 mole of iron 2/3 rd mole of hydrogen are required\n",
    "H2_weight=(H2_per_mol)*mol_weight_H2 # Weight of H2 for producing one mole of Fe in gms\n",
    "mol_per_ton_fe=(1000000)/mol_weight_fe # Number of moles in 1 ton of Fe\n",
    "H2_per_ton=(H2_weight*mol_per_ton_fe)/1000 # Weight of hydrogen in kg to reduce 1 ton of Fe2O3\n",
    "\n",
    "print(\"Hydrogen required to produce 1 ton of iron in kg/ton of iron:\", H2_per_ton)\n"
   ]
  },
  {
   "cell_type": "code",
   "execution_count": 18,
   "metadata": {},
   "outputs": [],
   "source": [
    "m_h2= H2_per_ton #Mass flow rate of hydrogen for production of one ton of steel."
   ]
  },
  {
   "cell_type": "markdown",
   "metadata": {},
   "source": [
    " ### Hydrogen required for reduction of iron oxide for  1 ton of Fe production (Actual)\n",
    " Actual amount of hydrogen entering the shaft furnace is higher than the stoichiometric value.The ration between the actual value and the stoichiometric value is defined as lambda_h2 in these calculations. The graph below shows the variation of mass flow rate of hydrogen with lamda_h2. "
   ]
  },
  {
   "cell_type": "code",
   "execution_count": 19,
   "metadata": {},
   "outputs": [
    {
     "name": "stdout",
     "output_type": "stream",
     "text": [
      "Amount of actual hydrogen required for reduction of iron oxide to produce 1 ton of iron in kg : [54.146655922643035, 81.21998388396455, 108.29331184528607, 135.3666398066076, 162.4399677679291, 189.51329572925061, 216.58662369057214, 243.65995165189366, 270.7332796132152] [1.0, 1.5, 2.0, 2.5, 3.0, 3.5, 4.0, 4.5, 5.0]\n"
     ]
    }
   ],
   "source": [
    "lambda_h2=[]\n",
    "H2_actual_ts=[]\n",
    "for i in range(2,11):\n",
    "    lambda_h2.append(i/2) # Iteratively add values to the list of lambda_h2 to see the effect of increasing lambda_h2\n",
    "for i in range(len(lambda_h2)):\n",
    "    H2_actual_ts.append(m_h2*lambda_h2[i]) # Amount of actual hydrogen required for reduction of iron oxide to produce 1 ton of iron\n",
    "print(\"Amount of actual hydrogen required for reduction of iron oxide to produce 1 ton of iron in kg :\",H2_actual_ts,lambda_h2)"
   ]
  },
  {
   "cell_type": "code",
   "execution_count": 20,
   "metadata": {},
   "outputs": [
    {
     "data": {
      "image/png": "[encoded data removed]",
      "text/plain": [
       "<Figure size 432x288 with 1 Axes>"
      ]
     },
     "metadata": {
      "needs_background": "light"
     },
     "output_type": "display_data"
    }
   ],
   "source": [
    "plt.plot(lambda_h2,H2_actual_ts)\n",
    "plt.xlabel('Lambda value ')\n",
    "plt.ylabel('Flow rate of H2/tls')\n",
    "plt.savefig('Flow rate of hydrogen variation with lambda.svg')\n",
    "plt.savefig('Flow rate of hydrogen variation with lambda.pdf')\n",
    "plt.show()\n"
   ]
  },
  {
   "cell_type": "markdown",
   "metadata": {},
   "source": [
    "## Mass flow rate of waste gases from the shaft furnace "
   ]
  },
  {
   "cell_type": "markdown",
   "metadata": {},
   "source": [
    "It is assumed that the waste gas stream is a mixture of unreacted hydrogen and water/steam produced from the reduction reaction. Amount of water produced would depend on the metallization rate. For ease of calculations, it is assumed that metallization is complete.Amount of unused hydrogen in the waste stream depends on the amount of hydrogen entering the shaft furnace or lambda_h2.\n",
    "\n",
    "Hydrogen is separated from the waste gas stream is mixed with the incoming hydrogen from the electrolyser.The mixed stream is heated to a temperature of 800-900 C and is fed to the shaft furnace.Water separated from the waste stream is fed back to the electrolyser.Hydrogen can be fed back to the shaft furnace from the storage to provide flexibility to the grid.It is not considered in the calculations as only steady state calculations are done in this analysis. "
   ]
  },
  {
   "cell_type": "markdown",
   "metadata": {},
   "source": [
    "<img src=\"Electricheater_h2.png\">"
   ]
  },
  {
   "cell_type": "code",
   "execution_count": 37,
   "metadata": {},
   "outputs": [
    {
     "name": "stdout",
     "output_type": "stream",
     "text": [
      "Amount of water in the waste stream per ton of steel production in kg/tls 483.89202256244965\n",
      "Amount of hydrogen in the waste stream per ton of steel production in kg/tls [0.0, 27.073327961321517, 54.146655922643035, 81.21998388396455, 108.29331184528607, 135.3666398066076, 162.4399677679291, 189.51329572925061, 216.58662369057214]\n"
     ]
    }
   ],
   "source": [
    "# Mass flow rate of water in the waste stream per ton of steel production\n",
    "\n",
    "water_tls=((3*mol_weight_H2O)/(2*mol_weight_fe))*1000\n",
    "print(\"Amount of water in the waste stream per ton of steel production in kg/tls\",water_tls) #kg/tls\n",
    "## Calculation of the hydrogen in the waste stream \n",
    "m_h2_waste_stream=[]\n",
    "m_water_tls=[]\n",
    "for j in range(len(lambda_h2)):\n",
    "    m_h2_waste_stream.append(m_h2*(lambda_h2[j]-1)) #Kg/tls\n",
    "    m_water_tls.append(water_tls)\n",
    "    # The value varies with input flow rate of hydrogen inside the shaft furnace\n",
    "print(\"Amount of hydrogen in the waste stream per ton of steel production in kg/tls\",m_h2_waste_stream)\n"
   ]
  },
  {
   "cell_type": "code",
   "execution_count": 38,
   "metadata": {},
   "outputs": [
    {
     "data": {
      "image/png": "[encoded data removed]",
      "text/plain": [
       "<Figure size 432x288 with 1 Axes>"
      ]
     },
     "metadata": {
      "needs_background": "light"
     },
     "output_type": "display_data"
    }
   ],
   "source": [
    "plt.plot(lambda_h2,m_h2_waste_stream,label='Hydrogen')\n",
    "plt.plot(lambda_h2,m_water_tls,label='Water/steam')\n",
    "plt.xlabel('Lambda value / Mass flow rate of input hydrogen stream')\n",
    "plt.ylabel('Flow rate of H2/tls in the waste stream')\n",
    "plt.savefig('Flow rate of Waste stream variation with lambda.svg')\n",
    "plt.savefig('Flow rate of Waste stream variation with lambda.pdf')\n",
    "plt.legend()\n",
    "plt.show()\n"
   ]
  },
  {
   "cell_type": "markdown",
   "metadata": {},
   "source": [
    "## Energy contained in the waste stream"
   ]
  },
  {
   "cell_type": "markdown",
   "metadata": {},
   "source": [
    "Temperature of the waste gas stream could vary according to the input temperature and flow rate of the hydrogen stream.Plant data from Syngas based DRI shaft furnace show that the temperature could vary from 275 C to 400 C.Higher temperatures are witnessed when the content of CO in the Syngas is higher.The reduction reaction between heamtite and CO is exothermic.On the other hand , hyrogen reduction of hematite is endothermic.We could assume a temperature of 350 C for the calculation of energy content in the waste gas stream.Hydrogen from the waste stream is fed back to the electrical heating system , where it gets mixed with hydrogen coming from the electrolyser output.Energy required to separate the two streams has not been considered in the present calculations. "
   ]
  },
  {
   "cell_type": "code",
   "execution_count": 47,
   "metadata": {},
   "outputs": [],
   "source": [
    "T_waste=623 # K Temperature of the exhaust gas leaving the reduction shaft furnace"
   ]
  },
  {
   "cell_type": "markdown",
   "metadata": {},
   "source": [
    "### Enthalpy contained in water stream"
   ]
  },
  {
   "cell_type": "code",
   "execution_count": 46,
   "metadata": {},
   "outputs": [
    {
     "name": "stdout",
     "output_type": "stream",
     "text": [
      "Enthalpy per Kg of Water in kJ/kg : 629.405546043845\n",
      "Enthalpy in water stream per Kg of steel in kJ: 304564.3226871792\n"
     ]
    }
   ],
   "source": [
    "def H2O_enthalpy(T):# 500 -1700 K reference :https://webbook.nist.gov/cgi/cbook.cgi?ID=C7732185&Mask=1\n",
    "    t=T/1000\n",
    "    A=30.09200\n",
    "    B=6.832514\n",
    "    C=6.793435\n",
    "    D=-2.534480\n",
    "    E=0.082139\n",
    "    F=-250.8810\n",
    "    G=223.3967\n",
    "    H=-241.8264\n",
    "    H_t=A*t +(B*t*t)/2 +(C*t*t*t)/3 + (D*t*t*t*t)/4-(E/t)+F-H\n",
    "    return H_t\n",
    "H2O_en_per_mol=H2O_enthalpy(T_waste)\n",
    "mol_per_kg_H2O=1000/mol_weight_H2O # Number of moles in one kg\n",
    "H2O_en_per_kg=(mol_per_kg_H2O)*(H2O_en_per_mol)\n",
    "\n",
    "print(\"Enthalpy per Kg of Water in kJ/kg :\",H2O_en_per_kg)\n",
    "# Multiplying the specific enthalpy with mass flow rate \n",
    "h2o_enthalpy=water_tls*H2O_en_per_kg\n",
    "print(\"Enthalpy in water stream per Kg of steel in kJ:\",h2o_enthalpy)\n"
   ]
  },
  {
   "cell_type": "markdown",
   "metadata": {},
   "source": [
    "### Enthalpy in the hydrogen from the waste stream"
   ]
  },
  {
   "cell_type": "code",
   "execution_count": 65,
   "metadata": {},
   "outputs": [
    {
     "name": "stdout",
     "output_type": "stream",
     "text": [
      "Enthalpy per Kg of hydrogen in kJ/kg : 4705.692808769396\n",
      "Enthalpy per Kg of hydrogen in kJ/kg : [0.0, 127398.76469704608, 254797.52939409215, 382196.2940911382, 509595.0587881843, 636993.8234852304, 764392.5881822763, 891791.3528793225, 1019190.1175763686]\n"
     ]
    }
   ],
   "source": [
    "def H2_enthalpy_1(T):# T1 and T2 should be in the range of 298-1000 K \n",
    "    t=T/1000\n",
    "    A=33.066718\n",
    "    B=-11.363417\n",
    "    C=11.432816\n",
    "    D=-2.772874\n",
    "    E=-0.158558\n",
    "    F=-9.980797\n",
    "    G=172.707974\n",
    "    H=0\n",
    "    H_t=A*t +(B*t*t)/2 +(C*t*t*t)/3 + (D*t*t*t*t)/4-(E/t)+F-H\n",
    "    return H_t\n",
    "H2_en_per_mol=H2_enthalpy_1(T_waste)     \n",
    "#mol_per_kg_H2=(1000/mol_weight_H2) # Number of moles in one kg \n",
    "H2_en_per_kg=((1000/mol_weight_H2)*H2_en_per_mol)\n",
    "h2_en_tls=[]\n",
    "for i in range(len(m_h2_waste_stream)):\n",
    "    h2_en_tls.append(H2_en_per_kg*(m_h2_waste_stream[i]))\n",
    "print(\"Enthalpy per Kg of hydrogen in kJ/kg :\",H2_en_per_kg)\n",
    "print(\"Enthalpy per Kg of hydrogen in kJ/kg :\",h2_en_tls)\n"
   ]
  },
  {
   "cell_type": "code",
   "execution_count": 70,
   "metadata": {},
   "outputs": [],
   "source": [
    "waste_enth=[]\n",
    "for i in range(len(h2_en_tls)):\n",
    "    waste_enth.append((h2_en_tls[i]+h2o_enthalpy)/1000)"
   ]
  },
  {
   "cell_type": "markdown",
   "metadata": {},
   "source": [
    "### Plot for the Hydrogen energy variation"
   ]
  },
  {
   "cell_type": "code",
   "execution_count": 71,
   "metadata": {},
   "outputs": [
    {
     "data": {
      "image/png": "[encoded data removed]",
      "text/plain": [
       "<Figure size 432x288 with 1 Axes>"
      ]
     },
     "metadata": {
      "needs_background": "light"
     },
     "output_type": "display_data"
    }
   ],
   "source": [
    "plt.plot(lambda_h2,waste_enth)\n",
    "plt.xlabel('Lambda value')\n",
    "plt.ylabel('Energy content in the waste stream in MJ')\n",
    "plt.savefig('Energy content in waste stream with lambda.svg')\n",
    "plt.savefig('Energy content in waste stream with lambda.pdf')\n",
    "plt.show()"
   ]
  },
  {
   "cell_type": "markdown",
   "metadata": {},
   "source": [
    "## Energy input to the hydrogen stream\n",
    "\n",
    "Hydrogen reduces the iron oxide pellets by converting them into Fe3O4---FeO----Fe.The optimal reaction temperature is 800 C (according to the experimental studies carried out to study the reaction kinetics).It is assumed that the heat for the reaction is transferred from the high temperature hydrogen.Different input temperatures are considered to see the impact of inlet temperature on the overall energy consumption of the furnace. Alkaline and PEM electrolysers produce hydrogen at a temperature of 70-80 C.Reduction of iron oxide is carried out a temperature of 800-900 C.In this section we calculate the amount of heat required to heat the hydrogen exiting the electrolyser to the reaction temperature.The value depends on the flow rate of hydrogen from the elctrolyser and from the waste gas stream.Temperature of the hydrogen from the waste stream needs to be increased from 623 K to 1073-1273 K, whereas , temperature of the hydrogen from the elctrolyser needs to be increased from 343 K to 1073-1273 K.  <br />\n",
    "$\n",
    "M_{h_{2_{actual}}} =M_{h_{2_{electrolyser}}} + M_{h_{2_{waste stream}}}  $ <br />\n",
    "\n",
    "$T_{h_{2_{electrolyser}}}=343 K$  <br />\n",
    "\n",
    "$T_{h_{2_{waste stream}}}=623 K$ <br />\n",
    "\n",
    "$M_{h_{2_{electolyser}}}=M_{h_{2_{actual}}}- M_{h_{2_{waste stream}}} $\n",
    "\n",
    "$T_{h_{2_{input}}}=1073 K -1273 K $\n"
   ]
  },
  {
   "cell_type": "markdown",
   "metadata": {},
   "source": [
    "### Mass flow rate of hydrogen from the electrolyser"
   ]
  },
  {
   "cell_type": "code",
   "execution_count": 93,
   "metadata": {},
   "outputs": [],
   "source": [
    "m_h2_electrolyser=[]\n",
    "for i in range(len(H2_actual_ts)):\n",
    "    m_h2_electrolyser.append(H2_actual_ts[i]-m_h2_waste_stream[i])\n",
    "T_electrolyser=343 # output hydrogen at a temperature of 70 C\n"
   ]
  },
  {
   "cell_type": "markdown",
   "metadata": {},
   "source": [
    "### Energy required to heat the hydrogen stream to 1073-1273 K"
   ]
  },
  {
   "cell_type": "code",
   "execution_count": 94,
   "metadata": {},
   "outputs": [],
   "source": [
    "T_h2_input=[1073,1098,1123,1148,1173,1198,1223,1248,1273]"
   ]
  },
  {
   "cell_type": "code",
   "execution_count": 95,
   "metadata": {},
   "outputs": [
    {
     "name": "stdout",
     "output_type": "stream",
     "text": [
      "Enthalpy per Kg of input  hydrogen at 1073 K in kJ/kg : [11357.178654536647, 11735.68092099354, 12115.410167028142, 12496.396476478576, 12878.665081966752, 13262.236903617199, 13647.129021702476, 14033.355092480218, 14420.925715031339]\n"
     ]
    }
   ],
   "source": [
    "def H2_enthalpy_1(T):# T1 and T2 should be in the range of 298-1000 K \n",
    "    t=T/1000\n",
    "    A=33.066718\n",
    "    B=-11.363417\n",
    "    C=11.432816\n",
    "    D=-2.772874\n",
    "    E=-0.158558\n",
    "    F=-9.980797\n",
    "    G=172.707974\n",
    "    H=0\n",
    "    H_t=A*t +(B*t*t)/2 +(C*t*t*t)/3 + (D*t*t*t*t)/4-(E/t)+F-H\n",
    "    return H_t\n",
    "\n",
    "def H2_enthalpy_2(T):# T1 and T2 should be in the range of 1050-2500 K \n",
    "    t=T/1000\n",
    "    A=18.563083\n",
    "    B=12.257357\n",
    "    C=-2.859786\n",
    "    D=0.268238\n",
    "    E=1.977990\n",
    "    F=-1.147438\n",
    "    G=156.288133\n",
    "    H=0\n",
    "    H_t=A*t +(B*t*t)/2 +(C*t*t*t)/3 + (D*t*t*t*t)/4-(E/t)+F-H\n",
    "    return H_t\n",
    "H2_in_en_per_mol=[]\n",
    "H2_in_en_per_kg=[]\n",
    "for i in range(len(T_h2_input)):\n",
    "    if T_h2_input[i] in range(298,1001):\n",
    "        H2_in_en_per_mol.append(H2_enthalpy_1(T_h2_input[i]))\n",
    "    elif T_h2_input[i] in range(1001,2501):\n",
    "        H2_in_en_per_mol.append(H2_enthalpy_2(T_h2_input[i]))\n",
    "  \n",
    "    mol_per_kg_H2=1000/mol_weight_H2 # Number of moles in one kg \n",
    "\n",
    "for j in range(len(T_h2_input)):\n",
    "    H2_in_en_per_kg.append(mol_per_kg_H2*H2_in_en_per_mol[j])\n",
    "print(\"Enthalpy per Kg of input  hydrogen at 1073 K in kJ/kg :\",H2_in_en_per_kg)\n"
   ]
  },
  {
   "cell_type": "markdown",
   "metadata": {},
   "source": [
    "#### H2 enthalpy at 623 K and 343 K"
   ]
  },
  {
   "cell_type": "code",
   "execution_count": 96,
   "metadata": {},
   "outputs": [],
   "source": [
    "def H2_enthalpy_1(T):# T1 and T2 should be in the range of 298-1000 K \n",
    "    t=T/1000\n",
    "    A=33.066718\n",
    "    B=-11.363417\n",
    "    C=11.432816\n",
    "    D=-2.772874\n",
    "    E=-0.158558\n",
    "    F=-9.980797\n",
    "    G=172.707974\n",
    "    H=0\n",
    "    H_t=A*t +(B*t*t)/2 +(C*t*t*t)/3 + (D*t*t*t*t)/4-(E/t)+F-H\n",
    "    return H_t"
   ]
  },
  {
   "cell_type": "code",
   "execution_count": 97,
   "metadata": {},
   "outputs": [],
   "source": [
    "en_h2_waste=(H2_enthalpy_1(T_waste)*(1000/mol_weight_H2))\n",
    "en_h2_electrolyser=(H2_enthalpy_1(T_electrolyser)*(1000/mol_weight_H2))"
   ]
  },
  {
   "cell_type": "markdown",
   "metadata": {},
   "source": [
    "### Fixing the output temperature to 1273 K"
   ]
  },
  {
   "cell_type": "code",
   "execution_count": 98,
   "metadata": {},
   "outputs": [],
   "source": [
    "total_heat_per_kg=[]\n",
    "for i in range(len(H2_in_en_per_kg)):\n",
    "    total_heat_per_kg.append((H2_in_en_per_kg[8]*H2_actual_ts[i])-(en_h2_waste*m_h2_waste_stream[i])-(en_h2_electrolyser*m_h2_electrolyser[i]))\n",
    "eta_heat=0.7\n",
    "total_heat=[]\n",
    "for i in range(len(total_heat_per_kg)):\n",
    "    total_heat.append(total_heat_per_kg[i]/(3600*eta_heat))"
   ]
  },
  {
   "cell_type": "code",
   "execution_count": 92,
   "metadata": {},
   "outputs": [
    {
     "data": {
      "image/png": "[encoded data removed]",
      "text/plain": [
       "<Figure size 432x288 with 1 Axes>"
      ]
     },
     "metadata": {
      "needs_background": "light"
     },
     "output_type": "display_data"
    }
   ],
   "source": [
    "plt.plot(lambda_h2,total_heat)\n",
    "plt.xlabel('Lambda value')\n",
    "plt.ylabel('Energy required to heat hydrogen stream to 900 C in KWh')\n",
    "plt.savefig('Energy required to heat hydrogen stream to 900 C in kJ.svg')\n",
    "plt.savefig('Energy required to heat hydrogen stream to 900 C in kJ.pdf')\n",
    "plt.show()"
   ]
  },
  {
   "cell_type": "markdown",
   "metadata": {},
   "source": [
    "## Reaction enthalpy calculation"
   ]
  },
  {
   "cell_type": "code",
   "execution_count": 101,
   "metadata": {},
   "outputs": [
    {
     "name": "stdout",
     "output_type": "stream",
     "text": [
      "Reaction enthalpy in J/mol:  99500\n",
      "Reaction enthalpy in kJ/mol:  99.5\n",
      "Reaction enthalpy in kJj/Kg of hematite:  623.0900255498221\n",
      "Reaction enthalpy in kJ per ton of heamtite :  623090.0255498221\n",
      "Reaction enthalpy in kJ/ton of liquid steel: 890128.6079283174\n"
     ]
    }
   ],
   "source": [
    "fe2o3_hem = 1\n",
    "h2_hem = 3\n",
    "fe_hem = 2\n",
    "h2o_hem = 3\n",
    "dHb_fe2o3 = -825500 #\t\t '[J/mol] formation enthalpy of hematite\n",
    "dHb_w = -242000 #\t '[J/mol] formation enthalpy of water (gaseous)\n",
    "dHr_hem = (dHb_w * h2o_hem) - dHb_fe2o3 #'[J/mol] reaction enthalpy\n",
    "print(\"Reaction enthalpy in J/mol: \",dHr_hem) \n",
    "dhr_hem_kj=dHr_hem/1000 # reaction enthalpy kJ/mol\n",
    "print(\"Reaction enthalpy in kJ/mol: \",dhr_hem_kj) \n",
    "dhr_hem_kj_kg=(dhr_hem_kj/mol_weight_fe2o3)*1000 # reaction ethalpy in kj/kg\n",
    "print(\"Reaction enthalpy in kJj/Kg of hematite: \",dhr_hem_kj_kg)\n",
    "dhr_hem_kj_ton=dhr_hem_kj_kg*1000\n",
    "print(\"Reaction enthalpy in kJ per ton of heamtite : \",dhr_hem_kj_ton) # kJ/ton of fe2O3 \n",
    "# Amount of heat to be supplied in kJ for production of 1 ton of molten steel\n",
    "dhr_per_ts=dhr_hem_kj_ton*m_fe2o3*fe2O3_pure\n",
    "print(\"Reaction enthalpy in kJ/ton of liquid steel:\",dhr_per_ts) "
   ]
  },
  {
   "cell_type": "markdown",
   "metadata": {},
   "source": [
    "## Energy contained in the solid stream exiting the DRI\n",
    "It is assumed that the solid stream is a mixture of iron, iron oxide and impurities such as silica and alumina. The solid stream exits the reactor at a temperature of 800 C. "
   ]
  },
  {
   "cell_type": "code",
   "execution_count": null,
   "metadata": {},
   "outputs": [],
   "source": [
    "\"\"\"Enthalpy of the residual FeO in the slag stream : https://webbook.nist.gov/cgi/cbook.cgi?ID=C1345251&Mask=2\"\"\"\n",
    "# The constants are used for a temperature range of 298-1650 K and the fusion enthalpy is added in the mix to account for the latent heat of fusion , whcih is an endothermic reaction\n",
    "T_dri_exit=1073 # Exit temperature of the FeO stream contained in the solid stream exiting the reactor\n",
    "En_per_mol_feo =[]\n",
    "En_per_ton_feo=[]\n",
    "mol_per_ton_feo=1000000/mol_weight_feo# 1 ton= 10^6 grams\n",
    "En_feo=[]\n",
    "def feo_enthalpy(T):\n",
    "    t=T/1000\n",
    "    A=45.75120\n",
    "    B=18.78553\n",
    "    C=-5.952201\n",
    "    D=0.852779\n",
    "    E=-0.081265\n",
    "    F=-286.7429\n",
    "    G=110.3120\n",
    "    H=-272.0441\n",
    "    H_t=A*t +(B*t*t)/2 +(C*t*t*t)/3 + (D*t*t*t*t)/4-(E/t)+F-H\n",
    "    return H_t\n",
    "for i in range(12):\n",
    "    En_per_mol_feo.append(feo_enthalpy(T_dri_exit[i])) # Using a loop to get enthalpy of Feo under different temperatures\n",
    "for k in range(12):\n",
    "    En_per_ton_feo.append(En_per_mol_feo[k]*mol_per_ton_feo) # Enthalpy calculation for different percentages of feo based on differetn metallization rates\n",
    "\n",
    "for i in range(6):\n",
    "    for j in range(12):\n",
    "        En_feo.append(En_per_ton_feo[j]*Feo_percentage[i])\n",
    "        #print(\"Temperature\",T_dri_exit[j])\n",
    "        #print(\"alpha\",alpha[i])\n",
    "#print(\"Energy per mole feo :\",En_per_mol_feo)\n",
    "#print(\"Energy per ton feo :\",En_per_ton_feo)\n",
    "#print(\"Energy contained in the feo stream exiting the reactor\",En_feo) #In Kj/tls\n",
    "\n",
    "### Energy contained in the iron ore stream\n",
    "En_per_mol_fe=[]\n",
    "En_fe=[]\n",
    "def fe_enthalpy(T):\n",
    "    t=T/1000\n",
    "    A=23.97449\n",
    "    B=8.367750\n",
    "    C=0.000277\n",
    "    D=-0.000088\n",
    "    E=-0.000005\n",
    "    F=0.268027\n",
    "    G=62.06336\n",
    "    H=7.788015    \n",
    "    H_t=A*t +(B*t*t)/2 +(C*t*t*t)/3 + (D*t*t*t*t)/4-(E/t)+F-H\n",
    "    return H_t\n",
    "#H_f=247000 # Melting enthalpy of steel per ton in Kj/ton https://materialsdata.nist.gov/bitstream/handle/11115/166/Thermophysical%20Properties.pdf?sequence=3\n",
    "for i in range(12):\n",
    "    En_per_mol_fe.append(fe_enthalpy(T_dri_exit[i]))# Enthalpy of direct reduced iron at the output of the reactor\n",
    "print(En_per_mol_fe)\n",
    "mol_per_ton_fe=1000000/mol_weight_fe # 1 ton= 10^6 grams\n",
    "for i in range(6):\n",
    "    for k in range(12):\n",
    "        En_fe.append(En_per_mol_fe[k]*mol_per_ton_fe*iron_ore_dri*Total_fe2O3*(alpha[i])*iron_oxygen_ratio)\n",
    "#print(\"Energy per ton of DRI\", En_fe) #In Kj/ton\n",
    "df_ex=pd.read_csv('alpha_temperature.csv')\n",
    "df_ex['En_fe']=En_fe\n",
    "df_ex['En_feo']=En_feo\n",
    "df_ex.head(10)\n",
    "df_ex.to_csv('waste stream enthalpy', encoding='utf-8', index=False)"
   ]
  },
  {
   "cell_type": "code",
   "execution_count": null,
   "metadata": {},
   "outputs": [],
   "source": [
    "plt.plot(df_ex['Alpha'],df_ex['En_fe'],df_ex['Alpha'],df_ex['En_feo'])"
   ]
  },
  {
   "cell_type": "code",
   "execution_count": null,
   "metadata": {},
   "outputs": [],
   "source": [
    "H_imp=[]\n",
    "for j in range(12):\n",
    "    H_imp.append((sio2_enthalpy(T_dri_exit[j])*mol_per_ton_sio2*SIO2_weight) +(Al2O3_enthalpy(T_dri_exit[i])*mol_per_ton_al2o3*AL2O3_weight))\n",
    "print(\"Energy exiting through the impurities contained in the solid stream at Exit temperatures:\",H_imp)\n",
    "plt.plot(T_dri_exit,H_imp)"
   ]
  },
  {
   "cell_type": "code",
   "execution_count": null,
   "metadata": {},
   "outputs": [],
   "source": [
    "H_imp_list=[]\n",
    "for i in range(6):\n",
    "    for j in range(12):\n",
    "        H_imp_list.append(H_imp[j]) # making a list with equal values of terms\n"
   ]
  },
  {
   "cell_type": "code",
   "execution_count": null,
   "metadata": {},
   "outputs": [],
   "source": [
    "df_ex['H_imp']=H_imp_list\n",
    "df_ex['H_solid'] =  df_ex[['En_fe', 'En_feo','H_imp']].sum(axis=1)\n",
    "df_ex.to_csv('Solid stream enthalpy.csv', encoding='utf-8', index=False)\n",
    "plt.plot(df_ex['Temperature'],df_ex['H_solid'],label='H_solid')\n",
    "plt.plot(df_ex['Temperature'],df_ex['H_imp'],label='H_impurities',color='black')\n",
    "plt.plot(df_ex['Temperature'],df_ex['En_fe'],label='H_fe')\n",
    "plt.plot(df_ex['Temperature'],df_ex['En_feo'],label=['H_feo'])\n",
    "plt.legend(loc='upper left')\n",
    "plt.figure(figsize=(30,20))\n"
   ]
  },
  {
   "cell_type": "markdown",
   "metadata": {},
   "source": [
    "## Energy balance for the shaft furnace "
   ]
  },
  {
   "cell_type": "markdown",
   "metadata": {},
   "source": [
    "H_h2=H_Fe2O3 + H_solid + H_offgas+ reaction_enthalpy"
   ]
  }
 ],
 "metadata": {
  "kernelspec": {
   "display_name": "Python 3",
   "language": "python",
   "name": "python3"
  },
  "language_info": {
   "codemirror_mode": {
    "name": "ipython",
    "version": 3
   },
   "file_extension": ".py",
   "mimetype": "text/x-python",
   "name": "python",
   "nbconvert_exporter": "python",
   "pygments_lexer": "ipython3",
   "version": "3.7.3"
  }
 },
 "nbformat": 4,
 "nbformat_minor": 2
}
