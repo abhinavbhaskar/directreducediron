{
 "cells": [
  {
   "cell_type": "markdown",
   "metadata": {},
   "source": [
    "# Energy modelling of a DRI shaft furnace"
   ]
  },
  {
   "cell_type": "markdown",
   "metadata": {},
   "source": [
    "A direct reduction shaft furnace, a counter flow reactor , where iron ore is fed from the top and reacting gases enter the reactor from the periphary and move towards the top. The solid-gas reaction occurs optimally at 800 C. "
   ]
  },
  {
   "cell_type": "markdown",
   "metadata": {},
   "source": [
    "<img src=\"DRI_fig.jpg\">"
   ]
  },
  {
   "cell_type": "code",
   "execution_count": 1,
   "metadata": {},
   "outputs": [
    {
     "name": "stdout",
     "output_type": "stream",
     "text": [
      "weight of iron ore 1.5997440409534478\n"
     ]
    }
   ],
   "source": [
    "alpha=0.94 # Metallization rate considered for the DRI reduction shaft furnace\n",
    "Total_fe2O3=0.95 # 5% Impurities are considered in the iron ore which gets transferred into the EAF as it is \n",
    "iron_oxygen_ratio=112/160 # percentage of iron in one mole of iron ore \n",
    "iron_ore_dri=1/(alpha*Total_fe2O3*iron_oxygen_ratio)# Weight of total iron ore fed to the DRI and EAF to get 1 ton of liquid steel\n",
    "SIO2_percentage=2 # Percentage of silica in the Slag \n",
    "Al2O3_percentage=1.7 #Percentage of alumina in the Slag\n",
    "#CAO_percentage=4.5 #Percentage of lime added in the EAF slag is higher for DRI as the gangue content is higher making the system acidic\n",
    "#MGO_percentage=0.53 #Percentage of Magnesium oxide in the EAF slag\n",
    "SIO2_weight=(iron_ore_dri*SIO2_percentage)/100 # SiO2 weight in ton \n",
    "#print(SIO2_weight*1000)\n",
    "AL2O3_weight=(iron_ore_dri*Al2O3_percentage)/100 # weight in ton\n",
    "#CAO_weight=(iron_ore_dri*CAO_percentage)/100 #weioght in ton\n",
    "#print(CAO_weight*1000)\n",
    "#MGO_weight=(iron_ore_dri*MGO_percentage)/100 #weight in ton \n",
    "#carbon_weight=8 # Weight of carbon in Kg added per ton for reduction of remaining FeO and production of carbon monoxide in the EAF for froth making which is essential for the smooth functioning of then EAF\n",
    "#print(\"Weight of metallic iron\",Total_fe_metal) #in ton\n",
    "#print(\"Weight of iron oxide\",FEO_weight) # in ton\n",
    "print(\"weight of iron ore\",iron_ore_dri)\n",
    "\n"
   ]
  },
  {
   "cell_type": "markdown",
   "metadata": {},
   "source": [
    "## Enthalpy calculations for Fe2O3"
   ]
  },
  {
   "cell_type": "code",
   "execution_count": 2,
   "metadata": {},
   "outputs": [
    {
     "name": "stdout",
     "output_type": "stream",
     "text": [
      "Enthalpy of Iron ore in KJ/kg : 696.9118484140238\n",
      " Enthalpy of iron ore in kWh : 309.6890490472742\n"
     ]
    }
   ],
   "source": [
    "def fe2o3_enthalpy_1(T):# T1 and T2 should be in the range of 298-950 K \n",
    "    t=T/1000\n",
    "    A=93.43834\n",
    "    B=108.3577\n",
    "    C=-50.86447\n",
    "    D=25.58683\n",
    "    E=-1.611330\n",
    "    F=-863.2094\n",
    "    G=161.0719\n",
    "    H=-825.5032 \n",
    "    H_t=A*t +(B*t*t)/2 +(C*t*t*t)/3 + (D*t*t*t*t)/4-(E/t)+F-H\n",
    "    return H_t\n",
    "def fe2o3_enthalpy_2(T):# T1 and T2 should be in the range of 1050-2500 K \n",
    "    t=T/1000\n",
    "    A=150.6240\n",
    "    B=0\n",
    "    C=0\n",
    "    D=0\n",
    "    E=0\n",
    "    F=-875.6066\n",
    "    G=252.8814\n",
    "    H=-825.5032\n",
    "    H_t=A*t +(B*t*t)/2 +(C*t*t*t)/3 + (D*t*t*t*t)/4-(E/t)+F-H\n",
    "    return H_t\n",
    "def fe2o3_enthalpy_3(T):# T1 and T2 should be in the range of 1050-2500 K \n",
    "    t=T/1000\n",
    "    A=110.9362\n",
    "    B=32.04714\n",
    "    C=-9.192333\n",
    "    D=0.901506\n",
    "    E=5.433677\n",
    "    F=-843.1471\n",
    "    G=228.3548\n",
    "    H=-825.5032\n",
    "    H_t=A*t +(B*t*t)/2 +(C*t*t*t)/3 + (D*t*t*t*t)/4-(E/t)+F-H\n",
    "    return H_t\n",
    "T1=298 # K Ambient temperature / Temperature of the incoming iron pellets\n",
    "T2=1073 # K Temperature of the iron ore for reduction process\n",
    "if T2 in range(298,951):\n",
    "    Fe2o3_En_per_mol=fe2o3_enthalpy_1(T2)\n",
    "elif T2 in range(951,1051):\n",
    "     Fe2o3_En_per_mol=fe2o3_enthalpy_2(T2)\n",
    "elif T2 in range(1051,2501):\n",
    "     Fe2o3_En_per_mol=fe2o3_enthalpy_3(T2)\n",
    "mol_weight_fe2o3=159.688 #in grams\n",
    "mol_per_ton_Fe2o3=1000000/mol_weight_fe2o3 # 1 ton= 10^6 grams \n",
    "Fe2o3_En_per_ton=Fe2o3_En_per_mol*mol_per_ton_Fe2o3\n",
    "H_Fe2o3=((Fe2o3_En_per_ton)/3600)*iron_ore_dri # Energy consumption in KWh)\n",
    "print(\"Enthalpy of Iron ore in KJ/kg :\",Fe2o3_En_per_ton/1000)\n",
    "print(\" Enthalpy of iron ore in kWh :\",H_Fe2o3) \n"
   ]
  },
  {
   "cell_type": "markdown",
   "metadata": {},
   "source": [
    "## Enthalpy calculations for Fe"
   ]
  },
  {
   "cell_type": "code",
   "execution_count": 3,
   "metadata": {},
   "outputs": [
    {
     "name": "stdout",
     "output_type": "stream",
     "text": [
      "16.598448621690686\n",
      "Energy per ton of DRI 297223.5405441971\n"
     ]
    }
   ],
   "source": [
    "def fe_enthalpy(T):\n",
    "    t=T/1000\n",
    "    A=23.97449\n",
    "    B=8.367750\n",
    "    C=0.000277\n",
    "    D=-0.000088\n",
    "    E=-0.000005\n",
    "    F=0.268027\n",
    "    G=62.06336\n",
    "    H=7.788015    \n",
    "    H_t=A*t +(B*t*t)/2 +(C*t*t*t)/3 + (D*t*t*t*t)/4-(E/t)+F-H\n",
    "    return H_t\n",
    "#H_f=247000 # Melting enthalpy of steel per ton in Kj/ton https://materialsdata.nist.gov/bitstream/handle/11115/166/Thermophysical%20Properties.pdf?sequence=3\n",
    "T_dri=873\n",
    "En_per_mol_fe=fe_enthalpy(T_dri)# Enthalpy of molten steel at the output\n",
    "print(En_per_mol_fe)\n",
    "mol_weight_fe=55.845 #in grams\n",
    "mol_per_ton_fe=1000000/mol_weight_fe # 1 ton= 10^6 grams \n",
    "En_per_ton_fe=En_per_mol_fe*mol_per_ton_fe\n",
    "print(\"Energy per ton of DRI\", En_per_ton_fe) #In Kj/ton\n"
   ]
  },
  {
   "cell_type": "markdown",
   "metadata": {},
   "source": [
    "### Electrical energy required for heating Iron ore \n",
    "\n",
    "\n"
   ]
  },
  {
   "cell_type": "code",
   "execution_count": 4,
   "metadata": {},
   "outputs": [
    {
     "name": "stdout",
     "output_type": "stream",
     "text": [
      "Electrical energy required for heating the iron ore to reduction temperature (in kWh): 364.3400577026755\n"
     ]
    }
   ],
   "source": [
    "eta_el_heat=0.85 # Electrical heating efficiency \n",
    "El_heat=(H_Fe2o3)/eta_el_heat # In kWh\n",
    "print(\"Electrical energy required for heating the iron ore to reduction temperature (in kWh):\",El_heat) # in KWh"
   ]
  },
  {
   "cell_type": "markdown",
   "metadata": {},
   "source": [
    "## Hydrogen enthalpy calculations "
   ]
  },
  {
   "cell_type": "code",
   "execution_count": 22,
   "metadata": {},
   "outputs": [
    {
     "name": "stdout",
     "output_type": "stream",
     "text": [
      "Enthalpy per Kg of hydrogen in kJ/kg : 12878.665081966752\n"
     ]
    }
   ],
   "source": [
    "def H2_enthalpy_1(T):# T1 and T2 should be in the range of 298-1000 K \n",
    "    t=T/1000\n",
    "    A=33.066718\n",
    "    B=-11.363417\n",
    "    C=11.432816\n",
    "    D=-2.772874\n",
    "    E=-0.158558\n",
    "    F=-9.980797\n",
    "    G=172.707974\n",
    "    H=0\n",
    "    H_t=A*t +(B*t*t)/2 +(C*t*t*t)/3 + (D*t*t*t*t)/4-(E/t)+F-H\n",
    "    return H_t\n",
    "\n",
    "def H2_enthalpy_2(T):# T1 and T2 should be in the range of 1050-2500 K \n",
    "    t=T/1000\n",
    "    A=18.563083\n",
    "    B=12.257357\n",
    "    C=-2.859786\n",
    "    D=0.268238\n",
    "    E=1.977990\n",
    "    F=-1.147438\n",
    "    G=156.288133\n",
    "    H=0\n",
    "    H_t=A*t +(B*t*t)/2 +(C*t*t*t)/3 + (D*t*t*t*t)/4-(E/t)+F-H\n",
    "    return H_t\n",
    "T1=298 # K Ambient temperature / Temperature of the incoming iron pellets\n",
    "T2=1173 # K Temperature of the iron ore for reduction process1\n",
    "if T2 in range(298,1001):\n",
    "    H2_En_per_mol=H2_enthalpy_1(T2)\n",
    "elif T2 in range(1001,2501):\n",
    "     H2_En_per_mol=H2_enthalpy_2(T2)\n",
    "mol_weight_H2=2.01588 #in grams\n",
    "mol_per_kg_H2=1000/mol_weight_H2 # Number of moles in one kg \n",
    "H2_EN_per_kg=(mol_per_kg_H2)*(H2_En_per_mol)\n",
    "print(\"Enthalpy per Kg of hydrogen in kJ/kg :\",H2_EN_per_kg)\n"
   ]
  },
  {
   "cell_type": "markdown",
   "metadata": {},
   "source": [
    "## Stochiometric calculations for the amount of Hydrogen required for reduction of iron"
   ]
  },
  {
   "cell_type": "code",
   "execution_count": 23,
   "metadata": {},
   "outputs": [
    {
     "name": "stdout",
     "output_type": "stream",
     "text": [
      " Hydrogen required to reduce 1 ton of iron oxide in kg : 37.87159961925756\n"
     ]
    }
   ],
   "source": [
    "H2_per_mol=3 # to reduce 1 mole of iron oxide or hematite 3 moles of hydrogen are required.\n",
    "H2_weight=3*mol_weight_H2 # Weight of H2 for one mole of Fe2O3 in grams\n",
    "mol_weight_fe2o3=159.688 # Molecular weight of hematite\n",
    "H2_per_fe2o3=((1000/(mol_weight_fe2o3))*(H2_weight))# Weight of H2 in grams required for 1 kg of Fe2O3\n",
    "H2_per_ton=(H2_per_fe2o3*1000)/1000 # Weight of hydrogen in kg to reduce 1 ton of Fe2O3\n",
    "\n",
    "print(\" Hydrogen required to reduce 1 ton of iron oxide in kg :\", H2_per_ton)"
   ]
  },
  {
   "cell_type": "markdown",
   "metadata": {},
   "source": [
    "### Hydrogen required for reduction of iron oxide for  1 ton of Fe production (Stoichiometric)"
   ]
  },
  {
   "cell_type": "code",
   "execution_count": 24,
   "metadata": {},
   "outputs": [
    {
     "name": "stdout",
     "output_type": "stream",
     "text": [
      "Hydrogen required for 1 ton of iron production in the shaft furnace, stoichiometric value in kg : 57.55562252166803\n"
     ]
    }
   ],
   "source": [
    "H2_per_ts=H2_per_ton*iron_ore_dri*Total_fe2O3 # only  iron ore reacts iwth hydrogen\n",
    "print (\"Hydrogen required for 1 ton of iron production in the shaft furnace, stoichiometric value in kg :\",H2_per_ts)\n"
   ]
  },
  {
   "cell_type": "markdown",
   "metadata": {},
   "source": [
    " ### Hydrogen required for reduction of iron oxide for  1 ton of Fe production (Actual)"
   ]
  },
  {
   "cell_type": "code",
   "execution_count": 35,
   "metadata": {},
   "outputs": [
    {
     "name": "stdout",
     "output_type": "stream",
     "text": [
      "Amount of actual hydrogen required for reduction of iron oxide to produce 1 ton of iron in kg : 86.33343378250204\n"
     ]
    }
   ],
   "source": [
    "lambda_h2=1.5 # lambda=Actual amount of hydrogen required/ Stoichiometric quantity of hydrogen required\n",
    "H2_actual_ts=H2_per_ts*lambda_h2 # Amount of actual hydrogen required for reduction of iron oxide to produce 1 ton of iron\n",
    "print(\"Amount of actual hydrogen required for reduction of iron oxide to produce 1 ton of iron in kg :\",H2_actual_ts)\n"
   ]
  },
  {
   "cell_type": "markdown",
   "metadata": {},
   "source": [
    "## Reaction enthalpy calculation\n"
   ]
  },
  {
   "cell_type": "code",
   "execution_count": 36,
   "metadata": {},
   "outputs": [
    {
     "name": "stdout",
     "output_type": "stream",
     "text": [
      "99500\n",
      "99.5\n",
      "623.0900255498221\n",
      "946945.3275833165\n"
     ]
    }
   ],
   "source": [
    "ny_fe2o3_hem = 1\n",
    "ny_h2_hem = 3\n",
    "ny_fe_hem = 2\n",
    "ny_h2o_hem = 3\n",
    "dHb_fe2o3 = -825500 #\t\t '[J/mol] formation enthalpy of hematite\n",
    "dHb_w = -242000 #\t '[J/mol] formation enthalpy of water (gaseous)\n",
    "dHr_hem = (dHb_w * ny_h2o_hem) - dHb_fe2o3 #'[J/mol] reaction enthalpy\n",
    "print(dHr_hem) \n",
    "dhr_hem_kj=dHr_hem/1000 # reaction enthalpy kJ/mol\n",
    "print(dhr_hem_kj) \n",
    "dhr_hem_kj_kg=(dhr_hem_kj/mol_weight_fe2o3)*1000 # reaction ethalpy in kj/kg\n",
    "print(dhr_hem_kj_kg)\n",
    "dhr_hem_kj_ton=dhr_hem_kj_kg*1000\n",
    "#rint(dhr_hem_kj_ton) # kJ/ton of fe2O3 \n",
    "dhr_per_ts=dhr_hem_kj_ton*iron_ore_dri*Total_fe2O3 \n",
    "print(dhr_per_ts) # Amount of heat to be supplied in kJ for production of 1 ton of molten steel\n"
   ]
  },
  {
   "cell_type": "markdown",
   "metadata": {},
   "source": [
    "## Waste gas stream enthalpy calculation"
   ]
  },
  {
   "cell_type": "code",
   "execution_count": null,
   "metadata": {},
   "outputs": [],
   "source": []
  },
  {
   "cell_type": "markdown",
   "metadata": {},
   "source": [
    "## Energy balance for the shaft furnace \n"
   ]
  },
  {
   "cell_type": "markdown",
   "metadata": {},
   "source": [
    "*H_h2=H_Fe2O3 + H_impurities + H_offgas + H_fe + reaction_enthalpy"
   ]
  },
  {
   "cell_type": "code",
   "execution_count": 37,
   "metadata": {},
   "outputs": [
    {
     "name": "stdout",
     "output_type": "stream",
     "text": [
      "907855.3433212766\n"
     ]
    }
   ],
   "source": [
    "H_h2=H2_actual_ts*H2_EN_per_kg \n",
    "H_fe2O3=iron_ore_dri*Total_fe2O3*Fe2o3_En_per_ton # Heat required to raise the temperature of metal from ambient to reaction temperature\n",
    "H_fe=En_per_ton_fe*iron_ore_dri*Total_fe2O3*iron_oxygen_ratio\n",
    "\n",
    "H_waste=H_h2+H_fe2O3-H_fe-dhr_per_ts\n",
    "print(H_waste)"
   ]
  },
  {
   "cell_type": "code",
   "execution_count": null,
   "metadata": {},
   "outputs": [],
   "source": []
  }
 ],
 "metadata": {
  "kernelspec": {
   "display_name": "Python 3",
   "language": "python",
   "name": "python3"
  },
  "language_info": {
   "codemirror_mode": {
    "name": "ipython",
    "version": 3
   },
   "file_extension": ".py",
   "mimetype": "text/x-python",
   "name": "python",
   "nbconvert_exporter": "python",
   "pygments_lexer": "ipython3",
   "version": "3.6.5"
  }
 },
 "nbformat": 4,
 "nbformat_minor": 2
}
