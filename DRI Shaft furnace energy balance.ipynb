{
 "cells": [
  {
   "cell_type": "markdown",
   "metadata": {},
   "source": [
    "# Energy modelling of a DRI shaft furnace"
   ]
  },
  {
   "cell_type": "markdown",
   "metadata": {},
   "source": [
    "A direct reduction shaft furnace, is a counter flow reactor , where iron ore is fed from the top and reacting gases enter the reactor from the periphary and move towards the top. The solid-gas reaction occurs  at higher temperature but the highest kinetics is at 800 C. \n"
   ]
  },
  {
   "cell_type": "markdown",
   "metadata": {},
   "source": [
    "1. This paper presents the development of a mathematical model to describe the direct reduction of iron oxides in a shaft furnace. The concept of the shrinking core model was adopted. A pellet model was developed for the direct reduced iron using three consecutive reaction schemes, while the furnace was modelled as a one-dimensional steady state moving bed reactor. https://www.tandfonline.com/doi/full/10.1179/1743281211Y.0000000023?src=recsys\n",
    "2. Discussion on chemical energy utilisation of reducing gas in reduction shaft furnace . Heat balance of MIDREX shaft furnace is provided as well as  actual plant data related to the exhaust gas composition from  a DRI furnace is documented as  a table in the paper.\n",
    "https://www.tandfonline.com/doi/full/10.1179/1743281213Y.0000000168?src=recsys\n",
    "Discussions about the different MIDREX plants in operation and there capacity is provided in this research paper. https://www.kobelco.co.jp/english/ktr/pdf/ktr_29/050-057.pdf\n",
    "Most of the shaft furnaces use hydrogen rich gas as reducing gas. The materials and heat balances show that the heat balance determines the gas consumption. Compared with the gas requirement by chemical reaction, a much greater quantity of gas has to be blown into the furnace to satisfy the heat balance,leading to a high energy consumption and high excess of reduction potential of top gas, which is defined as (COzH2)/(H2OCO2). Since published references about solving such problems are rather limited, a new method is proposed in this paper for modifying the shaft furnace with oxygen blowing. In this new process, oxygen is blown into the upper zone of the shaft furnace for the combustion of some gas so to increase the temperature in the upper part of the furnace. As a result, the kinetic condition for reduction reaction is perfectly satisfied, and the reduction rate is increased. Therefore, the utilisation of gas is enhanced, and energy consumption is reduced essentially.A similar system can be deployed even in a 100% hydrogen based system to increase the kinetics of the reaction . https://www.tandfonline.com/doi/full/10.1179/1743281213Y.0000000168?src=recsys\n",
    "3. Important paper on mathematical modelling of iron ore reduction with pure hydrogen. The paper contains information about the experimental set-up, which a double crucible TGA set-up from Setaram : https://www.sciencedirect.com/science/article/pii/S0959652612003836\n",
    "4. In the standard processes using reducing gas (syn gas) in the final step ( 3 hours) is cooling and carburizing step, during which carbon from carbon monoxide is deposited simultaneously with cooling. In the case of pure hydrogen the step is different and this we call it cooling and extra reduction step in which hydrogen raises the degree of metallization instead of carbon deposition which inhibits extra reduction due to the sealing of the porosity of the product sponge. Link to paper abstract : https://www.degruyter.com/view/j/jaots.2010.13.issue-1/jaots-2010-0116/jaots-2010-0116.xml\n",
    "As expected, the first two reactions are very fast compared with the wustite-iron transformation. It should be pointed out that complete conversion to metallic iron is attained 2m above the bottom of the furnace (solid outlet). Thus, in these conditions, a 4-m high reactor would suffice to achieve the reduction. This is an important result because, in a conventional MIDREX process, a 9-m high reduction zone is needed to attain 92% of conversion at the solid outlet, using syngas as reducing agent in the same conditions. Reference : https://arxiv.org/pdf/1402.1715.pdf\n",
    "5. The first results from the model showed that complete conversion to metallic iron using pure H2 could be obtained using a more compact reactor than current industrial DR furnaces, which use syngas (CO+H2) as a reducing agent. This confirms the fact that reduction by H2 is faster than that by CO. A parametric study showed that the size of the pellets and the temperature of the inlet gas have strong influence on the reduction rate: the smaller the pellet diameter, the faster the reduction and thus the more compact the reactor. The optimum temperature was found to be 800oC. At higher temperatures, the densification of iron due to sintering causes the reaction to slow down at high conversions. The next steps of this work should be to verify if the kinetics used are valid for entire pellets and to adapt the model for the reduction of iron ore by H2/CO mixtures to validate the model against operation data of existing industrial DR process.Reference : https://arxiv.org/pdf/1402.1715.pdf\n",
    "Not so important but just go through the paper : https://link.springer.com/article/10.1007/s11663-014-0136-6\n",
    "6. The present work also emphasized the importance of evaluation of the reduction mechanisms and the properties of different types of iron ore pellets prior to developing a process model. While the present approach has established a good foundation for the dynamic modeling of the shaft reactor, more efforts are required to accomplish a realistic process model. https://link.springer.com/article/10.1007/s11663-016-0895-3\n",
    "7. In this study, the kinetic mechanism of reduction of hematite particles was studied in a hydrogen atmosphere. The phases and morphological transformation of hematite during the reduction were characterized using X-ray diffraction and scanning electron microscopy with energy dispersive spectroscopy. It was found that porous magnetite was formed, and the particles were degraded during the reduction. Finally, sintering of the reduced iron and wüstite retarded the reductive progress. The average activation energy was extracted to be 86.1 kJ/mol and 79.1 kJ/mol according to Flynn-Wall-Ozawa (FWO) and Starink methods, respectively. The reaction fraction dependent values of activation energy were suggested to be the result of multi-stage reactions during the reduction process. Furthermore, the variation of activation energy value was smoothed after heat treatment of hematite particles.https://www.mdpi.com/2075-4701/8/10/751\n",
    "https://www.mdpi.com/1996-1944/11/7/1094\n",
    "8. The kinetics of reduction of iron ore powder by H2 and CO gas mixtures with different compositions were studied using a commercial TGA setup. The results showed that the apparent rates of reaction vary linearly with the H2 and CO contents of the gas. Larger amount of H2 resulted in higher reaction rates. The data were employed in the developed reduction model for pellets. The model was based on the mechanism observed in the commercial iron ore pellets reduced by pure hydrogen. The microstructure of reacted pellets showed that reduction of the examined industrial samples is controlled by both chemical reaction and gaseous diffusion. The reduction model was developed by combining computations for the flow and mass transfer in the gas phase, diffusion of gases in the solid phase and chemical reaction at the reaction sites. The modelling and experimental results were in reasonably good agreement. The present model provides a good foundation for a dynamic multi-particle process model. The results highlighted the importance of considering the reduction mechanisms in different types of pellets prior to modelling.http://www.diva-portal.org/smash/record.jsf?pid=diva2%3A954514&dswid=7597\n",
    "9. The local mass, energy, and momentum balances are numerically solved, using the finite volume method. This model was successfully validated by simulating the shaft furnaces of two direct reduction plants of different capacities. The calculated results reveal the detailed interior behavior of the shaft furnace operation. Eight different zones can be distinguished, according to their predominant thermal and reaction characteristics. An important finding is the presence of a central zone of lesser temperature and conversionhttps://www.mdpi.com/1996-1944/11/10/1865\n",
    "10. Hematite reduction using hydrogen was conducted and the various process parameters were closely observed. A lab scale fluidized bed unit was designed especially for this study. The optimal values of the gas velocity, reduction time and temperature were evaluated. The values which indicated the highest reduction rate were set as fixed parameters for the following tests starting with the reduction time of 30 minutes and 750 ℃ of temperature. Among these variables the one with the highest interest was the gas specific consumption. It will tell the amount of the gas which is required to achieve a reduction rate of over 90% at the optimal conditions. This parameter is important for the scale up of the lab scale unit. 1,500 Nm3/ton-ore was found to be the optimal specific gas consumption rate at which the reduction rates exhibit the highest values for hematite.https://www.cheric.org/research/tech/periodicals/view.php?seq=1342370\n",
    "\n"
   ]
  },
  {
   "cell_type": "markdown",
   "metadata": {},
   "source": [
    "<img src=\"DRI_new\n",
    ".png\">"
   ]
  },
  {
   "cell_type": "code",
   "execution_count": 1,
   "metadata": {},
   "outputs": [
    {
     "name": "stdout",
     "output_type": "stream",
     "text": [
      "FeO percentage : 0.06000000000000005\n",
      "0.04511278195488722\n",
      "0.030075187969924814\n",
      "Weight of iron ore fed to the shaft furnace to produce one ton of liquid steel in the DRI_EAF process 1.5037593984962407\n"
     ]
    }
   ],
   "source": [
    "import pandas as pd \n",
    "import matplotlib.pyplot as plt \n",
    "alpha=0.94 # Metallization rate considered for the DRI reduction shaft furnace\n",
    "Total_fe2O3=0.95 # 5% Impurities are considered in the iron ore which gets transferred into the EAF as it is \n",
    "iron_oxygen_ratio=112/160 # percentage of iron in one mole of iron ore \n",
    "iron_ore_dri=1/(Total_fe2O3*iron_oxygen_ratio)# Weight of total iron ore fed to the DRI and EAF to get 1 ton of liquid steel\n",
    "Feo_percentage=iron_ore_dri*Total_fe2O3*(1-alpha)*iron_oxygen_ratio # Depends on the slag content , metallization rate \n",
    "print(\"FeO percentage :\",Feo_percentage)\n",
    "SIO2_percentage=3 # Percentage of silica in the Slag \n",
    "Al2O3_percentage=2 #Percentage of alumina in the Slag\n",
    "#CAO_percentage=4.5 #Percentage of lime added in the EAF slag is higher for DRI as the gangue content is higher making the system acidic\n",
    "#MGO_percentage=0.53 #Percentage of Magnesium oxide in the EAF slag\n",
    "SIO2_weight=(iron_ore_dri*SIO2_percentage)/100 # SiO2 weight in ton \n",
    "print(SIO2_weight)\n",
    "AL2O3_weight=(iron_ore_dri*Al2O3_percentage)/100 # weight in ton\n",
    "print(AL2O3_weight)\n",
    "#CAO_weight=(iron_ore_dri*CAO_percentage)/100 #weioght in ton\n",
    "#print(CAO_weight*1000)\n",
    "#MGO_weight=(iron_ore_dri*MGO_percentage)/100 #weight in ton \n",
    "#carbon_weight=8 # Weight of carbon in Kg added per ton for reduction of remaining FeO and production of carbon monoxide in the EAF for froth making which is essential for the smooth functioning of then EAF\n",
    "#print(\"Weight of metallic iron\",Total_fe_metal) #in ton\n",
    "#print(\"Weight of iron oxide\",FEO_weight) # in ton\n",
    "print(\"Weight of iron ore fed to the shaft furnace to produce one ton of liquid steel in the DRI_EAF process\",iron_ore_dri)\n",
    "mol_weight_fe=55.845 #in grams\n"
   ]
  },
  {
   "cell_type": "markdown",
   "metadata": {},
   "source": [
    "## Enthalpy calculations for Fe2O3"
   ]
  },
  {
   "cell_type": "code",
   "execution_count": 2,
   "metadata": {},
   "outputs": [
    {
     "name": "stdout",
     "output_type": "stream",
     "text": [
      "Enthalpy of Iron ore in KJ/kg : 696.9118484140238\n",
      " Enthalpy of iron ore in kJ : 1047987.7419759757\n"
     ]
    }
   ],
   "source": [
    "def fe2o3_enthalpy_1(T):# T1 and T2 should be in the range of 298-950 K \n",
    "    t=T/1000\n",
    "    A=93.43834\n",
    "    B=108.3577\n",
    "    C=-50.86447\n",
    "    D=25.58683\n",
    "    E=-1.611330\n",
    "    F=-863.2094\n",
    "    G=161.0719\n",
    "    H=-825.5032 \n",
    "    H_t=A*t +(B*t*t)/2 +(C*t*t*t)/3 + (D*t*t*t*t)/4-(E/t)+F-H\n",
    "    return H_t\n",
    "def fe2o3_enthalpy_2(T):# T1 and T2 should be in the range of 1050-2500 K \n",
    "    t=T/1000\n",
    "    A=150.6240\n",
    "    B=0\n",
    "    C=0\n",
    "    D=0\n",
    "    E=0\n",
    "    F=-875.6066\n",
    "    G=252.8814\n",
    "    H=-825.5032\n",
    "    H_t=A*t +(B*t*t)/2 +(C*t*t*t)/3 + (D*t*t*t*t)/4-(E/t)+F-H\n",
    "    return H_t\n",
    "def fe2o3_enthalpy_3(T):# T1 and T2 should be in the range of 1050-2500 K \n",
    "    t=T/1000\n",
    "    A=110.9362\n",
    "    B=32.04714\n",
    "    C=-9.192333\n",
    "    D=0.901506\n",
    "    E=5.433677\n",
    "    F=-843.1471\n",
    "    G=228.3548\n",
    "    H=-825.5032\n",
    "    H_t=A*t +(B*t*t)/2 +(C*t*t*t)/3 + (D*t*t*t*t)/4-(E/t)+F-H\n",
    "    return H_t\n",
    "T1_iron_ore=298 # K Ambient temperature / Temperature of the incoming iron pellets\n",
    "T2_iron_ore=1073 # K Temperature of the iron ore for reduction process\n",
    "if T2_iron_ore in range(298,951):\n",
    "    Fe2o3_En_per_mol=fe2o3_enthalpy_1(T2_iron_ore)\n",
    "elif T2_iron_ore in range(951,1051):\n",
    "     Fe2o3_En_per_mol=fe2o3_enthalpy_2(T2_iron_ore)\n",
    "elif T2_iron_ore in range(1051,2501):\n",
    "     Fe2o3_En_per_mol=fe2o3_enthalpy_3(T2_iron_ore)\n",
    "mol_weight_fe2o3=159.688 #in grams\n",
    "mol_per_ton_Fe2o3=1000000/mol_weight_fe2o3 # 1 ton= 10^6 grams \n",
    "Fe2o3_En_per_ton=Fe2o3_En_per_mol*mol_per_ton_Fe2o3\n",
    "H_Fe2o3=((Fe2o3_En_per_ton))*iron_ore_dri # Energy consumption in KJ\n",
    "print(\"Enthalpy of Iron ore in KJ/kg :\",Fe2o3_En_per_ton/1000)\n",
    "print(\" Enthalpy of iron ore in kJ :\",H_Fe2o3) \n"
   ]
  },
  {
   "cell_type": "markdown",
   "metadata": {},
   "source": [
    "## Energy required to heat the impurities in the iron ore \n"
   ]
  },
  {
   "cell_type": "code",
   "execution_count": 3,
   "metadata": {},
   "outputs": [
    {
     "name": "stdout",
     "output_type": "stream",
     "text": [
      "Enthalpy of sio2 in KJ 38299.203208586274\n",
      "Energy per mole al2o3 89.04600596858086\n",
      "Energy per ton of aluminium oxide 26265.60633766063\n"
     ]
    }
   ],
   "source": [
    "\"\"\" Energy required to heat the impurities from 298 K to 800 K\"\"\"\n",
    "T1_sio2=T1_iron_ore\n",
    "T2_sio2=T2_iron_ore\n",
    "T1_al2o3=T1_iron_ore\n",
    "T2_al2o3=T2_iron_ore\n",
    "def sio2_enthalpy(T):\n",
    "    t=T/1000\n",
    "    A=58.75\n",
    "    B=10.279\n",
    "    C=-0.131384\n",
    "    D=0.025210\n",
    "    E=0.025601\n",
    "    F=-929.3292\n",
    "    G=105.8092\n",
    "    H=-910.8568   \n",
    "    H_t=A*t +(B*t*t)/2 +(C*t*t*t)/3 + (D*t*t*t*t)/4-(E/t)+F-H\n",
    "    return H_t\n",
    "mol_weight_Sio2=60.0843 #in grams\n",
    "#H_f=(910.86 /60.0843)*1000 # Melting enthalpy of SiO2 is 1710 C\n",
    "H_T1_sio2=sio2_enthalpy(T1_sio2) # Enthalpy of iron ore at the input of the DRI shaft furnace\n",
    "H_T2_sio2=sio2_enthalpy(T2_sio2) # Enthalpy of molten iron at the reaction temperature\n",
    "En_per_mol_sio2=H_T2_sio2-H_T1_sio2\n",
    "    #print(\"Energy per mol\",En_per_mol)\n",
    "mol_per_ton_sio2=1000000/mol_weight_Sio2# 1 ton= 10^6 grams \n",
    "En_sio2=(En_per_mol_sio2*mol_per_ton_sio2)*SIO2_weight ## Energy per ton of SiO2 multiplied by the weight of sio2 in the solid stream\n",
    "En_total_sio2=En_sio2 # H_f needs to be added only when there is a conversion from solid to liquid \n",
    "\n",
    "print(\"Enthalpy of sio2 in KJ\",En_sio2)\n",
    "\n",
    "\n",
    "\"\"\"Reference : https://webbook.nist.gov/cgi/cbook.cgi?ID=C1344281&Mask=2\"\"\"\n",
    "def Al2O3_enthalpy(T):\n",
    "    t=T/1000\n",
    "    A=106.0880\n",
    "    B=36.33740\n",
    "    C=-13.86730\n",
    "    D=2.141221\n",
    "    E=-3.133231\n",
    "    F=-1705.970\n",
    "    G=153.9350\n",
    "    H=-1662.300  \n",
    "    H_t=A*t +(B*t*t)/2 +(C*t*t*t)/3 + (D*t*t*t*t)/4-(E/t)+F-H\n",
    "    return H_t\n",
    "mol_weight_al2o3=101.9613 #in grams\n",
    "#H_f=(1675.69 /mol_weight_al2o3)*1000 # Melting point of alumina is 2073 C\n",
    "H_T1_al2o3=Al2O3_enthalpy(T1_al2o3) # Enthalpy of DRI at the input \n",
    "H_T2_al2o3=Al2O3_enthalpy(T2_al2o3) # Enthalpy of molten steel at the output\n",
    "En_per_mol_al2o3=H_T2_al2o3-H_T1_al2o3\n",
    "print(\"Energy per mole al2o3\",En_per_mol_al2o3)\n",
    "\n",
    "mol_per_ton_al2o3=1000000/mol_weight_al2o3# 1 ton= 10^6 grams \n",
    "En_al2o3=En_per_mol_al2o3*mol_per_ton_al2o3*AL2O3_weight # Energy per ton of Al2O3 multiplied by the weight of Al2O3\n",
    "En_total_al2o3=En_al2o3\n",
    "print(\"Energy per ton of aluminium oxide\",En_al2o3) #In Kj/ton\n",
    "\n"
   ]
  },
  {
   "cell_type": "markdown",
   "metadata": {},
   "source": [
    "### Electrical energy required for heating Iron ore and impurities"
   ]
  },
  {
   "cell_type": "code",
   "execution_count": 4,
   "metadata": {},
   "outputs": [
    {
     "name": "stdout",
     "output_type": "stream",
     "text": [
      "Electrical energy required for heating the iron ore to reduction temperature (in KJ): 1308885.3547320266\n"
     ]
    }
   ],
   "source": [
    "eta_el_heat=0.85 # Electrical heating efficiency \n",
    "H_ore_heat=(H_Fe2o3+En_sio2+En_al2o3)/eta_el_heat # In KJ\n",
    "print(\"Electrical energy required for heating the iron ore to reduction temperature (in KJ):\",H_ore_heat) # in KJ"
   ]
  },
  {
   "cell_type": "markdown",
   "metadata": {},
   "source": [
    "## Energy input from Hydrogen stream \n",
    "\n",
    "Hydrogen , produced through methane pyrolysis is fed to the direct reduction reactor at a high temperature. It reduces the iron oxide pellets by converting them into Fe3O4---FeO----Fe. The optimal reaction temperature is 800 C (according to the experimental studies carried out to study the reaction kinetics).\n",
    "\n",
    "### Hydrogen enthalpy calculations "
   ]
  },
  {
   "cell_type": "code",
   "execution_count": 5,
   "metadata": {},
   "outputs": [
    {
     "name": "stdout",
     "output_type": "stream",
     "text": [
      "[22.894709306107337, 24.42321304750869, 25.961843365435136, 26.73507812926384, 27.51097445226959, 28.289559863829023, 29.070855730417374, 29.85487790965161, 30.641637330179005, 32.223390000717]\n",
      "Enthalpy per Kg of hydrogen in kJ/kg : [11357.178654536647, 12115.410167028142, 12878.665081966752, 13262.236903617199, 13647.129021702476, 14033.355092480218, 14420.925715031339, 14809.848755705503, 15200.129635781397, 15984.775879872315]\n",
      "10 10\n"
     ]
    }
   ],
   "source": [
    "def H2_enthalpy_1(T):# T1 and T2 should be in the range of 298-1000 K \n",
    "    t=T/1000\n",
    "    A=33.066718\n",
    "    B=-11.363417\n",
    "    C=11.432816\n",
    "    D=-2.772874\n",
    "    E=-0.158558\n",
    "    F=-9.980797\n",
    "    G=172.707974\n",
    "    H=0\n",
    "    H_t=A*t +(B*t*t)/2 +(C*t*t*t)/3 + (D*t*t*t*t)/4-(E/t)+F-H\n",
    "    return H_t\n",
    "\n",
    "def H2_enthalpy_2(T):# T1 and T2 should be in the range of 1050-2500 K \n",
    "    t=T/1000\n",
    "    A=18.563083\n",
    "    B=12.257357\n",
    "    C=-2.859786\n",
    "    D=0.268238\n",
    "    E=1.977990\n",
    "    F=-1.147438\n",
    "    G=156.288133\n",
    "    H=0\n",
    "    H_t=A*t +(B*t*t)/2 +(C*t*t*t)/3 + (D*t*t*t*t)/4-(E/t)+F-H\n",
    "    return H_t\n",
    "H2_en_per_mol=[]\n",
    "H2_en_per_kg=[]\n",
    "T2=[1073,1123,1173,1198,1223,1248,1273,1298,1323,1373] # K Temperature of the hydrogen inlet in to the shaft reactor \n",
    "for i in range(10):\n",
    "    if T2[i] in range(298,1001):\n",
    "        H2_en_per_mol.append(H2_enthalpy_1(T2[i]))\n",
    "    elif T2[i] in range(1001,2501):\n",
    "        H2_en_per_mol.append(H2_enthalpy_2(T2[i]))\n",
    "    mol_weight_H2=2.01588 #in grams\n",
    "    mol_per_kg_H2=1000/mol_weight_H2 # Number of moles in one kg \n",
    "print(H2_en_per_mol)\n",
    "for j in range(10):\n",
    "    H2_en_per_kg.append(mol_per_kg_H2*H2_en_per_mol[j])\n",
    "print(\"Enthalpy per Kg of hydrogen in kJ/kg :\",H2_en_per_kg)\n",
    "print(len(T2),len(H2_en_per_kg))\n"
   ]
  },
  {
   "cell_type": "code",
   "execution_count": 6,
   "metadata": {},
   "outputs": [
    {
     "data": {
      "image/png": "[encoded data removed]",
      "text/plain": [
       "<Figure size 432x288 with 1 Axes>"
      ]
     },
     "metadata": {},
     "output_type": "display_data"
    }
   ],
   "source": [
    "import matplotlib.pyplot as plt \n",
    "plt.plot(T2,H2_en_per_kg)\n",
    "plt.xlabel('Hydrogen gas inlet temperature')\n",
    "plt.ylabel('Enthalpy of hydrogen KJ/kg')\n",
    "plt.savefig('Enthalpy of hydrogen with temperature variation.svg')\n"
   ]
  },
  {
   "cell_type": "markdown",
   "metadata": {},
   "source": [
    "## Stochiometric calculations for the amount of Hydrogen required for reduction of iron"
   ]
  },
  {
   "cell_type": "code",
   "execution_count": 7,
   "metadata": {},
   "outputs": [
    {
     "name": "stdout",
     "output_type": "stream",
     "text": [
      " Hydrogen required to reduce 1 ton of iron oxide in kg : 37.87159961925756\n"
     ]
    }
   ],
   "source": [
    "H2_per_mol=3 # to reduce 1 mole of iron oxide or hematite 3 moles of hydrogen are required.\n",
    "H2_weight=3*mol_weight_H2 # Weight of H2 for one mole of Fe2O3 in grams\n",
    "mol_weight_fe2o3=159.688 # Molecular weight of hematite\n",
    "H2_per_fe2o3=((1000/(mol_weight_fe2o3))*(H2_weight))# Weight of H2 in grams required for 1 kg of Fe2O3\n",
    "H2_per_ton=(H2_per_fe2o3*1000)/1000 # Weight of hydrogen in kg to reduce 1 ton of Fe2O3\n",
    "\n",
    "print(\" Hydrogen required to reduce 1 ton of iron oxide in kg :\", H2_per_ton)"
   ]
  },
  {
   "cell_type": "markdown",
   "metadata": {},
   "source": [
    "### Hydrogen required for reduction of iron oxide for  1 ton of Fe production (Stoichiometric)"
   ]
  },
  {
   "cell_type": "code",
   "execution_count": 8,
   "metadata": {},
   "outputs": [
    {
     "name": "stdout",
     "output_type": "stream",
     "text": [
      "Hydrogen required for 1 ton of iron production in the shaft furnace, stoichiometric value in kg : 54.10228517036794\n"
     ]
    }
   ],
   "source": [
    "H2_per_ts=H2_per_ton*iron_ore_dri*Total_fe2O3 # only  iron ore reacts with hydrogen\n",
    "print (\"Hydrogen required for 1 ton of iron production in the shaft furnace, stoichiometric value in kg :\",H2_per_ts)\n"
   ]
  },
  {
   "cell_type": "markdown",
   "metadata": {},
   "source": [
    " ### Hydrogen required for reduction of iron oxide for  1 ton of Fe production (Actual)"
   ]
  },
  {
   "cell_type": "code",
   "execution_count": 9,
   "metadata": {},
   "outputs": [
    {
     "name": "stdout",
     "output_type": "stream",
     "text": [
      "1.0\n",
      "1.5\n",
      "2.0\n",
      "2.5\n",
      "3.0\n",
      "3.5\n",
      "4.0\n",
      "4.5\n",
      "5.0\n",
      "5.5\n",
      "Amount of actual hydrogen required for reduction of iron oxide to produce 1 ton of iron in kg : 81.15342775555192 [1.0, 1.5, 2.0, 2.5, 3.0, 3.5, 4.0, 4.5, 5.0, 5.5]\n"
     ]
    }
   ],
   "source": [
    "lambda_h2=[]\n",
    "\n",
    "for i in range(2,12):\n",
    "    print(i/2)\n",
    "    lambda_h2.append(i/2) # Iteratively add values to the list of lambda_h2 to see the effect of increasing lambda_h2\n",
    "H2_actual_ts=(H2_per_ts*lambda_h2[1]) # Amount of actual hydrogen required for reduction of iron oxide to produce 1 ton of iron\n",
    "print(\"Amount of actual hydrogen required for reduction of iron oxide to produce 1 ton of iron in kg :\",H2_actual_ts,lambda_h2)\n"
   ]
  },
  {
   "cell_type": "markdown",
   "metadata": {},
   "source": [
    "## Reaction enthalpy calculation\n"
   ]
  },
  {
   "cell_type": "code",
   "execution_count": 10,
   "metadata": {},
   "outputs": [
    {
     "name": "stdout",
     "output_type": "stream",
     "text": [
      "99500\n",
      "99.5\n",
      "623.0900255498221\n",
      "890128.6079283174\n"
     ]
    }
   ],
   "source": [
    "ny_fe2o3_hem = 1\n",
    "ny_h2_hem = 3\n",
    "ny_fe_hem = 2\n",
    "ny_h2o_hem = 3\n",
    "dHb_fe2o3 = -825500 #\t\t '[J/mol] formation enthalpy of hematite\n",
    "dHb_w = -242000 #\t '[J/mol] formation enthalpy of water (gaseous)\n",
    "dHr_hem = (dHb_w * ny_h2o_hem) - dHb_fe2o3 #'[J/mol] reaction enthalpy\n",
    "print(dHr_hem) \n",
    "dhr_hem_kj=dHr_hem/1000 # reaction enthalpy kJ/mol\n",
    "print(dhr_hem_kj) \n",
    "dhr_hem_kj_kg=(dhr_hem_kj/mol_weight_fe2o3)*1000 # reaction ethalpy in kj/kg\n",
    "print(dhr_hem_kj_kg)\n",
    "dhr_hem_kj_ton=dhr_hem_kj_kg*1000\n",
    "#rint(dhr_hem_kj_ton) # kJ/ton of fe2O3 \n",
    "dhr_per_ts=dhr_hem_kj_ton*iron_ore_dri*Total_fe2O3 \n",
    "print(dhr_per_ts) # Amount of heat to be supplied in kJ for production of 1 ton of molten steel\n"
   ]
  },
  {
   "cell_type": "markdown",
   "metadata": {},
   "source": [
    "## Waste gas stream enthalpy calculation"
   ]
  },
  {
   "cell_type": "markdown",
   "metadata": {},
   "source": [
    "It is assumed that the waste gas stream is a mixture of hydrogen and water at 400 C. Percentage of gas in each stream can be calculated by considering the stoichiometry."
   ]
  },
  {
   "cell_type": "markdown",
   "metadata": {},
   "source": [
    "### Mass flow rate of hydrogen and water "
   ]
  },
  {
   "cell_type": "code",
   "execution_count": 11,
   "metadata": {},
   "outputs": [
    {
     "name": "stdout",
     "output_type": "stream",
     "text": [
      "Amount of water in the waste stream per ton of steel production 322.59468170829973\n",
      "Amount of hydrogen in the waste stream per ton of steel production [53.10228517036794, 80.15342775555192, 107.20457034073588, 134.25571292591985, 161.30685551110383, 188.3579980962878, 215.40914068147177, 242.46028326665575, 269.5114258518397, 296.5625684370237]\n"
     ]
    }
   ],
   "source": [
    "# Mass flow rate of water in the waste stream per ton of steel production\n",
    "mol_weight_H2O=18.0153 #in grams\n",
    "water_tls=(mol_weight_H2O/mol_weight_fe)*1000\n",
    "print(\"Amount of water in the waste stream per ton of steel production\",water_tls) #kg/tls\n",
    "## Calculation of the hydrogen in the waste stream \n",
    "H2_waste_stream=[]\n",
    "for j in range(10):\n",
    "    H2_waste_stream.append(H2_per_ts*lambda_h2[j]-1) #Kg/tls \n",
    "print(\"Amount of hydrogen in the waste stream per ton of steel production\",H2_waste_stream)"
   ]
  },
  {
   "cell_type": "markdown",
   "metadata": {},
   "source": [
    "### Enthalpy of water/steam"
   ]
  },
  {
   "cell_type": "code",
   "execution_count": 12,
   "metadata": {},
   "outputs": [
    {
     "name": "stdout",
     "output_type": "stream",
     "text": [
      "Enthalpy per Kg of Water in kJ/kg : 731.7594546013953\n"
     ]
    }
   ],
   "source": [
    "def H2O_enthalpy(T):# 500 -1700 K reference :https://webbook.nist.gov/cgi/cbook.cgi?ID=C7732185&Mask=1\n",
    "    t=T/1000\n",
    "    A=30.09200\n",
    "    B=6.832514\n",
    "    C=6.793435\n",
    "    D=-2.534480\n",
    "    E=0.082139\n",
    "    F=-250.8810\n",
    "    G=223.3967\n",
    "    H=-241.8264\n",
    "    H_t=A*t +(B*t*t)/2 +(C*t*t*t)/3 + (D*t*t*t*t)/4-(E/t)+F-H\n",
    "    return H_t\n",
    "T_waste=673 # K Temperature of the exhaust gas leaving the reduction shaft furnace\n",
    "H2O_En_per_mol=H2O_enthalpy(T_waste)\n",
    "mol_per_kg_H2O=1000/mol_weight_H2O # Number of moles in one kg \n",
    "H2O_EN_per_kg=(mol_per_kg_H2O)*(H2O_En_per_mol)\n",
    "print(\"Enthalpy per Kg of Water in kJ/kg :\",H2O_EN_per_kg)"
   ]
  },
  {
   "cell_type": "markdown",
   "metadata": {},
   "source": [
    "### Enthalpy in the waste stream "
   ]
  },
  {
   "cell_type": "code",
   "execution_count": 13,
   "metadata": {},
   "outputs": [
    {
     "name": "stdout",
     "output_type": "stream",
     "text": [
      "Energy in the waste stream in Kj/tls [524631.2595159437, 671633.1455825341, 818635.0316491246, 965636.9177157152, 1112638.8037823057, 1259640.6898488959, 1406642.5759154866, 1553644.4619820772, 1700646.3480486677, 1847648.234115258]\n"
     ]
    },
    {
     "data": {
      "text/plain": [
       "Text(0,0.5,'Offgas enthalpy in Kj/tls')"
      ]
     },
     "execution_count": 13,
     "metadata": {},
     "output_type": "execute_result"
    },
    {
     "data": {
      "image/png": "[encoded data removed]",
      "text/plain": [
       "<Figure size 432x288 with 1 Axes>"
      ]
     },
     "metadata": {},
     "output_type": "display_data"
    }
   ],
   "source": [
    "# Energy in the waste stream varying with lambda\n",
    "H_offgas=[]\n",
    "for k in range(10):\n",
    "    H_offgas.append((water_tls*H2O_EN_per_kg) +(H2_waste_stream[k]*H2_enthalpy_1(T_waste)*(1000/mol_weight_H2)))\n",
    "    \n",
    "print(\"Energy in the waste stream in Kj/tls\",H_offgas)\n",
    "plt.plot(lambda_h2,H_offgas,'o')\n",
    "plt.xlabel('lambda_h2')\n",
    "plt.ylabel('Offgas enthalpy in Kj/tls')"
   ]
  },
  {
   "cell_type": "markdown",
   "metadata": {},
   "source": [
    "## Energy contained in the solid stream being fed to the EAF at 600 C \n"
   ]
  },
  {
   "cell_type": "markdown",
   "metadata": {},
   "source": [
    "It is assumed that the solid stream is a mixture of iron, iron oxide and impurities such as silica and alumina. The solid stream exits the reactor at a temperature of 600 C. "
   ]
  },
  {
   "cell_type": "code",
   "execution_count": 14,
   "metadata": {},
   "outputs": [
    {
     "name": "stdout",
     "output_type": "stream",
     "text": [
      "Energy per mole feo : 31.297339028199787\n",
      "Energy per ton feo : 435629.1273898974\n",
      "Energy contained in the feo stream exiting the reactor 26137.74764339387\n",
      "16.598448621690686\n",
      "Energy per ton of DRI 279390.12811154523\n",
      "Energy exiting through the impurities contained in the solid stream at 600 C : 351831.67006329546\n"
     ]
    }
   ],
   "source": [
    "\"\"\"Enthalpy of the residual FeO in the slag stream : https://webbook.nist.gov/cgi/cbook.cgi?ID=C1345251&Mask=2\"\"\"\n",
    "# The constants are used for a temperature range of 298-1650 K and the fusion enthalpy is added in the mix to account for the latent heat of fusion , whcih is an endothermic reaction\n",
    "T_dri_exit=873 # Exit temperature of the FeO stream contained in the solid stream exiting the reactor\n",
    "def feo_enthalpy(T):\n",
    "    t=T/1000\n",
    "    A=45.75120\n",
    "    B=18.78553\n",
    "    C=-5.952201\n",
    "    D=0.852779\n",
    "    E=-0.081265\n",
    "    F=-286.7429\n",
    "    G=110.3120\n",
    "    H=-272.0441\n",
    "    H_t=A*t +(B*t*t)/2 +(C*t*t*t)/3 + (D*t*t*t*t)/4-(E/t)+F-H\n",
    "    return H_t\n",
    "mol_weight_feo=71.844 #in grams\n",
    "En_per_mol_feo=feo_enthalpy(T_dri_exit)\n",
    "print(\"Energy per mole feo :\",En_per_mol_feo)\n",
    "mol_per_ton_feo=1000000/mol_weight_feo# 1 ton= 10^6 grams \n",
    "En_per_ton_feo=En_per_mol_feo*mol_per_ton_feo\n",
    "print(\"Energy per ton feo :\",En_per_ton_feo)\n",
    "En_feo=En_per_ton_feo*Feo_percentage\n",
    "print(\"Energy contained in the feo stream exiting the reactor\",En_feo) #In Kj/tls\n",
    "\n",
    "### Energy contained in the iron ore stream\n",
    "def fe_enthalpy(T):\n",
    "    t=T/1000\n",
    "    A=23.97449\n",
    "    B=8.367750\n",
    "    C=0.000277\n",
    "    D=-0.000088\n",
    "    E=-0.000005\n",
    "    F=0.268027\n",
    "    G=62.06336\n",
    "    H=7.788015    \n",
    "    H_t=A*t +(B*t*t)/2 +(C*t*t*t)/3 + (D*t*t*t*t)/4-(E/t)+F-H\n",
    "    return H_t\n",
    "#H_f=247000 # Melting enthalpy of steel per ton in Kj/ton https://materialsdata.nist.gov/bitstream/handle/11115/166/Thermophysical%20Properties.pdf?sequence=3\n",
    "T_dri=873\n",
    "En_per_mol_fe=fe_enthalpy(T_dri)# Enthalpy of direct reduced iron at the output of the reactor\n",
    "print(En_per_mol_fe)\n",
    "mol_weight_fe=55.845 #in grams\n",
    "mol_per_ton_fe=1000000/mol_weight_fe # 1 ton= 10^6 grams \n",
    "En_fe=En_per_mol_fe*mol_per_ton_fe*iron_ore_dri*Total_fe2O3*(alpha)*iron_oxygen_ratio\n",
    "print(\"Energy per ton of DRI\", En_fe) #In Kj/ton\n",
    "\n",
    "\n",
    "H_imp_dri=(sio2_enthalpy(T_dri_exit)*mol_per_ton_sio2*SIO2_weight) +(Al2O3_enthalpy(T_dri_exit)*mol_per_ton_al2o3*AL2O3_weight) +En_feo + En_fe\n",
    "print(\"Energy exiting through the impurities contained in the solid stream at 600 C :\",H_imp_dri)\n"
   ]
  },
  {
   "cell_type": "markdown",
   "metadata": {},
   "source": [
    "## Energy balance for the shaft furnace \n"
   ]
  },
  {
   "cell_type": "markdown",
   "metadata": {},
   "source": [
    "**H_h2=H_Fe2O3 + H_imp_dri+ H_offgas+ reaction_enthalpy"
   ]
  },
  {
   "cell_type": "code",
   "execution_count": 17,
   "metadata": {},
   "outputs": [
    {
     "data": {
      "image/png": "[encoded data removed]",
      "text/plain": [
       "<Figure size 432x288 with 1 Axes>"
      ]
     },
     "metadata": {},
     "output_type": "display_data"
    }
   ],
   "source": [
    "H_h2=[]\n",
    "for i in range(10):\n",
    "    for j in range(10):\n",
    "         H_h2.append((H2_per_ts*H2_en_per_kg[i]*lambda_h2[j])/3600)# To find the value of input energy based on the variation in lambda\n",
    "#print(\"Enthalpy of hydrogen with different values of lambda:\",H_h2)\n",
    " \n",
    "H_difference=[] # Difference between the input energy and output energy as defined in the equation above \n",
    "for i in range(10):\n",
    "    H_difference.append((H_h2[i]-(H_ore_heat+H_imp_dri+H_offgas[i]+dhr_per_ts))) # value in KJ This can also be understood as the losses \n",
    "#print(\"H_difference\",H_difference)\n",
    "plt.plot(lambda_h2,H_difference)\n",
    "plt.xlabel('lambda_h2')\n",
    "plt.ylabel('Enthalpy difference')\n",
    "plt.savefig('Enthalpy difference with varying lambda.svg')\n",
    "plt.savefig('Enthalpy difference with varying lambda.png')\n"
   ]
  },
  {
   "cell_type": "code",
   "execution_count": 16,
   "metadata": {},
   "outputs": [
    {
     "ename": "ValueError",
     "evalue": "Length of values does not match length of index",
     "output_type": "error",
     "traceback": [
      "\u001b[1;31m---------------------------------------------------------------------------\u001b[0m",
      "\u001b[1;31mValueError\u001b[0m                                Traceback (most recent call last)",
      "\u001b[1;32m<ipython-input-16-cb28956f9648>\u001b[0m in \u001b[0;36m<module>\u001b[1;34m()\u001b[0m\n\u001b[0;32m      1\u001b[0m \u001b[1;31m# dictionary of lists\u001b[0m\u001b[1;33m\u001b[0m\u001b[1;33m\u001b[0m\u001b[0m\n\u001b[0;32m      2\u001b[0m \u001b[0mdf\u001b[0m \u001b[1;33m=\u001b[0m \u001b[0mpd\u001b[0m\u001b[1;33m.\u001b[0m\u001b[0mread_csv\u001b[0m\u001b[1;33m(\u001b[0m\u001b[1;34m'Lambda and temperature.csv'\u001b[0m\u001b[1;33m)\u001b[0m\u001b[1;33m\u001b[0m\u001b[0m\n\u001b[1;32m----> 3\u001b[1;33m \u001b[0mdf\u001b[0m\u001b[1;33m[\u001b[0m\u001b[1;34m'Hydrogen enthalpy'\u001b[0m\u001b[1;33m]\u001b[0m\u001b[1;33m=\u001b[0m\u001b[0mH_h2\u001b[0m\u001b[1;33m\u001b[0m\u001b[0m\n\u001b[0m\u001b[0;32m      4\u001b[0m \u001b[0mplt\u001b[0m\u001b[1;33m.\u001b[0m\u001b[0mscatter\u001b[0m\u001b[1;33m(\u001b[0m\u001b[0mdf\u001b[0m\u001b[1;33m[\u001b[0m\u001b[1;34m'lambda_h2'\u001b[0m\u001b[1;33m]\u001b[0m\u001b[1;33m,\u001b[0m \u001b[0mdf\u001b[0m\u001b[1;33m[\u001b[0m\u001b[1;34m'Hydrogen enthalpy'\u001b[0m\u001b[1;33m]\u001b[0m\u001b[1;33m)\u001b[0m \u001b[1;31m# Shows the distribution of input energy in the system with increasing values of temperature and lambda\u001b[0m\u001b[1;33m\u001b[0m\u001b[0m\n\u001b[0;32m      5\u001b[0m \u001b[0mplt\u001b[0m\u001b[1;33m.\u001b[0m\u001b[0mxlabel\u001b[0m\u001b[1;33m(\u001b[0m\u001b[1;34m'Lambda_h2'\u001b[0m\u001b[1;33m)\u001b[0m\u001b[1;33m\u001b[0m\u001b[0m\n",
      "\u001b[1;32mC:\\ProgramData\\Anaconda3\\lib\\site-packages\\pandas\\core\\frame.py\u001b[0m in \u001b[0;36m__setitem__\u001b[1;34m(self, key, value)\u001b[0m\n\u001b[0;32m   3114\u001b[0m         \u001b[1;32melse\u001b[0m\u001b[1;33m:\u001b[0m\u001b[1;33m\u001b[0m\u001b[0m\n\u001b[0;32m   3115\u001b[0m             \u001b[1;31m# set column\u001b[0m\u001b[1;33m\u001b[0m\u001b[1;33m\u001b[0m\u001b[0m\n\u001b[1;32m-> 3116\u001b[1;33m             \u001b[0mself\u001b[0m\u001b[1;33m.\u001b[0m\u001b[0m_set_item\u001b[0m\u001b[1;33m(\u001b[0m\u001b[0mkey\u001b[0m\u001b[1;33m,\u001b[0m \u001b[0mvalue\u001b[0m\u001b[1;33m)\u001b[0m\u001b[1;33m\u001b[0m\u001b[0m\n\u001b[0m\u001b[0;32m   3117\u001b[0m \u001b[1;33m\u001b[0m\u001b[0m\n\u001b[0;32m   3118\u001b[0m     \u001b[1;32mdef\u001b[0m \u001b[0m_setitem_slice\u001b[0m\u001b[1;33m(\u001b[0m\u001b[0mself\u001b[0m\u001b[1;33m,\u001b[0m \u001b[0mkey\u001b[0m\u001b[1;33m,\u001b[0m \u001b[0mvalue\u001b[0m\u001b[1;33m)\u001b[0m\u001b[1;33m:\u001b[0m\u001b[1;33m\u001b[0m\u001b[0m\n",
      "\u001b[1;32mC:\\ProgramData\\Anaconda3\\lib\\site-packages\\pandas\\core\\frame.py\u001b[0m in \u001b[0;36m_set_item\u001b[1;34m(self, key, value)\u001b[0m\n\u001b[0;32m   3189\u001b[0m \u001b[1;33m\u001b[0m\u001b[0m\n\u001b[0;32m   3190\u001b[0m         \u001b[0mself\u001b[0m\u001b[1;33m.\u001b[0m\u001b[0m_ensure_valid_index\u001b[0m\u001b[1;33m(\u001b[0m\u001b[0mvalue\u001b[0m\u001b[1;33m)\u001b[0m\u001b[1;33m\u001b[0m\u001b[0m\n\u001b[1;32m-> 3191\u001b[1;33m         \u001b[0mvalue\u001b[0m \u001b[1;33m=\u001b[0m \u001b[0mself\u001b[0m\u001b[1;33m.\u001b[0m\u001b[0m_sanitize_column\u001b[0m\u001b[1;33m(\u001b[0m\u001b[0mkey\u001b[0m\u001b[1;33m,\u001b[0m \u001b[0mvalue\u001b[0m\u001b[1;33m)\u001b[0m\u001b[1;33m\u001b[0m\u001b[0m\n\u001b[0m\u001b[0;32m   3192\u001b[0m         \u001b[0mNDFrame\u001b[0m\u001b[1;33m.\u001b[0m\u001b[0m_set_item\u001b[0m\u001b[1;33m(\u001b[0m\u001b[0mself\u001b[0m\u001b[1;33m,\u001b[0m \u001b[0mkey\u001b[0m\u001b[1;33m,\u001b[0m \u001b[0mvalue\u001b[0m\u001b[1;33m)\u001b[0m\u001b[1;33m\u001b[0m\u001b[0m\n\u001b[0;32m   3193\u001b[0m \u001b[1;33m\u001b[0m\u001b[0m\n",
      "\u001b[1;32mC:\\ProgramData\\Anaconda3\\lib\\site-packages\\pandas\\core\\frame.py\u001b[0m in \u001b[0;36m_sanitize_column\u001b[1;34m(self, key, value, broadcast)\u001b[0m\n\u001b[0;32m   3386\u001b[0m \u001b[1;33m\u001b[0m\u001b[0m\n\u001b[0;32m   3387\u001b[0m             \u001b[1;31m# turn me into an ndarray\u001b[0m\u001b[1;33m\u001b[0m\u001b[1;33m\u001b[0m\u001b[0m\n\u001b[1;32m-> 3388\u001b[1;33m             \u001b[0mvalue\u001b[0m \u001b[1;33m=\u001b[0m \u001b[0m_sanitize_index\u001b[0m\u001b[1;33m(\u001b[0m\u001b[0mvalue\u001b[0m\u001b[1;33m,\u001b[0m \u001b[0mself\u001b[0m\u001b[1;33m.\u001b[0m\u001b[0mindex\u001b[0m\u001b[1;33m,\u001b[0m \u001b[0mcopy\u001b[0m\u001b[1;33m=\u001b[0m\u001b[1;32mFalse\u001b[0m\u001b[1;33m)\u001b[0m\u001b[1;33m\u001b[0m\u001b[0m\n\u001b[0m\u001b[0;32m   3389\u001b[0m             \u001b[1;32mif\u001b[0m \u001b[1;32mnot\u001b[0m \u001b[0misinstance\u001b[0m\u001b[1;33m(\u001b[0m\u001b[0mvalue\u001b[0m\u001b[1;33m,\u001b[0m \u001b[1;33m(\u001b[0m\u001b[0mnp\u001b[0m\u001b[1;33m.\u001b[0m\u001b[0mndarray\u001b[0m\u001b[1;33m,\u001b[0m \u001b[0mIndex\u001b[0m\u001b[1;33m)\u001b[0m\u001b[1;33m)\u001b[0m\u001b[1;33m:\u001b[0m\u001b[1;33m\u001b[0m\u001b[0m\n\u001b[0;32m   3390\u001b[0m                 \u001b[1;32mif\u001b[0m \u001b[0misinstance\u001b[0m\u001b[1;33m(\u001b[0m\u001b[0mvalue\u001b[0m\u001b[1;33m,\u001b[0m \u001b[0mlist\u001b[0m\u001b[1;33m)\u001b[0m \u001b[1;32mand\u001b[0m \u001b[0mlen\u001b[0m\u001b[1;33m(\u001b[0m\u001b[0mvalue\u001b[0m\u001b[1;33m)\u001b[0m \u001b[1;33m>\u001b[0m \u001b[1;36m0\u001b[0m\u001b[1;33m:\u001b[0m\u001b[1;33m\u001b[0m\u001b[0m\n",
      "\u001b[1;32mC:\\ProgramData\\Anaconda3\\lib\\site-packages\\pandas\\core\\series.py\u001b[0m in \u001b[0;36m_sanitize_index\u001b[1;34m(data, index, copy)\u001b[0m\n\u001b[0;32m   3996\u001b[0m \u001b[1;33m\u001b[0m\u001b[0m\n\u001b[0;32m   3997\u001b[0m     \u001b[1;32mif\u001b[0m \u001b[0mlen\u001b[0m\u001b[1;33m(\u001b[0m\u001b[0mdata\u001b[0m\u001b[1;33m)\u001b[0m \u001b[1;33m!=\u001b[0m \u001b[0mlen\u001b[0m\u001b[1;33m(\u001b[0m\u001b[0mindex\u001b[0m\u001b[1;33m)\u001b[0m\u001b[1;33m:\u001b[0m\u001b[1;33m\u001b[0m\u001b[0m\n\u001b[1;32m-> 3998\u001b[1;33m         \u001b[1;32mraise\u001b[0m \u001b[0mValueError\u001b[0m\u001b[1;33m(\u001b[0m\u001b[1;34m'Length of values does not match length of '\u001b[0m \u001b[1;34m'index'\u001b[0m\u001b[1;33m)\u001b[0m\u001b[1;33m\u001b[0m\u001b[0m\n\u001b[0m\u001b[0;32m   3999\u001b[0m \u001b[1;33m\u001b[0m\u001b[0m\n\u001b[0;32m   4000\u001b[0m     \u001b[1;32mif\u001b[0m \u001b[0misinstance\u001b[0m\u001b[1;33m(\u001b[0m\u001b[0mdata\u001b[0m\u001b[1;33m,\u001b[0m \u001b[0mABCIndexClass\u001b[0m\u001b[1;33m)\u001b[0m \u001b[1;32mand\u001b[0m \u001b[1;32mnot\u001b[0m \u001b[0mcopy\u001b[0m\u001b[1;33m:\u001b[0m\u001b[1;33m\u001b[0m\u001b[0m\n",
      "\u001b[1;31mValueError\u001b[0m: Length of values does not match length of index"
     ]
    }
   ],
   "source": [
    "# dictionary of lists  \n",
    "df = pd.read_csv('Lambda and temperature.csv') \n",
    "df['Hydrogen enthalpy']=H_h2\n",
    "plt.scatter(df['lambda_h2'], df['Hydrogen enthalpy']) # Shows the distribution of input energy in the system with increasing values of temperature and lambda\n",
    "plt.xlabel('Lambda_h2')\n",
    "plt.ylabel('Hydrogen enthalpy')\n",
    "#plt.plot(x='Temperature', y='Hydrogen enthalpy', style='o')"
   ]
  },
  {
   "cell_type": "code",
   "execution_count": null,
   "metadata": {},
   "outputs": [],
   "source": [
    "plt.scatter(df['Temperature'], df['Hydrogen enthalpy']) # Shows the distribution of input energy in the system with increasing values of temperature and lambda\n",
    "plt.xlabel('Temperature')\n",
    "plt.ylabel('Hydrogen enthalpy')\n"
   ]
  },
  {
   "cell_type": "code",
   "execution_count": null,
   "metadata": {},
   "outputs": [],
   "source": []
  },
  {
   "cell_type": "code",
   "execution_count": null,
   "metadata": {},
   "outputs": [],
   "source": []
  }
 ],
 "metadata": {
  "kernelspec": {
   "display_name": "Python 3",
   "language": "python",
   "name": "python3"
  },
  "language_info": {
   "codemirror_mode": {
    "name": "ipython",
    "version": 3
   },
   "file_extension": ".py",
   "mimetype": "text/x-python",
   "name": "python",
   "nbconvert_exporter": "python",
   "pygments_lexer": "ipython3",
   "version": "3.6.5"
  }
 },
 "nbformat": 4,
 "nbformat_minor": 2
}
