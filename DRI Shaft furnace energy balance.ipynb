{
 "cells": [
  {
   "cell_type": "markdown",
   "metadata": {},
   "source": [
    "# Energy modelling of a DRI shaft furnace"
   ]
  },
  {
   "cell_type": "markdown",
   "metadata": {},
   "source": [
    "A direct reduction shaft furnace, a counter flow reactor , where iron ore is fed from the top and reacting gases enter the reactor from the periphary and move towards the top. The solid-gas reaction occurs optimally at 800 C. "
   ]
  },
  {
   "cell_type": "markdown",
   "metadata": {},
   "source": [
    "<img src=\"DRI_fig.jpg\">"
   ]
  },
  {
   "cell_type": "code",
   "execution_count": 1,
   "metadata": {},
   "outputs": [
    {
     "name": "stdout",
     "output_type": "stream",
     "text": [
      "FeO percentage : 0.06000000000000005\n",
      "0.04511278195488722\n",
      "0.030075187969924814\n",
      "Weight of iron ore fed to the shaft furnace to produce one ton of liquid steel in the DRI_EAF process 1.5037593984962407\n"
     ]
    }
   ],
   "source": [
    "alpha=0.94 # Metallization rate considered for the DRI reduction shaft furnace\n",
    "Total_fe2O3=0.95 # 5% Impurities are considered in the iron ore which gets transferred into the EAF as it is \n",
    "iron_oxygen_ratio=112/160 # percentage of iron in one mole of iron ore \n",
    "iron_ore_dri=1/(Total_fe2O3*iron_oxygen_ratio)# Weight of total iron ore fed to the DRI and EAF to get 1 ton of liquid steel\n",
    "Feo_percentage=iron_ore_dri*Total_fe2O3*(1-alpha)*iron_oxygen_ratio # Depends on the slag content , metallization rate \n",
    "print(\"FeO percentage :\",Feo_percentage)\n",
    "SIO2_percentage=3 # Percentage of silica in the Slag \n",
    "Al2O3_percentage=2 #Percentage of alumina in the Slag\n",
    "#CAO_percentage=4.5 #Percentage of lime added in the EAF slag is higher for DRI as the gangue content is higher making the system acidic\n",
    "#MGO_percentage=0.53 #Percentage of Magnesium oxide in the EAF slag\n",
    "SIO2_weight=(iron_ore_dri*SIO2_percentage)/100 # SiO2 weight in ton \n",
    "print(SIO2_weight)\n",
    "AL2O3_weight=(iron_ore_dri*Al2O3_percentage)/100 # weight in ton\n",
    "print(AL2O3_weight)\n",
    "#CAO_weight=(iron_ore_dri*CAO_percentage)/100 #weioght in ton\n",
    "#print(CAO_weight*1000)\n",
    "#MGO_weight=(iron_ore_dri*MGO_percentage)/100 #weight in ton \n",
    "#carbon_weight=8 # Weight of carbon in Kg added per ton for reduction of remaining FeO and production of carbon monoxide in the EAF for froth making which is essential for the smooth functioning of then EAF\n",
    "#print(\"Weight of metallic iron\",Total_fe_metal) #in ton\n",
    "#print(\"Weight of iron oxide\",FEO_weight) # in ton\n",
    "print(\"Weight of iron ore fed to the shaft furnace to produce one ton of liquid steel in the DRI_EAF process\",iron_ore_dri)\n",
    "\n"
   ]
  },
  {
   "cell_type": "markdown",
   "metadata": {},
   "source": [
    "## Enthalpy calculations for Fe2O3"
   ]
  },
  {
   "cell_type": "code",
   "execution_count": 2,
   "metadata": {},
   "outputs": [
    {
     "name": "stdout",
     "output_type": "stream",
     "text": [
      "Enthalpy of Iron ore in KJ/kg : 696.9118484140238\n",
      " Enthalpy of iron ore in kJ : 1047987.7419759757\n"
     ]
    }
   ],
   "source": [
    "def fe2o3_enthalpy_1(T):# T1 and T2 should be in the range of 298-950 K \n",
    "    t=T/1000\n",
    "    A=93.43834\n",
    "    B=108.3577\n",
    "    C=-50.86447\n",
    "    D=25.58683\n",
    "    E=-1.611330\n",
    "    F=-863.2094\n",
    "    G=161.0719\n",
    "    H=-825.5032 \n",
    "    H_t=A*t +(B*t*t)/2 +(C*t*t*t)/3 + (D*t*t*t*t)/4-(E/t)+F-H\n",
    "    return H_t\n",
    "def fe2o3_enthalpy_2(T):# T1 and T2 should be in the range of 1050-2500 K \n",
    "    t=T/1000\n",
    "    A=150.6240\n",
    "    B=0\n",
    "    C=0\n",
    "    D=0\n",
    "    E=0\n",
    "    F=-875.6066\n",
    "    G=252.8814\n",
    "    H=-825.5032\n",
    "    H_t=A*t +(B*t*t)/2 +(C*t*t*t)/3 + (D*t*t*t*t)/4-(E/t)+F-H\n",
    "    return H_t\n",
    "def fe2o3_enthalpy_3(T):# T1 and T2 should be in the range of 1050-2500 K \n",
    "    t=T/1000\n",
    "    A=110.9362\n",
    "    B=32.04714\n",
    "    C=-9.192333\n",
    "    D=0.901506\n",
    "    E=5.433677\n",
    "    F=-843.1471\n",
    "    G=228.3548\n",
    "    H=-825.5032\n",
    "    H_t=A*t +(B*t*t)/2 +(C*t*t*t)/3 + (D*t*t*t*t)/4-(E/t)+F-H\n",
    "    return H_t\n",
    "T1=298 # K Ambient temperature / Temperature of the incoming iron pellets\n",
    "T2=1073 # K Temperature of the iron ore for reduction process\n",
    "if T2 in range(298,951):\n",
    "    Fe2o3_En_per_mol=fe2o3_enthalpy_1(T2)\n",
    "elif T2 in range(951,1051):\n",
    "     Fe2o3_En_per_mol=fe2o3_enthalpy_2(T2)\n",
    "elif T2 in range(1051,2501):\n",
    "     Fe2o3_En_per_mol=fe2o3_enthalpy_3(T2)\n",
    "mol_weight_fe2o3=159.688 #in grams\n",
    "mol_per_ton_Fe2o3=1000000/mol_weight_fe2o3 # 1 ton= 10^6 grams \n",
    "Fe2o3_En_per_ton=Fe2o3_En_per_mol*mol_per_ton_Fe2o3\n",
    "H_Fe2o3=((Fe2o3_En_per_ton))*iron_ore_dri # Energy consumption in KJ\n",
    "print(\"Enthalpy of Iron ore in KJ/kg :\",Fe2o3_En_per_ton/1000)\n",
    "print(\" Enthalpy of iron ore in kJ :\",H_Fe2o3) \n"
   ]
  },
  {
   "cell_type": "code",
   "execution_count": 3,
   "metadata": {},
   "outputs": [
    {
     "name": "stdout",
     "output_type": "stream",
     "text": [
      "Enthalpy of sio2 in KJ 38299.203208586274\n",
      "Energy per mole al2o3 89.04600596858086\n",
      "Energy per ton of aluminium oxide 26265.60633766063\n"
     ]
    }
   ],
   "source": [
    "\"\"\" Energy required to heat the impurities from 298 K to 800 K\"\"\"\n",
    "\n",
    "def sio2_enthalpy(T):\n",
    "    t=T/1000\n",
    "    A=58.75\n",
    "    B=10.279\n",
    "    C=-0.131384\n",
    "    D=0.025210\n",
    "    E=0.025601\n",
    "    F=-929.3292\n",
    "    G=105.8092\n",
    "    H=-910.8568   \n",
    "    H_t=A*t +(B*t*t)/2 +(C*t*t*t)/3 + (D*t*t*t*t)/4-(E/t)+F-H\n",
    "    return H_t\n",
    "mol_weight_Sio2=60.0843 #in grams\n",
    "#H_f=(910.86 /60.0843)*1000 # Melting enthalpy of SiO2 is 1710 C\n",
    "H_T1=sio2_enthalpy(T1) # Enthalpy of DRI at the input \n",
    "H_T2=sio2_enthalpy(T2) # Enthalpy of molten steel at the output\n",
    "En_per_mol_sio2=H_T2-H_T1\n",
    "    #print(\"Energy per mol\",En_per_mol)\n",
    "mol_per_ton_sio2=1000000/mol_weight_Sio2# 1 ton= 10^6 grams \n",
    "En_sio2=(En_per_mol_sio2*mol_per_ton_sio2)*SIO2_weight ## Energy per ton of SiO2 multiplied by the weight of sio2 in the solid stream\n",
    "En_total_sio2=En_sio2 # H_f needs to be added only when there is a conversion from solid to liquid \n",
    "\n",
    "print(\"Enthalpy of sio2 in KJ\",En_sio2)\n",
    "\n",
    "\n",
    "\"\"\"Reference : https://webbook.nist.gov/cgi/cbook.cgi?ID=C1344281&Mask=2\"\"\"\n",
    "def Al2O3_enthalpy(T):\n",
    "    t=T/1000\n",
    "    A=106.0880\n",
    "    B=36.33740\n",
    "    C=-13.86730\n",
    "    D=2.141221\n",
    "    E=-3.133231\n",
    "    F=-1705.970\n",
    "    G=153.9350\n",
    "    H=-1662.300  \n",
    "    H_t=A*t +(B*t*t)/2 +(C*t*t*t)/3 + (D*t*t*t*t)/4-(E/t)+F-H\n",
    "    return H_t\n",
    "mol_weight_al2o3=101.9613 #in grams\n",
    "#H_f=(1675.69 /mol_weight_al2o3)*1000 # Melting point of alumina is 2073 C\n",
    "H_T1=Al2O3_enthalpy(T1) # Enthalpy of DRI at the input \n",
    "H_T2=Al2O3_enthalpy(T2) # Enthalpy of molten steel at the output\n",
    "En_per_mol_al2o3=H_T2-H_T1\n",
    "print(\"Energy per mole al2o3\",En_per_mol_al2o3)\n",
    "\n",
    "mol_per_ton_al2o3=1000000/mol_weight_al2o3# 1 ton= 10^6 grams \n",
    "En_al2o3=En_per_mol_al2o3*mol_per_ton_al2o3*AL2O3_weight # Energy per ton of Al2O3 multiplied by the weight of Al2O3\n",
    "En_total_al2o3=En_al2o3\n",
    "print(\"Energy per ton of aluminium oxide\",En_al2o3) #In Kj/ton\n",
    "\n"
   ]
  },
  {
   "cell_type": "markdown",
   "metadata": {},
   "source": [
    "### Electrical energy required for heating Iron ore "
   ]
  },
  {
   "cell_type": "code",
   "execution_count": 4,
   "metadata": {},
   "outputs": [
    {
     "name": "stdout",
     "output_type": "stream",
     "text": [
      "Electrical energy required for heating the iron ore to reduction temperature (in KJ): 1308885.3547320266\n"
     ]
    }
   ],
   "source": [
    "eta_el_heat=0.85 # Electrical heating efficiency \n",
    "H_ore_heat=(H_Fe2o3+En_sio2+En_al2o3)/eta_el_heat # In KJ\n",
    "print(\"Electrical energy required for heating the iron ore to reduction temperature (in KJ):\",H_ore_heat) # in KJ"
   ]
  },
  {
   "cell_type": "markdown",
   "metadata": {},
   "source": [
    "## Enthalpy calculations for Fe"
   ]
  },
  {
   "cell_type": "code",
   "execution_count": 5,
   "metadata": {},
   "outputs": [
    {
     "name": "stdout",
     "output_type": "stream",
     "text": [
      "16.598448621690686\n",
      "Energy per ton of DRI 297223.5405441971\n"
     ]
    }
   ],
   "source": [
    "def fe_enthalpy(T):\n",
    "    t=T/1000\n",
    "    A=23.97449\n",
    "    B=8.367750\n",
    "    C=0.000277\n",
    "    D=-0.000088\n",
    "    E=-0.000005\n",
    "    F=0.268027\n",
    "    G=62.06336\n",
    "    H=7.788015    \n",
    "    H_t=A*t +(B*t*t)/2 +(C*t*t*t)/3 + (D*t*t*t*t)/4-(E/t)+F-H\n",
    "    return H_t\n",
    "#H_f=247000 # Melting enthalpy of steel per ton in Kj/ton https://materialsdata.nist.gov/bitstream/handle/11115/166/Thermophysical%20Properties.pdf?sequence=3\n",
    "T_dri=873\n",
    "En_per_mol_fe=fe_enthalpy(T_dri)# Enthalpy of direct reduced iron at the output of the reactor\n",
    "print(En_per_mol_fe)\n",
    "mol_weight_fe=55.845 #in grams\n",
    "mol_per_ton_fe=1000000/mol_weight_fe # 1 ton= 10^6 grams \n",
    "En_per_ton_fe=En_per_mol_fe*mol_per_ton_fe\n",
    "print(\"Energy per ton of DRI\", En_per_ton_fe) #In Kj/ton\n"
   ]
  },
  {
   "cell_type": "code",
   "execution_count": null,
   "metadata": {},
   "outputs": [],
   "source": []
  },
  {
   "cell_type": "markdown",
   "metadata": {},
   "source": [
    "## Hydrogen enthalpy calculations "
   ]
  },
  {
   "cell_type": "code",
   "execution_count": 6,
   "metadata": {},
   "outputs": [
    {
     "name": "stdout",
     "output_type": "stream",
     "text": [
      "Enthalpy per Kg of hydrogen in kJ/kg : 12878.665081966752\n"
     ]
    }
   ],
   "source": [
    "def H2_enthalpy_1(T):# T1 and T2 should be in the range of 298-1000 K \n",
    "    t=T/1000\n",
    "    A=33.066718\n",
    "    B=-11.363417\n",
    "    C=11.432816\n",
    "    D=-2.772874\n",
    "    E=-0.158558\n",
    "    F=-9.980797\n",
    "    G=172.707974\n",
    "    H=0\n",
    "    H_t=A*t +(B*t*t)/2 +(C*t*t*t)/3 + (D*t*t*t*t)/4-(E/t)+F-H\n",
    "    return H_t\n",
    "\n",
    "def H2_enthalpy_2(T):# T1 and T2 should be in the range of 1050-2500 K \n",
    "    t=T/1000\n",
    "    A=18.563083\n",
    "    B=12.257357\n",
    "    C=-2.859786\n",
    "    D=0.268238\n",
    "    E=1.977990\n",
    "    F=-1.147438\n",
    "    G=156.288133\n",
    "    H=0\n",
    "    H_t=A*t +(B*t*t)/2 +(C*t*t*t)/3 + (D*t*t*t*t)/4-(E/t)+F-H\n",
    "    return H_t\n",
    "T1=298 # K Ambient temperature / Temperature of the incoming iron pellets\n",
    "T2=1173 # K Temperature of the iron ore for reduction process1\n",
    "if T2 in range(298,1001):\n",
    "    H2_En_per_mol=H2_enthalpy_1(T2)\n",
    "elif T2 in range(1001,2501):\n",
    "     H2_En_per_mol=H2_enthalpy_2(T2)\n",
    "mol_weight_H2=2.01588 #in grams\n",
    "mol_per_kg_H2=1000/mol_weight_H2 # Number of moles in one kg \n",
    "H2_EN_per_kg=(mol_per_kg_H2)*(H2_En_per_mol)\n",
    "print(\"Enthalpy per Kg of hydrogen in kJ/kg :\",H2_EN_per_kg)\n"
   ]
  },
  {
   "cell_type": "markdown",
   "metadata": {},
   "source": [
    "## Stochiometric calculations for the amount of Hydrogen required for reduction of iron"
   ]
  },
  {
   "cell_type": "code",
   "execution_count": 7,
   "metadata": {},
   "outputs": [
    {
     "name": "stdout",
     "output_type": "stream",
     "text": [
      " Hydrogen required to reduce 1 ton of iron oxide in kg : 37.87159961925756\n"
     ]
    }
   ],
   "source": [
    "H2_per_mol=3 # to reduce 1 mole of iron oxide or hematite 3 moles of hydrogen are required.\n",
    "H2_weight=3*mol_weight_H2 # Weight of H2 for one mole of Fe2O3 in grams\n",
    "mol_weight_fe2o3=159.688 # Molecular weight of hematite\n",
    "H2_per_fe2o3=((1000/(mol_weight_fe2o3))*(H2_weight))# Weight of H2 in grams required for 1 kg of Fe2O3\n",
    "H2_per_ton=(H2_per_fe2o3*1000)/1000 # Weight of hydrogen in kg to reduce 1 ton of Fe2O3\n",
    "\n",
    "print(\" Hydrogen required to reduce 1 ton of iron oxide in kg :\", H2_per_ton)"
   ]
  },
  {
   "cell_type": "markdown",
   "metadata": {},
   "source": [
    "### Hydrogen required for reduction of iron oxide for  1 ton of Fe production (Stoichiometric)"
   ]
  },
  {
   "cell_type": "code",
   "execution_count": 8,
   "metadata": {},
   "outputs": [
    {
     "name": "stdout",
     "output_type": "stream",
     "text": [
      "Hydrogen required for 1 ton of iron production in the shaft furnace, stoichiometric value in kg : 54.10228517036794\n"
     ]
    }
   ],
   "source": [
    "H2_per_ts=H2_per_ton*iron_ore_dri*Total_fe2O3 # only  iron ore reacts with hydrogen\n",
    "print (\"Hydrogen required for 1 ton of iron production in the shaft furnace, stoichiometric value in kg :\",H2_per_ts)\n"
   ]
  },
  {
   "cell_type": "markdown",
   "metadata": {},
   "source": [
    " ### Hydrogen required for reduction of iron oxide for  1 ton of Fe production (Actual)"
   ]
  },
  {
   "cell_type": "code",
   "execution_count": 9,
   "metadata": {},
   "outputs": [
    {
     "name": "stdout",
     "output_type": "stream",
     "text": [
      "1.0\n",
      "1.5\n",
      "2.0\n",
      "2.5\n",
      "3.0\n",
      "3.5\n",
      "4.0\n",
      "4.5\n",
      "5.0\n",
      "Amount of actual hydrogen required for reduction of iron oxide to produce 1 ton of iron in kg : 81.15342775555192 [1.0, 1.5, 2.0, 2.5, 3.0, 3.5, 4.0, 4.5, 5.0]\n"
     ]
    }
   ],
   "source": [
    "lambda_h2=[]\n",
    "\n",
    "for i in range(2,11):\n",
    "    print(i/2)\n",
    "    lambda_h2.append(i/2) # Iteratively add values to the list of lambda_h2 to see the effect of increasing lambda_h2\n",
    "H2_actual_ts=(H2_per_ts*lambda_h2[1]) # Amount of actual hydrogen required for reduction of iron oxide to produce 1 ton of iron\n",
    "print(\"Amount of actual hydrogen required for reduction of iron oxide to produce 1 ton of iron in kg :\",H2_actual_ts,lambda_h2)\n"
   ]
  },
  {
   "cell_type": "markdown",
   "metadata": {},
   "source": [
    "## Reaction enthalpy calculation\n"
   ]
  },
  {
   "cell_type": "code",
   "execution_count": 10,
   "metadata": {},
   "outputs": [
    {
     "name": "stdout",
     "output_type": "stream",
     "text": [
      "99500\n",
      "99.5\n",
      "623.0900255498221\n",
      "890128.6079283174\n"
     ]
    }
   ],
   "source": [
    "ny_fe2o3_hem = 1\n",
    "ny_h2_hem = 3\n",
    "ny_fe_hem = 2\n",
    "ny_h2o_hem = 3\n",
    "dHb_fe2o3 = -825500 #\t\t '[J/mol] formation enthalpy of hematite\n",
    "dHb_w = -242000 #\t '[J/mol] formation enthalpy of water (gaseous)\n",
    "dHr_hem = (dHb_w * ny_h2o_hem) - dHb_fe2o3 #'[J/mol] reaction enthalpy\n",
    "print(dHr_hem) \n",
    "dhr_hem_kj=dHr_hem/1000 # reaction enthalpy kJ/mol\n",
    "print(dhr_hem_kj) \n",
    "dhr_hem_kj_kg=(dhr_hem_kj/mol_weight_fe2o3)*1000 # reaction ethalpy in kj/kg\n",
    "print(dhr_hem_kj_kg)\n",
    "dhr_hem_kj_ton=dhr_hem_kj_kg*1000\n",
    "#rint(dhr_hem_kj_ton) # kJ/ton of fe2O3 \n",
    "dhr_per_ts=dhr_hem_kj_ton*iron_ore_dri*Total_fe2O3 \n",
    "print(dhr_per_ts) # Amount of heat to be supplied in kJ for production of 1 ton of molten steel\n"
   ]
  },
  {
   "cell_type": "markdown",
   "metadata": {},
   "source": [
    "## Waste gas stream enthalpy calculation"
   ]
  },
  {
   "cell_type": "markdown",
   "metadata": {},
   "source": [
    "It is assumed that the waste gas stream is a mixture of hydrogen and water at 400 C. Percentage of gas in each stream can be calculated by considering the stoichiometry."
   ]
  },
  {
   "cell_type": "markdown",
   "metadata": {},
   "source": [
    "## Mass flow rate of hydrogen and water "
   ]
  },
  {
   "cell_type": "code",
   "execution_count": 17,
   "metadata": {},
   "outputs": [
    {
     "name": "stdout",
     "output_type": "stream",
     "text": [
      "Amount of water in the waste stream per ton of steel production 322.59468170829973\n",
      "Amount of hydrogen in the waste stream per ton of steel production [53.10228517036794, 80.15342775555192, 107.20457034073588, 134.25571292591985, 161.30685551110383, 188.3579980962878, 215.40914068147177, 242.46028326665575, 269.5114258518397]\n"
     ]
    }
   ],
   "source": [
    "# Mass flow rate of water in the waste stream per ton of steel production\n",
    "mol_weight_H2O=18.0153 #in grams\n",
    "water_tls=(mol_weight_H2O/mol_weight_fe)*1000\n",
    "print(\"Amount of water in the waste stream per ton of steel production\",water_tls) #kg/tls\n",
    "## Calculation of the hydrogen in the waste stream \n",
    "H2_waste_stream=[]\n",
    "for j in range(9):\n",
    "    H2_waste_stream.append(H2_per_ts*lambda_h2[j]-1) #Kg/tls \n",
    "print(\"Amount of hydrogen in the waste stream per ton of steel production\",H2_waste_stream)"
   ]
  },
  {
   "cell_type": "markdown",
   "metadata": {},
   "source": [
    "## Enthalpy of water/steam"
   ]
  },
  {
   "cell_type": "code",
   "execution_count": 18,
   "metadata": {},
   "outputs": [
    {
     "name": "stdout",
     "output_type": "stream",
     "text": [
      "Enthalpy per Kg of Water in kJ/kg : 731.7594546013953\n"
     ]
    }
   ],
   "source": [
    "def H2O_enthalpy(T):# 500 -1700 K reference :https://webbook.nist.gov/cgi/cbook.cgi?ID=C7732185&Mask=1\n",
    "    t=T/1000\n",
    "    A=30.09200\n",
    "    B=6.832514\n",
    "    C=6.793435\n",
    "    D=-2.534480\n",
    "    E=0.082139\n",
    "    F=-250.8810\n",
    "    G=223.3967\n",
    "    H=-241.8264\n",
    "    H_t=A*t +(B*t*t)/2 +(C*t*t*t)/3 + (D*t*t*t*t)/4-(E/t)+F-H\n",
    "    return H_t\n",
    "T_waste=673 # K Temperature of the iron ore for reduction process1\n",
    "H2O_En_per_mol=H2O_enthalpy(T_waste)\n",
    "mol_per_kg_H2O=1000/mol_weight_H2O # Number of moles in one kg \n",
    "H2O_EN_per_kg=(mol_per_kg_H2O)*(H2O_En_per_mol)\n",
    "print(\"Enthalpy per Kg of Water in kJ/kg :\",H2O_EN_per_kg)"
   ]
  },
  {
   "cell_type": "code",
   "execution_count": 19,
   "metadata": {},
   "outputs": [
    {
     "name": "stdout",
     "output_type": "stream",
     "text": [
      "Energy in the waste stream in Kj/tls [524631.2595159437, 671633.1455825341, 818635.0316491246, 965636.9177157152, 1112638.8037823057, 1259640.6898488959, 1406642.5759154866, 1553644.4619820772, 1700646.3480486677]\n"
     ]
    }
   ],
   "source": [
    "# Energy in the waste stream \n",
    "H_offgas=[]\n",
    "for k in range(9):\n",
    "    H_offgas.append((water_tls*H2O_EN_per_kg) +(H2_waste_stream[k]*H2_enthalpy_1(T_waste)*(1000/mol_weight_H2)))\n",
    "    \n",
    "print(\"Energy in the waste stream in Kj/tls\",H_offgas) "
   ]
  },
  {
   "cell_type": "markdown",
   "metadata": {},
   "source": [
    "## Energy required to heat the impurities from 298 K to 800 K"
   ]
  },
  {
   "cell_type": "code",
   "execution_count": 20,
   "metadata": {},
   "outputs": [
    {
     "name": "stdout",
     "output_type": "stream",
     "text": [
      "Energy per ton in kJ 43568.76414560845\n",
      "Enthalpy change in kWh 0.5459744880402062\n",
      "Energy per mole al2o3 102.04040607986576\n",
      "Energy per ton of aluminium oxide 30098.521629083014\n",
      "Enthalpy change in Al2o3 in EAF in kWH 0.25144963766986644\n"
     ]
    }
   ],
   "source": [
    "\"\"\" Energy required to heat the impurities from 298 K to 800 K\"\"\"\n",
    "\n",
    "def sio2_enthalpy(T):\n",
    "    t=T/1000\n",
    "    A=58.75\n",
    "    B=10.279\n",
    "    C=-0.131384\n",
    "    D=0.025210\n",
    "    E=0.025601\n",
    "    F=-929.3292\n",
    "    G=105.8092\n",
    "    H=-910.8568   \n",
    "    H_t=A*t +(B*t*t)/2 +(C*t*t*t)/3 + (D*t*t*t*t)/4-(E/t)+F-H\n",
    "    return H_t\n",
    "mol_weight_Sio2=60.0843 #in grams\n",
    "#H_f=(910.86 /60.0843)*1000 # Melting enthalpy of SiO2 is 1710 C\n",
    "H_T1=sio2_enthalpy(T1) # Enthalpy of DRI at the input \n",
    "H_T2=sio2_enthalpy(T2) # Enthalpy of molten steel at the output\n",
    "En_per_mol_sio2=H_T2-H_T1\n",
    "    #print(\"Energy per mol\",En_per_mol)\n",
    "mol_per_ton_sio2=1000000/mol_weight_Sio2# 1 ton= 10^6 grams \n",
    "En_sio2=(En_per_mol_sio2*mol_per_ton_sio2)*SIO2_weight ## Energy per ton of SiO2 multiplied by the weight of sio2 in the solid stream\n",
    "En_total_sio2=En_sio2 # H_f needs to be added only when there is a conversion from solid to liquid \n",
    "print(\"Energy per ton in kJ\",En_sio2) #In Kj/ton\n",
    "    #print((En_total)/3600)# Specific energy consumption KWh)\n",
    "H_SIO2=(En_total_sio2/3600)*(SIO2_weight)\n",
    "print(\"Enthalpy change in kWh\",H_SIO2)\n",
    "\n",
    "\n",
    "\"\"\"Reference : https://webbook.nist.gov/cgi/cbook.cgi?ID=C1344281&Mask=2\"\"\"\n",
    "def Al2O3_enthalpy(T):\n",
    "    t=T/1000\n",
    "    A=106.0880\n",
    "    B=36.33740\n",
    "    C=-13.86730\n",
    "    D=2.141221\n",
    "    E=-3.133231\n",
    "    F=-1705.970\n",
    "    G=153.9350\n",
    "    H=-1662.300  \n",
    "    H_t=A*t +(B*t*t)/2 +(C*t*t*t)/3 + (D*t*t*t*t)/4-(E/t)+F-H\n",
    "    return H_t\n",
    "mol_weight_al2o3=101.9613 #in grams\n",
    "#H_f=(1675.69 /mol_weight_al2o3)*1000 # Melting point of alumina is 2073 C\n",
    "H_T1=Al2O3_enthalpy(T1) # Enthalpy of DRI at the input \n",
    "H_T2=Al2O3_enthalpy(T2) # Enthalpy of molten steel at the output\n",
    "En_per_mol_al2o3=H_T2-H_T1\n",
    "print(\"Energy per mole al2o3\",En_per_mol_al2o3)\n",
    "\n",
    "mol_per_ton_al2o3=1000000/mol_weight_al2o3# 1 ton= 10^6 grams \n",
    "En_al2o3=En_per_mol_al2o3*mol_per_ton_al2o3*AL2O3_weight # Energy per ton of Al2O3 multiplied by the weight of Al2O3\n",
    "En_total_al2o3=En_al2o3\n",
    "print(\"Energy per ton of aluminium oxide\",En_al2o3) #In Kj/ton\n",
    "#print((En_total)/3600)# Specific energy consumption KWh)\n",
    "H_AL2O3=(En_total_al2o3/3600)*(AL2O3_weight)\n",
    "print(\"Enthalpy change in Al2o3 in EAF in kWH\",H_AL2O3)\n"
   ]
  },
  {
   "cell_type": "markdown",
   "metadata": {},
   "source": [
    "## Energy contained in the solid stream being fed to the EAF at 600 C \n"
   ]
  },
  {
   "cell_type": "markdown",
   "metadata": {},
   "source": [
    "It is assumed that the solid stream is a mixture of iron, iron oxide and impurities such as silica and alumina. The solid stream exits the reactor at a temperature of 600 C. "
   ]
  },
  {
   "cell_type": "code",
   "execution_count": 21,
   "metadata": {},
   "outputs": [
    {
     "name": "stdout",
     "output_type": "stream",
     "text": [
      "Energy per mole feo : 31.297339028199787\n",
      "Energy per ton feo : 435629.1273898974\n",
      "Energy contained in the feo stream exiting the reactor 26137.74764339387\n",
      "16.598448621690686\n",
      "Energy per ton of DRI 279390.12811154523\n",
      "Energy exiting through the impurities contained in the solid stream at 600 C : 351831.67006329546\n"
     ]
    }
   ],
   "source": [
    "\"\"\"#Enthalpy contained in residual FeO in the slag stream : https://webbook.nist.gov/cgi/cbook.cgi?ID=C1345251&Mask=2\"\"\"\n",
    "# The constants are used for a temperature range of 298-1650 K and the fusion enthalpy is added in the mix to account for the latent heat of fusion , whcih is an endothermic reaction\n",
    "T_dri_exit=873 # Exit temperature of the FeO stream contained in the solid stream exiting the reactor\n",
    "def feo_enthalpy(T):\n",
    "    t=T/1000\n",
    "    A=45.75120\n",
    "    B=18.78553\n",
    "    C=-5.952201\n",
    "    D=0.852779\n",
    "    E=-0.081265\n",
    "    F=-286.7429\n",
    "    G=110.3120\n",
    "    H=-272.0441\n",
    "    H_t=A*t +(B*t*t)/2 +(C*t*t*t)/3 + (D*t*t*t*t)/4-(E/t)+F-H\n",
    "    return H_t\n",
    "mol_weight_feo=71.844 #in grams\n",
    "En_per_mol_feo=feo_enthalpy(T_dri_exit)\n",
    "print(\"Energy per mole feo :\",En_per_mol_feo)\n",
    "mol_per_ton_feo=1000000/mol_weight_feo# 1 ton= 10^6 grams \n",
    "En_per_ton_feo=En_per_mol_feo*mol_per_ton_feo\n",
    "print(\"Energy per ton feo :\",En_per_ton_feo)\n",
    "En_feo=En_per_ton_feo*Feo_percentage\n",
    "print(\"Energy contained in the feo stream exiting the reactor\",En_feo) #In Kj/tls\n",
    "\n",
    "### Energy contained in the iron ore stream\n",
    "def fe_enthalpy(T):\n",
    "    t=T/1000\n",
    "    A=23.97449\n",
    "    B=8.367750\n",
    "    C=0.000277\n",
    "    D=-0.000088\n",
    "    E=-0.000005\n",
    "    F=0.268027\n",
    "    G=62.06336\n",
    "    H=7.788015    \n",
    "    H_t=A*t +(B*t*t)/2 +(C*t*t*t)/3 + (D*t*t*t*t)/4-(E/t)+F-H\n",
    "    return H_t\n",
    "#H_f=247000 # Melting enthalpy of steel per ton in Kj/ton https://materialsdata.nist.gov/bitstream/handle/11115/166/Thermophysical%20Properties.pdf?sequence=3\n",
    "T_dri=873\n",
    "En_per_mol_fe=fe_enthalpy(T_dri)# Enthalpy of direct reduced iron at the output of the reactor\n",
    "print(En_per_mol_fe)\n",
    "mol_weight_fe=55.845 #in grams\n",
    "mol_per_ton_fe=1000000/mol_weight_fe # 1 ton= 10^6 grams \n",
    "En_fe=En_per_mol_fe*mol_per_ton_fe*iron_ore_dri*Total_fe2O3*(alpha)*iron_oxygen_ratio\n",
    "print(\"Energy per ton of DRI\", En_fe) #In Kj/ton\n",
    "\n",
    "\n",
    "H_imp_dri=(sio2_enthalpy(T_dri_exit)*mol_per_ton_sio2*SIO2_weight) +(Al2O3_enthalpy(T_dri_exit)*mol_per_ton_al2o3*AL2O3_weight) +En_feo + En_fe\n",
    "print(\"Energy exiting through the impurities contained in the solid stream at 600 C :\",H_imp_dri)\n"
   ]
  },
  {
   "cell_type": "markdown",
   "metadata": {},
   "source": [
    "## Energy balance for the shaft furnace \n"
   ]
  },
  {
   "cell_type": "markdown",
   "metadata": {},
   "source": [
    "**H_h2=H_Fe2O3 + H_imp_dri+ H_offgas+ reaction_enthalpy"
   ]
  },
  {
   "cell_type": "code",
   "execution_count": 26,
   "metadata": {},
   "outputs": [
    {
     "name": "stdout",
     "output_type": "stream",
     "text": [
      "Enthalpy of hydrogen with different values of lambda: [696765.2108782253, 1045147.8163173379, 1393530.4217564506, 1741913.027195563, 2090295.6326346758, 2438678.2380737886, 2787060.843512901, 3135443.4489520136, 3483826.054391126]\n",
      "H_difference [239059.02810269536, 440439.74747521745, 641820.46684774, 843201.1862202619, 1044581.9055927839, 1245962.624965306, 1447343.344337828, 1648724.06371035, 1850104.7830828722]\n"
     ]
    },
    {
     "data": {
      "text/plain": [
       "Text(0,0.5,'Enthalpy difference')"
      ]
     },
     "execution_count": 26,
     "metadata": {},
     "output_type": "execute_result"
    },
    {
     "data": {
      "image/png": "[encoded data removed]",
      "text/plain": [
       "<Figure size 432x288 with 1 Axes>"
      ]
     },
     "metadata": {},
     "output_type": "display_data"
    }
   ],
   "source": [
    "H_h2=[]\n",
    "for i in range(9):\n",
    "    H_h2.append(H2_per_ts*H2_EN_per_kg*lambda_h2[i]) # To find the value of input energy based on the variation in lambda\n",
    "print(\"Enthalpy of hydrogen with different values of lambda:\",H_h2)\n",
    " \n",
    "H_difference=[] # Difference between the input energy and output energy as defined in the equation above \n",
    "for i in range(9):\n",
    "    H_difference.append((H_h2[i]+H_ore_heat-H_imp_dri-H_offgas[i]-dhr_per_ts)) # value in KJ This can also be understood as the losses \n",
    "print(\"H_difference\",H_difference)\n",
    "import matplotlib.pyplot as plt \n",
    "plt.plot(lambda_h2,H_difference)\n",
    "plt.xlabel('lambda_h2')\n",
    "plt.ylabel('Enthalpy difference')\n",
    "\n"
   ]
  },
  {
   "cell_type": "code",
   "execution_count": 24,
   "metadata": {},
   "outputs": [
    {
     "data": {
      "text/plain": [
       "Text(0,0.5,'H_offgas')"
      ]
     },
     "execution_count": 24,
     "metadata": {},
     "output_type": "execute_result"
    },
    {
     "data": {
      "image/png": "[encoded data removed]",
      "text/plain": [
       "<Figure size 432x288 with 1 Axes>"
      ]
     },
     "metadata": {},
     "output_type": "display_data"
    }
   ],
   "source": [
    "plt.plot(lambda_h2,H_offgas)\n",
    "plt.xlabel('lambda_h2')\n",
    "plt.ylabel('H_offgas')"
   ]
  },
  {
   "cell_type": "code",
   "execution_count": 25,
   "metadata": {},
   "outputs": [
    {
     "data": {
      "text/plain": [
       "Text(0,0.5,'H_h2')"
      ]
     },
     "execution_count": 25,
     "metadata": {},
     "output_type": "execute_result"
    },
    {
     "data": {
      "image/png": "[encoded data removed]",
      "text/plain": [
       "<Figure size 432x288 with 1 Axes>"
      ]
     },
     "metadata": {},
     "output_type": "display_data"
    }
   ],
   "source": [
    "plt.plot(lambda_h2,H_h2)\n",
    "plt.xlabel('lambda_h2')\n",
    "plt.ylabel('H_h2')"
   ]
  },
  {
   "cell_type": "code",
   "execution_count": null,
   "metadata": {},
   "outputs": [],
   "source": []
  }
 ],
 "metadata": {
  "kernelspec": {
   "display_name": "Python 3",
   "language": "python",
   "name": "python3"
  },
  "language_info": {
   "codemirror_mode": {
    "name": "ipython",
    "version": 3
   },
   "file_extension": ".py",
   "mimetype": "text/x-python",
   "name": "python",
   "nbconvert_exporter": "python",
   "pygments_lexer": "ipython3",
   "version": "3.6.5"
  }
 },
 "nbformat": 4,
 "nbformat_minor": 2
}
